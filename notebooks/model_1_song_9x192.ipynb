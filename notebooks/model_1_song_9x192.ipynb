{
 "cells": [
  {
   "attachments": {},
   "cell_type": "markdown",
   "metadata": {},
   "source": [
    "# __CNN__"
   ]
  },
  {
   "attachments": {},
   "cell_type": "markdown",
   "metadata": {},
   "source": [
    "We decide to use CNN(convolutional neural networks) for the task of guitar tablature estimation. The previous work of Andrew Wiggins and Youngmoo Kim showed that CNNs have shown promise for translating guitar audios to tabs, and the use of CNNs has also been explored for various other tasks within music information retrieval such as musical tempo estimation, key classification, singing voice detection, and instrument classification. It is proven that CNN is a powerful tool for the purpose of our study."
   ]
  },
  {
   "attachments": {},
   "cell_type": "markdown",
   "metadata": {},
   "source": [
    "## __Import libraries__"
   ]
  },
  {
   "cell_type": "code",
   "execution_count": 1,
   "metadata": {},
   "outputs": [],
   "source": [
    "# Import required packages \n",
    "\n",
    "#various\n",
    "import datetime\n",
    "import pathlib\n",
    "import IPython.display as display\n",
    "import matplotlib.pyplot as plt\n",
    "import pandas as pd\n",
    "import numpy as np\n",
    "import os\n",
    "from PIL import Image\n",
    "import warnings\n",
    "\n",
    "\n",
    "#sklearn\n",
    "from sklearn.model_selection import train_test_split\n",
    "from sklearn.metrics import precision_score\n",
    "\n",
    "#tensorflow\n",
    "import tensorflow as tf\n",
    "import tensorflow_hub as hub\n",
    "from tensorflow import keras\n",
    "#from tensorflow.keras import layers\n",
    "\n",
    "#keras\n",
    "import keras\n",
    "from keras.datasets import mnist\n",
    "from keras.models import Sequential\n",
    "from keras.layers import Dense, Dropout, Flatten\n",
    "from keras.layers import Conv2D, MaxPooling2D\n",
    "from keras.callbacks import ReduceLROnPlateau\n",
    "from keras import backend as K\n",
    "\n",
    "# Load the TensorBoard notebook extension\n",
    "%load_ext tensorboard\n",
    "\n",
    "RSEED = 42\n",
    "\n",
    "warnings.filterwarnings('ignore')"
   ]
  },
  {
   "cell_type": "code",
   "execution_count": 2,
   "metadata": {},
   "outputs": [
    {
     "name": "stdout",
     "output_type": "stream",
     "text": [
      "2.8.0\n"
     ]
    }
   ],
   "source": [
    "# Check for Tensorflow version\n",
    "print(tf.__version__)\n",
    "tf.compat.v1.logging.set_verbosity(tf.compat.v1.logging.INFO)"
   ]
  },
  {
   "attachments": {},
   "cell_type": "markdown",
   "metadata": {},
   "source": [
    "## __Define Input Shapes__"
   ]
  },
  {
   "cell_type": "code",
   "execution_count": 3,
   "metadata": {},
   "outputs": [],
   "source": [
    "#Definition of all our constants we use for our model \n",
    "\n",
    "FRAME_HEIGHT = 9\n",
    "FRAME_WIDTH = 192\n",
    "N_CLASSES = 21\n",
    "N_STRINGS = 6\n",
    "BATCH_SIZE = 128\n",
    "EPOCHS = 200"
   ]
  },
  {
   "attachments": {},
   "cell_type": "markdown",
   "metadata": {},
   "source": [
    "Using Tensorboard to monitor our results:"
   ]
  },
  {
   "cell_type": "code",
   "execution_count": 4,
   "metadata": {},
   "outputs": [],
   "source": [
    "#%tensorboard --logdir logs/fit"
   ]
  },
  {
   "attachments": {},
   "cell_type": "markdown",
   "metadata": {},
   "source": [
    "## __Load Data__"
   ]
  },
  {
   "cell_type": "code",
   "execution_count": 5,
   "metadata": {},
   "outputs": [],
   "source": [
    "#we load the data from our output folder from preprocessing\n",
    "INPUT_PATH = \"../data/output/\"\n",
    "save_path = \"../app/model/\"\n",
    "\n",
    "#for all\n",
    "# IMAGES = np.load(INPUT_PATH + 'training_data_all_75.npz')\n",
    "# annots = np.load(INPUT_PATH + 'training_labels_all_75.npz')\n",
    "\n",
    "\n",
    "# for solo  \n",
    "IMAGES = np.load(INPUT_PATH + '05_Rock3-117-Bb_solo_hex_cln_data_portrait.npz')\n",
    "annots = np.load(INPUT_PATH + '05_Rock3-117-Bb_solo_hex_cln_labels_portrait.npz')"
   ]
  },
  {
   "attachments": {},
   "cell_type": "markdown",
   "metadata": {},
   "source": [
    "## __Do train & test split__"
   ]
  },
  {
   "cell_type": "code",
   "execution_count": 6,
   "metadata": {},
   "outputs": [],
   "source": [
    "#First we have to split our dataset into train and test set. We use 70% for the train set and 30% for the test set.\n",
    "train_images, test_images, train_annots, test_annots = train_test_split(IMAGES['arr_0'], annots['arr_0'], test_size= 0.2, shuffle=True, random_state= RSEED )"
   ]
  },
  {
   "cell_type": "code",
   "execution_count": 7,
   "metadata": {},
   "outputs": [],
   "source": [
    "#Because we need also a validation set we split once more. We take this time 10% of the train set for \n",
    "#the validation set and take the rest for training.\n",
    "train_images, validate_images,train_annots,validate_annots = train_test_split(train_images, train_annots, test_size = 0.1, shuffle=True, random_state = RSEED)"
   ]
  },
  {
   "cell_type": "code",
   "execution_count": 8,
   "metadata": {},
   "outputs": [
    {
     "name": "stdout",
     "output_type": "stream",
     "text": [
      "(455, 9, 192)\n",
      "(127, 9, 192)\n",
      "(51, 9, 192)\n",
      "(455, 6, 21)\n",
      "(127, 6, 21)\n",
      "(51, 6, 21)\n"
     ]
    }
   ],
   "source": [
    "#let's have a look on the different shapes of our sets\n",
    "print(train_images.shape)\n",
    "print(test_images.shape)\n",
    "print(validate_images.shape)\n",
    "print(train_annots.shape)\n",
    "print(test_annots.shape)\n",
    "print(validate_annots.shape)\n",
    "\n"
   ]
  },
  {
   "attachments": {},
   "cell_type": "markdown",
   "metadata": {},
   "source": [
    "## __Define our softmax function by string__"
   ]
  },
  {
   "cell_type": "code",
   "execution_count": 9,
   "metadata": {},
   "outputs": [],
   "source": [
    "def softmax_by_string(t):\n",
    "        sh = K.shape(t)\n",
    "        string_sm = []\n",
    "        for i in range(N_STRINGS):\n",
    "            string_sm.append(K.expand_dims(K.softmax(t[:,i,:]), axis=1))\n",
    "        return K.concatenate(string_sm, axis=1)"
   ]
  },
  {
   "cell_type": "code",
   "execution_count": 10,
   "metadata": {},
   "outputs": [],
   "source": [
    "def catcross_by_string(target, output):\n",
    "        loss = 0\n",
    "        for i in range(N_STRINGS):\n",
    "            loss += K.categorical_crossentropy(target[:,i,:], output[:,i,:])\n",
    "        return loss"
   ]
  },
  {
   "cell_type": "code",
   "execution_count": 11,
   "metadata": {},
   "outputs": [],
   "source": [
    "def avg_acc(y_true, y_pred):\n",
    "        return K.mean(K.equal(K.argmax(y_true, axis=-1), K.argmax(y_pred, axis=-1)))"
   ]
  },
  {
   "attachments": {},
   "cell_type": "markdown",
   "metadata": {},
   "source": [
    "## __Building our CNN Model__"
   ]
  },
  {
   "cell_type": "code",
   "execution_count": 12,
   "metadata": {},
   "outputs": [],
   "source": [
    "#the function of our cnn model\n",
    "'''what it takes:\n",
    "- a picture with a certain frame height(192pixel) and a frame width(9 pixel)\n",
    "- only one color channel, therefore as a grayscale image\n",
    "\n",
    "what it deliver:\n",
    "\n",
    "An array with the size 6x21. This is representing the 6 different strings of a guitar and 19 different \n",
    "frets of the guitar. The other 2 of the 21 entries represent, if a string is played or not played.\n",
    "\n",
    "The different layers we used you can easily extract from below.\n",
    "'''\n",
    "\n",
    "def cnn_swizzle_model():       \n",
    "        swizzle_model = tf.keras.Sequential()\n",
    "        swizzle_model.add(tf.keras.layers.InputLayer(input_shape=[FRAME_HEIGHT, FRAME_WIDTH, 1]))\n",
    "        swizzle_model.add(tf.keras.layers.Conv2D(filters=32, kernel_size=(3, 3),activation='relu'))\n",
    "        swizzle_model.add(tf.keras.layers.Conv2D(filters=64, kernel_size=(3, 3), activation='relu'))\n",
    "        swizzle_model.add(tf.keras.layers.Conv2D(filters=64, kernel_size=(3, 3), activation='relu'))\n",
    "        swizzle_model.add(tf.keras.layers.MaxPooling2D(pool_size=(2, 2)))\n",
    "        swizzle_model.add(tf.keras.layers.Dropout(0.25))   \n",
    "        swizzle_model.add(tf.keras.layers.Flatten())\n",
    "        swizzle_model.add(tf.keras.layers.Dense(128, activation='relu'))\n",
    "        swizzle_model.add(tf.keras.layers.Dropout(0.5))\n",
    "        swizzle_model.add(tf.keras.layers.Dense(N_CLASSES * N_STRINGS))\n",
    "        swizzle_model.add(tf.keras.layers.Reshape((N_STRINGS, N_CLASSES)))\n",
    "        swizzle_model.add(tf.keras.layers.Activation(softmax_by_string))\n",
    "        return swizzle_model"
   ]
  },
  {
   "cell_type": "code",
   "execution_count": 13,
   "metadata": {},
   "outputs": [
    {
     "name": "stdout",
     "output_type": "stream",
     "text": [
      "Metal device set to: Apple M1\n",
      "\n",
      "systemMemory: 8.00 GB\n",
      "maxCacheSize: 2.67 GB\n",
      "\n"
     ]
    },
    {
     "name": "stderr",
     "output_type": "stream",
     "text": [
      "2023-01-17 11:46:25.218983: I tensorflow/core/common_runtime/pluggable_device/pluggable_device_factory.cc:305] Could not identify NUMA node of platform GPU ID 0, defaulting to 0. Your kernel may not have been built with NUMA support.\n",
      "2023-01-17 11:46:25.219342: I tensorflow/core/common_runtime/pluggable_device/pluggable_device_factory.cc:271] Created TensorFlow device (/job:localhost/replica:0/task:0/device:GPU:0 with 0 MB memory) -> physical PluggableDevice (device: 0, name: METAL, pci bus id: <undefined>)\n"
     ]
    }
   ],
   "source": [
    "#this is our swizzle model\n",
    "swizzle_model = cnn_swizzle_model()\n"
   ]
  },
  {
   "cell_type": "code",
   "execution_count": 14,
   "metadata": {},
   "outputs": [
    {
     "name": "stdout",
     "output_type": "stream",
     "text": [
      "Model: \"sequential\"\n",
      "_________________________________________________________________\n",
      " Layer (type)                Output Shape              Param #   \n",
      "=================================================================\n",
      " conv2d (Conv2D)             (None, 7, 190, 32)        320       \n",
      "                                                                 \n",
      " conv2d_1 (Conv2D)           (None, 5, 188, 64)        18496     \n",
      "                                                                 \n",
      " conv2d_2 (Conv2D)           (None, 3, 186, 64)        36928     \n",
      "                                                                 \n",
      " max_pooling2d (MaxPooling2D  (None, 1, 93, 64)        0         \n",
      " )                                                               \n",
      "                                                                 \n",
      " dropout (Dropout)           (None, 1, 93, 64)         0         \n",
      "                                                                 \n",
      " flatten (Flatten)           (None, 5952)              0         \n",
      "                                                                 \n",
      " dense (Dense)               (None, 128)               761984    \n",
      "                                                                 \n",
      " dropout_1 (Dropout)         (None, 128)               0         \n",
      "                                                                 \n",
      " dense_1 (Dense)             (None, 126)               16254     \n",
      "                                                                 \n",
      " reshape (Reshape)           (None, 6, 21)             0         \n",
      "                                                                 \n",
      " activation (Activation)     (None, 6, 21)             0         \n",
      "                                                                 \n",
      "=================================================================\n",
      "Total params: 833,982\n",
      "Trainable params: 833,982\n",
      "Non-trainable params: 0\n",
      "_________________________________________________________________\n"
     ]
    }
   ],
   "source": [
    "#let's have a look on the model summary to see the different layers and their shapes\n",
    "#we have 3 dimensions in the beginning, then flatten to 1 Dimension for the dense layers and after them\n",
    "#create the end shape representing the guitar with 6 strings and 21 frets\n",
    "swizzle_model.summary()"
   ]
  },
  {
   "attachments": {},
   "cell_type": "markdown",
   "metadata": {},
   "source": [
    "## Define model metrics for the cnn"
   ]
  },
  {
   "cell_type": "code",
   "execution_count": 15,
   "metadata": {},
   "outputs": [],
   "source": [
    "'''\n",
    "Metric: For our model we will use the accuracy metric, because we want to have o good overall \n",
    "prediction of our model. Besides that, for us every tone has the same importance so all classes\n",
    "have the same importance.\n",
    "\n",
    "Optimizer: As an optimizer we take the adam optimizer, which is fast enough to handle our data \n",
    "in a short time\n",
    "\n",
    "Loss function: For the loss function we used categorical crossentropy because we have multiple classes or labels\n",
    "with soft probabilities like [0.5, 0.3, 0.2] and also have a shape like a one-hot-encoded array.\n",
    "'''\n",
    "\n",
    "metrics = avg_acc\n",
    "\n",
    "optimizer = tf.keras.optimizers.Adadelta(learning_rate=1.0)\n",
    "\n",
    "loss='categorical_crossentropy'\n",
    "\n",
    "swizzle_model.compile(loss=catcross_by_string, optimizer=optimizer, metrics= metrics)"
   ]
  },
  {
   "attachments": {},
   "cell_type": "markdown",
   "metadata": {},
   "source": [
    "## Use annealer to decrease learning rate after given epochs"
   ]
  },
  {
   "cell_type": "code",
   "execution_count": 16,
   "metadata": {},
   "outputs": [],
   "source": [
    "# Set a learning rate annealer\n",
    "'''\n",
    "With the ReduceLROnPlateau function from Keras.callbacks, \n",
    "we choose to reduce the Learning Rate by half if the accuracy is not improved after 3 epochs.\n",
    "'''\n",
    "learning_rate_reduction = ReduceLROnPlateau(monitor='val_accuracy', patience=3, verbose=1, factor=0.5, min_lr=0.0001)"
   ]
  },
  {
   "attachments": {},
   "cell_type": "markdown",
   "metadata": {},
   "source": [
    "## __Train CNN__"
   ]
  },
  {
   "cell_type": "code",
   "execution_count": 17,
   "metadata": {},
   "outputs": [],
   "source": [
    "#Create folder for model \n",
    "'''This function takes the path of a new folder and create a new one. \n",
    "If the folder already exists, it will pass.'''\n",
    "def my_makedirs(path):\n",
    "    if not os.path.isdir(path):\n",
    "        os.makedirs(path)\n",
    "\n",
    "my_makedirs('../app/model')"
   ]
  },
  {
   "cell_type": "code",
   "execution_count": 18,
   "metadata": {},
   "outputs": [],
   "source": [
    "csv_logger = tf.keras.callbacks.CSVLogger('../data/model/metrics_op.csv')"
   ]
  },
  {
   "cell_type": "code",
   "execution_count": 19,
   "metadata": {},
   "outputs": [
    {
     "name": "stdout",
     "output_type": "stream",
     "text": [
      "Epoch 1/200\n"
     ]
    },
    {
     "name": "stderr",
     "output_type": "stream",
     "text": [
      "2023-01-17 11:46:25.594255: W tensorflow/core/platform/profile_utils/cpu_utils.cc:128] Failed to get CPU frequency: 0 Hz\n",
      "2023-01-17 11:46:26.292345: I tensorflow/core/grappler/optimizers/custom_graph_optimizer_registry.cc:113] Plugin optimizer for device_type GPU is enabled.\n"
     ]
    },
    {
     "name": "stdout",
     "output_type": "stream",
     "text": [
      "4/4 [==============================] - ETA: 0s - loss: 15.3401 - avg_acc: 0.4845"
     ]
    },
    {
     "name": "stderr",
     "output_type": "stream",
     "text": [
      "2023-01-17 11:46:27.955547: I tensorflow/core/grappler/optimizers/custom_graph_optimizer_registry.cc:113] Plugin optimizer for device_type GPU is enabled.\n"
     ]
    },
    {
     "name": "stdout",
     "output_type": "stream",
     "text": [
      "4/4 [==============================] - 3s 277ms/step - loss: 15.3401 - avg_acc: 0.4845 - val_loss: 4.7717 - val_avg_acc: 0.8660\n",
      "Epoch 2/200\n",
      "4/4 [==============================] - 0s 57ms/step - loss: 6.0146 - avg_acc: 0.7905 - val_loss: 3.5734 - val_avg_acc: 0.8791\n",
      "Epoch 3/200\n",
      "4/4 [==============================] - 0s 52ms/step - loss: 4.2164 - avg_acc: 0.8379 - val_loss: 2.2639 - val_avg_acc: 0.8889\n",
      "Epoch 4/200\n",
      "4/4 [==============================] - 0s 53ms/step - loss: 2.8567 - avg_acc: 0.8733 - val_loss: 1.8075 - val_avg_acc: 0.8987\n",
      "Epoch 5/200\n",
      "4/4 [==============================] - 0s 54ms/step - loss: 3.1999 - avg_acc: 0.8612 - val_loss: 1.6776 - val_avg_acc: 0.9020\n",
      "Epoch 6/200\n",
      "4/4 [==============================] - 0s 51ms/step - loss: 2.4983 - avg_acc: 0.8813 - val_loss: 1.6032 - val_avg_acc: 0.9118\n",
      "Epoch 7/200\n",
      "4/4 [==============================] - 0s 50ms/step - loss: 1.6619 - avg_acc: 0.9136 - val_loss: 1.3640 - val_avg_acc: 0.9183\n",
      "Epoch 8/200\n",
      "4/4 [==============================] - 0s 49ms/step - loss: 1.7126 - avg_acc: 0.9109 - val_loss: 1.2854 - val_avg_acc: 0.9183\n",
      "Epoch 9/200\n",
      "4/4 [==============================] - 0s 50ms/step - loss: 1.3171 - avg_acc: 0.9303 - val_loss: 1.0537 - val_avg_acc: 0.9477\n",
      "Epoch 10/200\n",
      "4/4 [==============================] - 0s 50ms/step - loss: 1.1748 - avg_acc: 0.9333 - val_loss: 0.8420 - val_avg_acc: 0.9412\n",
      "Epoch 11/200\n",
      "4/4 [==============================] - 0s 69ms/step - loss: 1.0652 - avg_acc: 0.9370 - val_loss: 0.7185 - val_avg_acc: 0.9575\n",
      "Epoch 12/200\n",
      "4/4 [==============================] - 0s 76ms/step - loss: 1.1357 - avg_acc: 0.9313 - val_loss: 0.7320 - val_avg_acc: 0.9706\n",
      "Epoch 13/200\n",
      "4/4 [==============================] - 0s 52ms/step - loss: 0.8069 - avg_acc: 0.9550 - val_loss: 0.6423 - val_avg_acc: 0.9542\n",
      "Epoch 14/200\n",
      "4/4 [==============================] - 0s 62ms/step - loss: 0.7808 - avg_acc: 0.9521 - val_loss: 0.9635 - val_avg_acc: 0.9346\n",
      "Epoch 15/200\n",
      "4/4 [==============================] - 0s 55ms/step - loss: 0.9080 - avg_acc: 0.9539 - val_loss: 0.6066 - val_avg_acc: 0.9673\n",
      "Epoch 16/200\n",
      "4/4 [==============================] - 0s 50ms/step - loss: 0.7315 - avg_acc: 0.9535 - val_loss: 0.7135 - val_avg_acc: 0.9641\n",
      "Epoch 17/200\n",
      "4/4 [==============================] - 0s 61ms/step - loss: 0.7032 - avg_acc: 0.9595 - val_loss: 0.4783 - val_avg_acc: 0.9706\n",
      "Epoch 18/200\n",
      "4/4 [==============================] - 0s 65ms/step - loss: 0.6235 - avg_acc: 0.9681 - val_loss: 0.3186 - val_avg_acc: 0.9837\n",
      "Epoch 19/200\n",
      "4/4 [==============================] - 0s 50ms/step - loss: 0.4097 - avg_acc: 0.9723 - val_loss: 0.3985 - val_avg_acc: 0.9739\n",
      "Epoch 20/200\n",
      "4/4 [==============================] - 0s 50ms/step - loss: 0.4452 - avg_acc: 0.9753 - val_loss: 0.2419 - val_avg_acc: 0.9804\n",
      "Epoch 21/200\n",
      "4/4 [==============================] - 0s 49ms/step - loss: 0.4393 - avg_acc: 0.9751 - val_loss: 0.2355 - val_avg_acc: 0.9804\n",
      "Epoch 22/200\n",
      "4/4 [==============================] - 0s 49ms/step - loss: 0.3887 - avg_acc: 0.9784 - val_loss: 0.2697 - val_avg_acc: 0.9837\n",
      "Epoch 23/200\n",
      "4/4 [==============================] - 0s 50ms/step - loss: 0.3653 - avg_acc: 0.9759 - val_loss: 0.1698 - val_avg_acc: 0.9902\n",
      "Epoch 24/200\n",
      "4/4 [==============================] - 0s 50ms/step - loss: 0.4979 - avg_acc: 0.9682 - val_loss: 0.1995 - val_avg_acc: 0.9869\n",
      "Epoch 25/200\n",
      "4/4 [==============================] - 0s 50ms/step - loss: 0.3167 - avg_acc: 0.9812 - val_loss: 0.2395 - val_avg_acc: 0.9935\n",
      "Epoch 26/200\n",
      "4/4 [==============================] - 0s 50ms/step - loss: 0.3718 - avg_acc: 0.9715 - val_loss: 0.3500 - val_avg_acc: 0.9837\n",
      "Epoch 27/200\n",
      "4/4 [==============================] - 0s 49ms/step - loss: 0.4212 - avg_acc: 0.9784 - val_loss: 0.3745 - val_avg_acc: 0.9869\n",
      "Epoch 28/200\n",
      "4/4 [==============================] - 0s 50ms/step - loss: 0.3094 - avg_acc: 0.9813 - val_loss: 0.1672 - val_avg_acc: 0.9902\n",
      "Epoch 29/200\n",
      "4/4 [==============================] - 0s 49ms/step - loss: 0.2848 - avg_acc: 0.9843 - val_loss: 0.2553 - val_avg_acc: 0.9935\n",
      "Epoch 30/200\n",
      "4/4 [==============================] - 0s 49ms/step - loss: 0.2886 - avg_acc: 0.9822 - val_loss: 0.1066 - val_avg_acc: 0.9935\n",
      "Epoch 31/200\n",
      "4/4 [==============================] - 0s 49ms/step - loss: 0.2194 - avg_acc: 0.9895 - val_loss: 0.1084 - val_avg_acc: 0.9935\n",
      "Epoch 32/200\n",
      "4/4 [==============================] - 0s 50ms/step - loss: 0.1990 - avg_acc: 0.9881 - val_loss: 0.2327 - val_avg_acc: 0.9869\n",
      "Epoch 33/200\n",
      "4/4 [==============================] - 0s 49ms/step - loss: 0.2509 - avg_acc: 0.9857 - val_loss: 0.2224 - val_avg_acc: 0.9902\n",
      "Epoch 34/200\n",
      "4/4 [==============================] - 0s 62ms/step - loss: 0.2095 - avg_acc: 0.9883 - val_loss: 0.0806 - val_avg_acc: 0.9935\n",
      "Epoch 35/200\n",
      "4/4 [==============================] - 0s 56ms/step - loss: 0.2049 - avg_acc: 0.9867 - val_loss: 0.1302 - val_avg_acc: 0.9935\n",
      "Epoch 36/200\n",
      "4/4 [==============================] - 0s 50ms/step - loss: 0.2149 - avg_acc: 0.9842 - val_loss: 0.1675 - val_avg_acc: 0.9902\n",
      "Epoch 37/200\n",
      "4/4 [==============================] - 0s 50ms/step - loss: 0.2470 - avg_acc: 0.9875 - val_loss: 0.1042 - val_avg_acc: 0.9967\n",
      "Epoch 38/200\n",
      "4/4 [==============================] - 0s 51ms/step - loss: 0.2180 - avg_acc: 0.9881 - val_loss: 0.1914 - val_avg_acc: 0.9869\n",
      "Epoch 39/200\n",
      "4/4 [==============================] - 0s 66ms/step - loss: 0.2043 - avg_acc: 0.9879 - val_loss: 0.0961 - val_avg_acc: 0.9935\n",
      "Epoch 40/200\n",
      "4/4 [==============================] - 0s 52ms/step - loss: 0.1942 - avg_acc: 0.9896 - val_loss: 0.2086 - val_avg_acc: 0.9935\n",
      "Epoch 41/200\n",
      "4/4 [==============================] - 0s 49ms/step - loss: 0.1919 - avg_acc: 0.9895 - val_loss: 0.1878 - val_avg_acc: 0.9902\n",
      "Epoch 42/200\n",
      "4/4 [==============================] - 0s 50ms/step - loss: 0.1671 - avg_acc: 0.9930 - val_loss: 0.1040 - val_avg_acc: 0.9967\n",
      "Epoch 43/200\n",
      "4/4 [==============================] - 0s 51ms/step - loss: 0.1051 - avg_acc: 0.9919 - val_loss: 0.2745 - val_avg_acc: 0.9902\n",
      "Epoch 44/200\n",
      "4/4 [==============================] - 0s 65ms/step - loss: 0.1207 - avg_acc: 0.9934 - val_loss: 0.1415 - val_avg_acc: 0.9935\n",
      "Epoch 45/200\n",
      "4/4 [==============================] - 0s 61ms/step - loss: 0.1238 - avg_acc: 0.9915 - val_loss: 0.0718 - val_avg_acc: 0.9935\n",
      "Epoch 46/200\n",
      "4/4 [==============================] - 0s 54ms/step - loss: 0.1343 - avg_acc: 0.9911 - val_loss: 0.1378 - val_avg_acc: 0.9967\n",
      "Epoch 47/200\n",
      "4/4 [==============================] - 0s 51ms/step - loss: 0.1729 - avg_acc: 0.9913 - val_loss: 0.0980 - val_avg_acc: 0.9902\n",
      "Epoch 48/200\n",
      "4/4 [==============================] - 0s 56ms/step - loss: 0.1337 - avg_acc: 0.9924 - val_loss: 0.0551 - val_avg_acc: 0.9935\n",
      "Epoch 49/200\n",
      "4/4 [==============================] - 0s 60ms/step - loss: 0.1347 - avg_acc: 0.9918 - val_loss: 0.1183 - val_avg_acc: 0.9935\n",
      "Epoch 50/200\n",
      "4/4 [==============================] - 0s 53ms/step - loss: 0.1797 - avg_acc: 0.9890 - val_loss: 0.0935 - val_avg_acc: 0.9902\n",
      "Epoch 51/200\n",
      "4/4 [==============================] - 0s 52ms/step - loss: 0.1427 - avg_acc: 0.9921 - val_loss: 0.1929 - val_avg_acc: 0.9902\n",
      "Epoch 52/200\n",
      "4/4 [==============================] - 0s 54ms/step - loss: 0.1243 - avg_acc: 0.9934 - val_loss: 0.0567 - val_avg_acc: 0.9935\n",
      "Epoch 53/200\n",
      "4/4 [==============================] - 0s 52ms/step - loss: 0.1116 - avg_acc: 0.9923 - val_loss: 0.2795 - val_avg_acc: 0.9902\n",
      "Epoch 54/200\n",
      "4/4 [==============================] - 0s 52ms/step - loss: 0.1783 - avg_acc: 0.9936 - val_loss: 0.0746 - val_avg_acc: 0.9967\n",
      "Epoch 55/200\n",
      "4/4 [==============================] - 0s 72ms/step - loss: 0.1064 - avg_acc: 0.9941 - val_loss: 0.0881 - val_avg_acc: 0.9902\n",
      "Epoch 56/200\n",
      "4/4 [==============================] - 0s 60ms/step - loss: 0.1026 - avg_acc: 0.9935 - val_loss: 0.1556 - val_avg_acc: 0.9935\n",
      "Epoch 57/200\n",
      "4/4 [==============================] - 0s 54ms/step - loss: 0.1665 - avg_acc: 0.9917 - val_loss: 0.0627 - val_avg_acc: 0.9967\n",
      "Epoch 58/200\n",
      "4/4 [==============================] - 0s 53ms/step - loss: 0.0998 - avg_acc: 0.9947 - val_loss: 0.1433 - val_avg_acc: 0.9967\n",
      "Epoch 59/200\n",
      "4/4 [==============================] - 0s 53ms/step - loss: 0.1201 - avg_acc: 0.9917 - val_loss: 0.0850 - val_avg_acc: 0.9935\n",
      "Epoch 60/200\n",
      "4/4 [==============================] - 0s 51ms/step - loss: 0.0884 - avg_acc: 0.9939 - val_loss: 0.1270 - val_avg_acc: 0.9902\n",
      "Epoch 61/200\n",
      "4/4 [==============================] - 0s 53ms/step - loss: 0.0687 - avg_acc: 0.9960 - val_loss: 0.1385 - val_avg_acc: 0.9935\n",
      "Epoch 62/200\n",
      "4/4 [==============================] - 0s 52ms/step - loss: 0.1117 - avg_acc: 0.9925 - val_loss: 0.2030 - val_avg_acc: 0.9935\n",
      "Epoch 63/200\n",
      "4/4 [==============================] - 0s 51ms/step - loss: 0.1133 - avg_acc: 0.9930 - val_loss: 0.2044 - val_avg_acc: 0.9902\n",
      "Epoch 64/200\n",
      "4/4 [==============================] - 0s 52ms/step - loss: 0.0762 - avg_acc: 0.9956 - val_loss: 0.0843 - val_avg_acc: 0.9935\n",
      "Epoch 65/200\n",
      "4/4 [==============================] - 0s 53ms/step - loss: 0.0611 - avg_acc: 0.9967 - val_loss: 0.1123 - val_avg_acc: 0.9935\n",
      "Epoch 66/200\n",
      "4/4 [==============================] - 0s 54ms/step - loss: 0.0453 - avg_acc: 0.9984 - val_loss: 0.1429 - val_avg_acc: 0.9935\n",
      "Epoch 67/200\n",
      "4/4 [==============================] - 0s 53ms/step - loss: 0.0477 - avg_acc: 0.9965 - val_loss: 0.0696 - val_avg_acc: 0.9967\n",
      "Epoch 68/200\n",
      "4/4 [==============================] - 0s 55ms/step - loss: 0.0606 - avg_acc: 0.9967 - val_loss: 0.1066 - val_avg_acc: 0.9935\n",
      "Epoch 69/200\n",
      "4/4 [==============================] - 0s 52ms/step - loss: 0.0389 - avg_acc: 0.9984 - val_loss: 0.1274 - val_avg_acc: 0.9902\n",
      "Epoch 70/200\n",
      "4/4 [==============================] - 0s 52ms/step - loss: 0.1335 - avg_acc: 0.9920 - val_loss: 0.3716 - val_avg_acc: 0.9935\n",
      "Epoch 71/200\n",
      "4/4 [==============================] - 0s 51ms/step - loss: 0.1193 - avg_acc: 0.9930 - val_loss: 0.1300 - val_avg_acc: 0.9935\n",
      "Epoch 72/200\n",
      "4/4 [==============================] - 0s 53ms/step - loss: 0.0737 - avg_acc: 0.9974 - val_loss: 0.0751 - val_avg_acc: 0.9935\n",
      "Epoch 73/200\n",
      "4/4 [==============================] - 0s 52ms/step - loss: 0.0461 - avg_acc: 0.9978 - val_loss: 0.1237 - val_avg_acc: 0.9935\n",
      "Epoch 74/200\n",
      "4/4 [==============================] - 0s 51ms/step - loss: 0.0915 - avg_acc: 0.9943 - val_loss: 0.1467 - val_avg_acc: 0.9935\n",
      "Epoch 75/200\n",
      "4/4 [==============================] - 0s 51ms/step - loss: 0.0531 - avg_acc: 0.9981 - val_loss: 0.1259 - val_avg_acc: 0.9935\n",
      "Epoch 76/200\n",
      "4/4 [==============================] - 0s 53ms/step - loss: 0.0408 - avg_acc: 0.9978 - val_loss: 0.0548 - val_avg_acc: 0.9935\n",
      "Epoch 77/200\n",
      "4/4 [==============================] - 0s 53ms/step - loss: 0.0448 - avg_acc: 0.9966 - val_loss: 0.2434 - val_avg_acc: 0.9902\n",
      "Epoch 78/200\n",
      "4/4 [==============================] - 0s 53ms/step - loss: 0.0567 - avg_acc: 0.9965 - val_loss: 0.0486 - val_avg_acc: 0.9935\n",
      "Epoch 79/200\n",
      "4/4 [==============================] - 0s 53ms/step - loss: 0.0462 - avg_acc: 0.9972 - val_loss: 0.1447 - val_avg_acc: 0.9902\n",
      "Epoch 80/200\n",
      "4/4 [==============================] - 0s 53ms/step - loss: 0.0365 - avg_acc: 0.9982 - val_loss: 0.2005 - val_avg_acc: 0.9902\n",
      "Epoch 81/200\n",
      "4/4 [==============================] - 0s 51ms/step - loss: 0.0532 - avg_acc: 0.9967 - val_loss: 0.0992 - val_avg_acc: 0.9967\n",
      "Epoch 82/200\n",
      "4/4 [==============================] - 0s 52ms/step - loss: 0.0385 - avg_acc: 0.9975 - val_loss: 0.1090 - val_avg_acc: 0.9935\n",
      "Epoch 83/200\n",
      "4/4 [==============================] - 0s 53ms/step - loss: 0.0553 - avg_acc: 0.9963 - val_loss: 0.2015 - val_avg_acc: 0.9935\n",
      "Epoch 84/200\n",
      "4/4 [==============================] - 0s 51ms/step - loss: 0.0619 - avg_acc: 0.9962 - val_loss: 0.0925 - val_avg_acc: 0.9935\n",
      "Epoch 85/200\n",
      "4/4 [==============================] - 0s 52ms/step - loss: 0.0446 - avg_acc: 0.9965 - val_loss: 0.0663 - val_avg_acc: 0.9967\n",
      "Epoch 86/200\n",
      "4/4 [==============================] - 0s 52ms/step - loss: 0.0316 - avg_acc: 0.9990 - val_loss: 0.1099 - val_avg_acc: 0.9935\n",
      "Epoch 87/200\n",
      "4/4 [==============================] - 0s 51ms/step - loss: 0.0313 - avg_acc: 0.9978 - val_loss: 0.1359 - val_avg_acc: 0.9902\n",
      "Epoch 88/200\n",
      "4/4 [==============================] - 0s 52ms/step - loss: 0.0194 - avg_acc: 0.9997 - val_loss: 0.1196 - val_avg_acc: 0.9902\n",
      "Epoch 89/200\n",
      "4/4 [==============================] - 0s 53ms/step - loss: 0.0347 - avg_acc: 0.9973 - val_loss: 0.1678 - val_avg_acc: 0.9935\n",
      "Epoch 90/200\n",
      "4/4 [==============================] - 0s 52ms/step - loss: 0.0451 - avg_acc: 0.9975 - val_loss: 0.1288 - val_avg_acc: 0.9902\n",
      "Epoch 91/200\n",
      "4/4 [==============================] - 0s 53ms/step - loss: 0.0283 - avg_acc: 0.9984 - val_loss: 0.1313 - val_avg_acc: 0.9902\n",
      "Epoch 92/200\n",
      "4/4 [==============================] - 0s 54ms/step - loss: 0.0203 - avg_acc: 0.9991 - val_loss: 0.1432 - val_avg_acc: 0.9935\n",
      "Epoch 93/200\n",
      "4/4 [==============================] - 0s 52ms/step - loss: 0.0363 - avg_acc: 0.9984 - val_loss: 0.2220 - val_avg_acc: 0.9902\n",
      "Epoch 94/200\n",
      "4/4 [==============================] - 0s 52ms/step - loss: 0.0504 - avg_acc: 0.9974 - val_loss: 0.0927 - val_avg_acc: 0.9967\n",
      "Epoch 95/200\n",
      "4/4 [==============================] - 0s 53ms/step - loss: 0.1144 - avg_acc: 0.9919 - val_loss: 0.1180 - val_avg_acc: 0.9935\n",
      "Epoch 96/200\n",
      "4/4 [==============================] - 0s 55ms/step - loss: 0.0598 - avg_acc: 0.9962 - val_loss: 0.0303 - val_avg_acc: 0.9967\n",
      "Epoch 97/200\n",
      "4/4 [==============================] - 0s 53ms/step - loss: 0.0755 - avg_acc: 0.9964 - val_loss: 0.1146 - val_avg_acc: 0.9967\n",
      "Epoch 98/200\n",
      "4/4 [==============================] - 0s 52ms/step - loss: 0.0380 - avg_acc: 0.9975 - val_loss: 0.0699 - val_avg_acc: 0.9935\n",
      "Epoch 99/200\n",
      "4/4 [==============================] - 0s 52ms/step - loss: 0.0488 - avg_acc: 0.9969 - val_loss: 0.0844 - val_avg_acc: 0.9902\n",
      "Epoch 100/200\n",
      "4/4 [==============================] - 0s 53ms/step - loss: 0.0302 - avg_acc: 0.9987 - val_loss: 0.0659 - val_avg_acc: 0.9935\n",
      "Epoch 101/200\n",
      "4/4 [==============================] - 0s 52ms/step - loss: 0.0304 - avg_acc: 0.9975 - val_loss: 0.0701 - val_avg_acc: 0.9967\n",
      "Epoch 102/200\n",
      "4/4 [==============================] - 0s 53ms/step - loss: 0.0290 - avg_acc: 0.9978 - val_loss: 0.1072 - val_avg_acc: 0.9935\n",
      "Epoch 103/200\n",
      "4/4 [==============================] - 0s 52ms/step - loss: 0.0686 - avg_acc: 0.9968 - val_loss: 0.0232 - val_avg_acc: 1.0000\n",
      "Epoch 104/200\n",
      "4/4 [==============================] - 0s 52ms/step - loss: 0.0514 - avg_acc: 0.9984 - val_loss: 0.0946 - val_avg_acc: 0.9935\n",
      "Epoch 105/200\n",
      "4/4 [==============================] - 0s 52ms/step - loss: 0.0157 - avg_acc: 0.9997 - val_loss: 0.0981 - val_avg_acc: 0.9935\n",
      "Epoch 106/200\n",
      "4/4 [==============================] - 0s 54ms/step - loss: 0.0229 - avg_acc: 0.9993 - val_loss: 0.1375 - val_avg_acc: 0.9935\n",
      "Epoch 107/200\n",
      "4/4 [==============================] - 0s 53ms/step - loss: 0.0222 - avg_acc: 0.9991 - val_loss: 0.1141 - val_avg_acc: 0.9935\n",
      "Epoch 108/200\n",
      "4/4 [==============================] - 0s 53ms/step - loss: 0.0141 - avg_acc: 1.0000 - val_loss: 0.0580 - val_avg_acc: 0.9935\n",
      "Epoch 109/200\n",
      "4/4 [==============================] - 0s 52ms/step - loss: 0.0192 - avg_acc: 0.9997 - val_loss: 0.0456 - val_avg_acc: 0.9935\n",
      "Epoch 110/200\n",
      "4/4 [==============================] - 0s 52ms/step - loss: 0.0131 - avg_acc: 1.0000 - val_loss: 0.0474 - val_avg_acc: 0.9935\n",
      "Epoch 111/200\n",
      "4/4 [==============================] - 0s 52ms/step - loss: 0.0176 - avg_acc: 0.9990 - val_loss: 0.1606 - val_avg_acc: 0.9902\n",
      "Epoch 112/200\n",
      "4/4 [==============================] - 0s 51ms/step - loss: 0.0657 - avg_acc: 0.9951 - val_loss: 0.2391 - val_avg_acc: 0.9935\n",
      "Epoch 113/200\n",
      "4/4 [==============================] - 0s 52ms/step - loss: 0.0262 - avg_acc: 0.9982 - val_loss: 0.0828 - val_avg_acc: 0.9935\n",
      "Epoch 114/200\n",
      "4/4 [==============================] - 0s 52ms/step - loss: 0.0142 - avg_acc: 0.9994 - val_loss: 0.1377 - val_avg_acc: 0.9935\n",
      "Epoch 115/200\n",
      "4/4 [==============================] - 0s 51ms/step - loss: 0.0175 - avg_acc: 0.9991 - val_loss: 0.2094 - val_avg_acc: 0.9935\n",
      "Epoch 116/200\n",
      "4/4 [==============================] - 0s 52ms/step - loss: 0.0203 - avg_acc: 0.9990 - val_loss: 0.1396 - val_avg_acc: 0.9902\n",
      "Epoch 117/200\n",
      "4/4 [==============================] - 0s 52ms/step - loss: 0.0166 - avg_acc: 0.9987 - val_loss: 0.0985 - val_avg_acc: 0.9902\n",
      "Epoch 118/200\n",
      "4/4 [==============================] - 0s 52ms/step - loss: 0.0165 - avg_acc: 0.9991 - val_loss: 0.1795 - val_avg_acc: 0.9902\n",
      "Epoch 119/200\n",
      "4/4 [==============================] - 0s 52ms/step - loss: 0.0227 - avg_acc: 0.9988 - val_loss: 0.1634 - val_avg_acc: 0.9935\n",
      "Epoch 120/200\n",
      "4/4 [==============================] - 0s 51ms/step - loss: 0.0214 - avg_acc: 0.9991 - val_loss: 0.1671 - val_avg_acc: 0.9935\n",
      "Epoch 121/200\n",
      "4/4 [==============================] - 0s 51ms/step - loss: 0.0200 - avg_acc: 0.9990 - val_loss: 0.0908 - val_avg_acc: 0.9902\n",
      "Epoch 122/200\n",
      "4/4 [==============================] - 0s 53ms/step - loss: 0.0280 - avg_acc: 0.9993 - val_loss: 0.0487 - val_avg_acc: 0.9967\n",
      "Epoch 123/200\n",
      "4/4 [==============================] - 0s 53ms/step - loss: 0.0166 - avg_acc: 0.9997 - val_loss: 0.1033 - val_avg_acc: 0.9902\n",
      "Epoch 124/200\n",
      "4/4 [==============================] - 0s 54ms/step - loss: 0.0337 - avg_acc: 0.9981 - val_loss: 0.1614 - val_avg_acc: 0.9902\n",
      "Epoch 125/200\n",
      "4/4 [==============================] - 0s 53ms/step - loss: 0.0257 - avg_acc: 0.9978 - val_loss: 0.1036 - val_avg_acc: 0.9902\n",
      "Epoch 126/200\n",
      "4/4 [==============================] - 0s 51ms/step - loss: 0.0166 - avg_acc: 0.9991 - val_loss: 0.0732 - val_avg_acc: 0.9935\n",
      "Epoch 127/200\n",
      "4/4 [==============================] - 0s 53ms/step - loss: 0.0297 - avg_acc: 0.9972 - val_loss: 0.0458 - val_avg_acc: 0.9935\n",
      "Epoch 128/200\n",
      "4/4 [==============================] - 0s 52ms/step - loss: 0.0249 - avg_acc: 0.9987 - val_loss: 0.0816 - val_avg_acc: 0.9935\n",
      "Epoch 129/200\n",
      "4/4 [==============================] - 0s 61ms/step - loss: 0.0178 - avg_acc: 0.9987 - val_loss: 0.0834 - val_avg_acc: 0.9935\n",
      "Epoch 130/200\n",
      "4/4 [==============================] - 0s 51ms/step - loss: 0.0165 - avg_acc: 0.9991 - val_loss: 0.0837 - val_avg_acc: 0.9935\n",
      "Epoch 131/200\n",
      "4/4 [==============================] - 0s 52ms/step - loss: 0.0179 - avg_acc: 0.9990 - val_loss: 0.1054 - val_avg_acc: 0.9902\n",
      "Epoch 132/200\n",
      "4/4 [==============================] - 0s 52ms/step - loss: 0.0083 - avg_acc: 0.9997 - val_loss: 0.0904 - val_avg_acc: 0.9935\n",
      "Epoch 133/200\n",
      "4/4 [==============================] - 0s 51ms/step - loss: 0.0282 - avg_acc: 0.9979 - val_loss: 0.1411 - val_avg_acc: 0.9902\n",
      "Epoch 134/200\n",
      "4/4 [==============================] - 0s 52ms/step - loss: 0.0188 - avg_acc: 0.9988 - val_loss: 0.0560 - val_avg_acc: 0.9935\n",
      "Epoch 135/200\n",
      "4/4 [==============================] - 0s 50ms/step - loss: 0.0418 - avg_acc: 0.9975 - val_loss: 0.0654 - val_avg_acc: 0.9935\n",
      "Epoch 136/200\n",
      "4/4 [==============================] - 0s 51ms/step - loss: 0.0187 - avg_acc: 0.9988 - val_loss: 0.0804 - val_avg_acc: 0.9935\n",
      "Epoch 137/200\n",
      "4/4 [==============================] - 0s 51ms/step - loss: 0.0208 - avg_acc: 0.9990 - val_loss: 0.2650 - val_avg_acc: 0.9967\n",
      "Epoch 138/200\n",
      "4/4 [==============================] - 0s 53ms/step - loss: 0.0220 - avg_acc: 0.9987 - val_loss: 0.1106 - val_avg_acc: 0.9935\n",
      "Epoch 139/200\n",
      "4/4 [==============================] - 0s 52ms/step - loss: 0.0240 - avg_acc: 0.9984 - val_loss: 0.1598 - val_avg_acc: 0.9967\n",
      "Epoch 140/200\n",
      "4/4 [==============================] - 0s 51ms/step - loss: 0.0444 - avg_acc: 0.9971 - val_loss: 0.1892 - val_avg_acc: 0.9935\n",
      "Epoch 141/200\n",
      "4/4 [==============================] - 0s 50ms/step - loss: 0.0178 - avg_acc: 0.9993 - val_loss: 0.2024 - val_avg_acc: 0.9935\n",
      "Epoch 142/200\n",
      "4/4 [==============================] - 0s 53ms/step - loss: 0.0212 - avg_acc: 0.9980 - val_loss: 0.1736 - val_avg_acc: 0.9935\n",
      "Epoch 143/200\n",
      "4/4 [==============================] - 0s 52ms/step - loss: 0.0111 - avg_acc: 0.9997 - val_loss: 0.1531 - val_avg_acc: 0.9902\n",
      "Epoch 144/200\n",
      "4/4 [==============================] - 0s 53ms/step - loss: 0.0110 - avg_acc: 0.9993 - val_loss: 0.1059 - val_avg_acc: 0.9902\n",
      "Epoch 145/200\n",
      "4/4 [==============================] - 0s 51ms/step - loss: 0.0264 - avg_acc: 0.9982 - val_loss: 0.2715 - val_avg_acc: 0.9935\n",
      "Epoch 146/200\n",
      "4/4 [==============================] - 0s 51ms/step - loss: 0.0308 - avg_acc: 0.9984 - val_loss: 0.1329 - val_avg_acc: 0.9935\n",
      "Epoch 147/200\n",
      "4/4 [==============================] - 0s 52ms/step - loss: 0.0172 - avg_acc: 0.9982 - val_loss: 0.0656 - val_avg_acc: 0.9935\n",
      "Epoch 148/200\n",
      "4/4 [==============================] - 0s 52ms/step - loss: 0.0122 - avg_acc: 0.9997 - val_loss: 0.1450 - val_avg_acc: 0.9935\n",
      "Epoch 149/200\n",
      "4/4 [==============================] - 0s 53ms/step - loss: 0.0104 - avg_acc: 0.9997 - val_loss: 0.0913 - val_avg_acc: 0.9902\n",
      "Epoch 150/200\n",
      "4/4 [==============================] - 0s 53ms/step - loss: 0.0258 - avg_acc: 0.9988 - val_loss: 0.0693 - val_avg_acc: 0.9967\n",
      "Epoch 151/200\n",
      "4/4 [==============================] - 0s 54ms/step - loss: 0.0238 - avg_acc: 0.9984 - val_loss: 0.3733 - val_avg_acc: 0.9902\n",
      "Epoch 152/200\n",
      "4/4 [==============================] - 0s 51ms/step - loss: 0.0543 - avg_acc: 0.9975 - val_loss: 0.1604 - val_avg_acc: 0.9935\n",
      "Epoch 153/200\n",
      "4/4 [==============================] - 0s 51ms/step - loss: 0.0287 - avg_acc: 0.9984 - val_loss: 0.1067 - val_avg_acc: 0.9902\n",
      "Epoch 154/200\n",
      "4/4 [==============================] - 0s 53ms/step - loss: 0.0138 - avg_acc: 0.9993 - val_loss: 0.0913 - val_avg_acc: 0.9902\n",
      "Epoch 155/200\n",
      "4/4 [==============================] - 0s 51ms/step - loss: 0.0096 - avg_acc: 0.9997 - val_loss: 0.1140 - val_avg_acc: 0.9935\n",
      "Epoch 156/200\n",
      "4/4 [==============================] - 0s 52ms/step - loss: 0.0303 - avg_acc: 0.9990 - val_loss: 0.1622 - val_avg_acc: 0.9902\n",
      "Epoch 157/200\n",
      "4/4 [==============================] - 0s 51ms/step - loss: 0.0125 - avg_acc: 0.9993 - val_loss: 0.1014 - val_avg_acc: 0.9902\n",
      "Epoch 158/200\n",
      "4/4 [==============================] - 0s 51ms/step - loss: 0.0213 - avg_acc: 0.9978 - val_loss: 0.0440 - val_avg_acc: 0.9967\n",
      "Epoch 159/200\n",
      "4/4 [==============================] - 0s 50ms/step - loss: 0.0181 - avg_acc: 0.9987 - val_loss: 0.0876 - val_avg_acc: 0.9902\n",
      "Epoch 160/200\n",
      "4/4 [==============================] - 0s 53ms/step - loss: 0.0073 - avg_acc: 1.0000 - val_loss: 0.1485 - val_avg_acc: 0.9902\n",
      "Epoch 161/200\n",
      "4/4 [==============================] - 0s 52ms/step - loss: 0.0088 - avg_acc: 0.9994 - val_loss: 0.1232 - val_avg_acc: 0.9935\n",
      "Epoch 162/200\n",
      "4/4 [==============================] - 0s 53ms/step - loss: 0.0196 - avg_acc: 0.9991 - val_loss: 0.1259 - val_avg_acc: 0.9935\n",
      "Epoch 163/200\n",
      "4/4 [==============================] - 0s 54ms/step - loss: 0.0277 - avg_acc: 0.9978 - val_loss: 0.1610 - val_avg_acc: 0.9935\n",
      "Epoch 164/200\n",
      "4/4 [==============================] - 0s 53ms/step - loss: 0.0099 - avg_acc: 0.9997 - val_loss: 0.0537 - val_avg_acc: 0.9935\n",
      "Epoch 165/200\n",
      "4/4 [==============================] - 0s 54ms/step - loss: 0.0125 - avg_acc: 0.9988 - val_loss: 0.0419 - val_avg_acc: 0.9967\n",
      "Epoch 166/200\n",
      "4/4 [==============================] - 0s 52ms/step - loss: 0.0115 - avg_acc: 0.9997 - val_loss: 0.0986 - val_avg_acc: 0.9902\n",
      "Epoch 167/200\n",
      "4/4 [==============================] - 0s 52ms/step - loss: 0.0061 - avg_acc: 1.0000 - val_loss: 0.1265 - val_avg_acc: 0.9902\n",
      "Epoch 168/200\n",
      "4/4 [==============================] - 0s 52ms/step - loss: 0.0073 - avg_acc: 1.0000 - val_loss: 0.1244 - val_avg_acc: 0.9967\n",
      "Epoch 169/200\n",
      "4/4 [==============================] - 0s 52ms/step - loss: 0.0067 - avg_acc: 1.0000 - val_loss: 0.1086 - val_avg_acc: 0.9935\n",
      "Epoch 170/200\n",
      "4/4 [==============================] - 0s 53ms/step - loss: 0.0136 - avg_acc: 0.9993 - val_loss: 0.1073 - val_avg_acc: 0.9967\n",
      "Epoch 171/200\n",
      "4/4 [==============================] - 0s 53ms/step - loss: 0.0283 - avg_acc: 0.9978 - val_loss: 0.2350 - val_avg_acc: 0.9967\n",
      "Epoch 172/200\n",
      "4/4 [==============================] - 0s 53ms/step - loss: 0.0313 - avg_acc: 0.9984 - val_loss: 0.2604 - val_avg_acc: 0.9902\n",
      "Epoch 173/200\n",
      "4/4 [==============================] - 0s 52ms/step - loss: 0.0137 - avg_acc: 0.9990 - val_loss: 0.2291 - val_avg_acc: 0.9902\n",
      "Epoch 174/200\n",
      "4/4 [==============================] - 0s 53ms/step - loss: 0.0035 - avg_acc: 1.0000 - val_loss: 0.1594 - val_avg_acc: 0.9902\n",
      "Epoch 175/200\n",
      "4/4 [==============================] - 0s 55ms/step - loss: 0.0090 - avg_acc: 0.9994 - val_loss: 0.1840 - val_avg_acc: 0.9902\n",
      "Epoch 176/200\n",
      "4/4 [==============================] - 0s 60ms/step - loss: 0.0043 - avg_acc: 1.0000 - val_loss: 0.1480 - val_avg_acc: 0.9902\n",
      "Epoch 177/200\n",
      "4/4 [==============================] - 0s 52ms/step - loss: 0.0070 - avg_acc: 0.9994 - val_loss: 0.1387 - val_avg_acc: 0.9935\n",
      "Epoch 178/200\n",
      "4/4 [==============================] - 0s 52ms/step - loss: 0.0077 - avg_acc: 0.9997 - val_loss: 0.1072 - val_avg_acc: 0.9902\n",
      "Epoch 179/200\n",
      "4/4 [==============================] - 0s 51ms/step - loss: 0.0093 - avg_acc: 0.9994 - val_loss: 0.1518 - val_avg_acc: 0.9902\n",
      "Epoch 180/200\n",
      "4/4 [==============================] - 0s 54ms/step - loss: 0.0136 - avg_acc: 0.9985 - val_loss: 0.1550 - val_avg_acc: 0.9935\n",
      "Epoch 181/200\n",
      "4/4 [==============================] - 0s 53ms/step - loss: 0.0113 - avg_acc: 0.9993 - val_loss: 0.1304 - val_avg_acc: 0.9935\n",
      "Epoch 182/200\n",
      "4/4 [==============================] - 0s 52ms/step - loss: 0.0099 - avg_acc: 0.9997 - val_loss: 0.2130 - val_avg_acc: 0.9902\n",
      "Epoch 183/200\n",
      "4/4 [==============================] - 0s 53ms/step - loss: 0.0124 - avg_acc: 0.9990 - val_loss: 0.1992 - val_avg_acc: 0.9902\n",
      "Epoch 184/200\n",
      "4/4 [==============================] - 0s 53ms/step - loss: 0.0095 - avg_acc: 0.9994 - val_loss: 0.2575 - val_avg_acc: 0.9902\n",
      "Epoch 185/200\n",
      "4/4 [==============================] - 0s 52ms/step - loss: 0.0110 - avg_acc: 0.9993 - val_loss: 0.1352 - val_avg_acc: 0.9935\n",
      "Epoch 186/200\n",
      "4/4 [==============================] - 0s 50ms/step - loss: 0.0098 - avg_acc: 0.9997 - val_loss: 0.1766 - val_avg_acc: 0.9902\n",
      "Epoch 187/200\n",
      "4/4 [==============================] - 0s 54ms/step - loss: 0.0107 - avg_acc: 0.9997 - val_loss: 0.2137 - val_avg_acc: 0.9902\n",
      "Epoch 188/200\n",
      "4/4 [==============================] - 0s 55ms/step - loss: 0.0088 - avg_acc: 0.9997 - val_loss: 0.1428 - val_avg_acc: 0.9902\n",
      "Epoch 189/200\n",
      "4/4 [==============================] - 0s 53ms/step - loss: 0.0212 - avg_acc: 0.9994 - val_loss: 0.0545 - val_avg_acc: 0.9935\n",
      "Epoch 190/200\n",
      "4/4 [==============================] - 0s 53ms/step - loss: 0.1048 - avg_acc: 0.9951 - val_loss: 0.4693 - val_avg_acc: 0.9935\n",
      "Epoch 191/200\n",
      "4/4 [==============================] - 0s 52ms/step - loss: 0.1256 - avg_acc: 0.9962 - val_loss: 0.1974 - val_avg_acc: 0.9902\n",
      "Epoch 192/200\n",
      "4/4 [==============================] - 0s 52ms/step - loss: 0.0323 - avg_acc: 0.9975 - val_loss: 0.2168 - val_avg_acc: 0.9935\n",
      "Epoch 193/200\n",
      "4/4 [==============================] - 0s 53ms/step - loss: 0.0270 - avg_acc: 0.9978 - val_loss: 0.1962 - val_avg_acc: 0.9935\n",
      "Epoch 194/200\n",
      "4/4 [==============================] - 0s 52ms/step - loss: 0.0257 - avg_acc: 0.9981 - val_loss: 0.1759 - val_avg_acc: 0.9935\n",
      "Epoch 195/200\n",
      "4/4 [==============================] - 0s 52ms/step - loss: 0.0047 - avg_acc: 1.0000 - val_loss: 0.1267 - val_avg_acc: 0.9935\n",
      "Epoch 196/200\n",
      "4/4 [==============================] - 0s 52ms/step - loss: 0.0066 - avg_acc: 0.9994 - val_loss: 0.1125 - val_avg_acc: 0.9967\n",
      "Epoch 197/200\n",
      "4/4 [==============================] - 0s 52ms/step - loss: 0.0118 - avg_acc: 0.9994 - val_loss: 0.1269 - val_avg_acc: 0.9935\n",
      "Epoch 198/200\n",
      "4/4 [==============================] - 0s 51ms/step - loss: 0.0102 - avg_acc: 0.9997 - val_loss: 0.1687 - val_avg_acc: 0.9902\n",
      "Epoch 199/200\n",
      "4/4 [==============================] - 0s 53ms/step - loss: 0.0063 - avg_acc: 1.0000 - val_loss: 0.1069 - val_avg_acc: 0.9935\n",
      "Epoch 200/200\n",
      "4/4 [==============================] - 0s 52ms/step - loss: 0.0073 - avg_acc: 0.9997 - val_loss: 0.1472 - val_avg_acc: 0.9902\n",
      "|     |   epoch |   avg_acc |        loss |   val_avg_acc |   val_loss |\n",
      "|----:|--------:|----------:|------------:|--------------:|-----------:|\n",
      "|   0 |       0 |  0.484476 | 15.3401     |      0.866013 |  4.77174   |\n",
      "|   1 |       1 |  0.790465 |  6.01456    |      0.879085 |  3.57339   |\n",
      "|   2 |       2 |  0.837904 |  4.21636    |      0.888889 |  2.26393   |\n",
      "|   3 |       3 |  0.873331 |  2.85668    |      0.898693 |  1.80749   |\n",
      "|   4 |       4 |  0.861204 |  3.19994    |      0.901961 |  1.67758   |\n",
      "|   5 |       5 |  0.881272 |  2.49829    |      0.911765 |  1.6032    |\n",
      "|   6 |       6 |  0.913572 |  1.66188    |      0.918301 |  1.36403   |\n",
      "|   7 |       7 |  0.910908 |  1.71259    |      0.918301 |  1.28542   |\n",
      "|   8 |       8 |  0.930316 |  1.31708    |      0.947712 |  1.05374   |\n",
      "|   9 |       9 |  0.93331  |  1.1748     |      0.941176 |  0.841955  |\n",
      "|  10 |      10 |  0.936954 |  1.06523    |      0.957516 |  0.718503  |\n",
      "|  11 |      11 |  0.931288 |  1.13575    |      0.970588 |  0.732042  |\n",
      "|  12 |      12 |  0.954996 |  0.806877   |      0.954248 |  0.642263  |\n",
      "|  13 |      13 |  0.95213  |  0.780842   |      0.934641 |  0.963477  |\n",
      "|  14 |      14 |  0.953891 |  0.90803    |      0.96732  |  0.606575  |\n",
      "|  15 |      15 |  0.953496 |  0.731529   |      0.964052 |  0.713537  |\n",
      "|  16 |      16 |  0.959489 |  0.703151   |      0.970588 |  0.478253  |\n",
      "|  17 |      17 |  0.96809  |  0.623478   |      0.98366  |  0.318567  |\n",
      "|  18 |      18 |  0.972253 |  0.409692   |      0.973856 |  0.398535  |\n",
      "|  19 |      19 |  0.975256 |  0.445174   |      0.980392 |  0.241925  |\n",
      "|  20 |      20 |  0.975118 |  0.439255   |      0.980392 |  0.235525  |\n",
      "|  21 |      21 |  0.978447 |  0.388696   |      0.98366  |  0.269717  |\n",
      "|  22 |      22 |  0.975902 |  0.365289   |      0.990196 |  0.169772  |\n",
      "|  23 |      23 |  0.968214 |  0.497898   |      0.986928 |  0.199489  |\n",
      "|  24 |      24 |  0.981179 |  0.316687   |      0.993464 |  0.239536  |\n",
      "|  25 |      25 |  0.971464 |  0.371808   |      0.98366  |  0.350006  |\n",
      "|  26 |      26 |  0.978374 |  0.421236   |      0.986928 |  0.3745    |\n",
      "|  27 |      27 |  0.981303 |  0.309419   |      0.990196 |  0.167163  |\n",
      "|  28 |      28 |  0.984306 |  0.284795   |      0.993464 |  0.25529   |\n",
      "|  29 |      29 |  0.982216 |  0.288602   |      0.993464 |  0.106585  |\n",
      "|  30 |      30 |  0.989515 |  0.219383   |      0.993464 |  0.108356  |\n",
      "|  31 |      31 |  0.988144 |  0.199003   |      0.986928 |  0.232683  |\n",
      "|  32 |      32 |  0.985673 |  0.250888   |      0.990196 |  0.222446  |\n",
      "|  33 |      33 |  0.988277 |  0.209523   |      0.993464 |  0.0806356 |\n",
      "|  34 |      34 |  0.986713 |  0.204902   |      0.993464 |  0.13023   |\n",
      "|  35 |      35 |  0.984233 |  0.214904   |      0.990196 |  0.167494  |\n",
      "|  36 |      36 |  0.987497 |  0.247011   |      0.996732 |  0.104201  |\n",
      "|  37 |      37 |  0.98808  |  0.218007   |      0.986928 |  0.191377  |\n",
      "|  38 |      38 |  0.987887 |  0.204292   |      0.993464 |  0.0961138 |\n",
      "|  39 |      39 |  0.989643 |  0.194238   |      0.993464 |  0.208605  |\n",
      "|  40 |      40 |  0.989515 |  0.191936   |      0.990196 |  0.187814  |\n",
      "|  41 |      41 |  0.992967 |  0.167146   |      0.996732 |  0.104016  |\n",
      "|  42 |      42 |  0.991857 |  0.105057   |      0.990196 |  0.274546  |\n",
      "|  43 |      43 |  0.993357 |  0.120703   |      0.993464 |  0.141531  |\n",
      "|  44 |      44 |  0.991532 |  0.123811   |      0.993464 |  0.0717938 |\n",
      "|  45 |      45 |  0.991073 |  0.13433    |      0.996732 |  0.13777   |\n",
      "|  46 |      46 |  0.991339 |  0.172869   |      0.990196 |  0.0980217 |\n",
      "|  47 |      47 |  0.99238  |  0.133717   |      0.993464 |  0.0550532 |\n",
      "|  48 |      48 |  0.991793 |  0.134708   |      0.993464 |  0.118331  |\n",
      "|  49 |      49 |  0.988992 |  0.179724   |      0.990196 |  0.0934542 |\n",
      "|  50 |      50 |  0.992055 |  0.142683   |      0.990196 |  0.192878  |\n",
      "|  51 |      51 |  0.993357 |  0.124321   |      0.993464 |  0.0566883 |\n",
      "|  52 |      52 |  0.992311 |  0.111645   |      0.990196 |  0.279458  |\n",
      "|  53 |      53 |  0.993618 |  0.178287   |      0.996732 |  0.0746166 |\n",
      "|  54 |      54 |  0.994141 |  0.106373   |      0.990196 |  0.0881311 |\n",
      "|  55 |      55 |  0.993485 |  0.102642   |      0.993464 |  0.155574  |\n",
      "|  56 |      56 |  0.991729 |  0.166545   |      0.996732 |  0.0626503 |\n",
      "|  57 |      57 |  0.994659 |  0.0998421  |      0.996732 |  0.143285  |\n",
      "|  58 |      58 |  0.991729 |  0.120096   |      0.993464 |  0.0850038 |\n",
      "|  59 |      59 |  0.993943 |  0.0883739  |      0.990196 |  0.126971  |\n",
      "|  60 |      60 |  0.996025 |  0.0687276  |      0.993464 |  0.138489  |\n",
      "|  61 |      61 |  0.992508 |  0.111725   |      0.993464 |  0.202961  |\n",
      "|  62 |      62 |  0.993031 |  0.113339   |      0.990196 |  0.204365  |\n",
      "|  63 |      63 |  0.995571 |  0.0762442  |      0.993464 |  0.0843116 |\n",
      "|  64 |      64 |  0.996745 |  0.0610917  |      0.993464 |  0.112343  |\n",
      "|  65 |      65 |  0.998372 |  0.0452754  |      0.993464 |  0.142909  |\n",
      "|  66 |      66 |  0.996548 |  0.0477172  |      0.996732 |  0.0695621 |\n",
      "|  67 |      67 |  0.996745 |  0.0605686  |      0.993464 |  0.106593  |\n",
      "|  68 |      68 |  0.998372 |  0.0388583  |      0.990196 |  0.127404  |\n",
      "|  69 |      69 |  0.991986 |  0.133548   |      0.993464 |  0.371637  |\n",
      "|  70 |      70 |  0.992967 |  0.119283   |      0.993464 |  0.130021  |\n",
      "|  71 |      71 |  0.997396 |  0.0736873  |      0.993464 |  0.0750692 |\n",
      "|  72 |      72 |  0.99785  |  0.0460651  |      0.993464 |  0.123741  |\n",
      "|  73 |      73 |  0.994269 |  0.0914514  |      0.993464 |  0.14669   |\n",
      "|  74 |      74 |  0.998111 |  0.053059   |      0.993464 |  0.125903  |\n",
      "|  75 |      75 |  0.99785  |  0.0407938  |      0.993464 |  0.0548029 |\n",
      "|  76 |      76 |  0.996612 |  0.044828   |      0.990196 |  0.243427  |\n",
      "|  77 |      77 |  0.996548 |  0.056727   |      0.993464 |  0.0485576 |\n",
      "|  78 |      78 |  0.997199 |  0.0461826  |      0.990196 |  0.144747  |\n",
      "|  79 |      79 |  0.998175 |  0.0365265  |      0.990196 |  0.200507  |\n",
      "|  80 |      80 |  0.996745 |  0.0532171  |      0.996732 |  0.0991592 |\n",
      "|  81 |      81 |  0.997524 |  0.0384981  |      0.993464 |  0.108963  |\n",
      "|  82 |      82 |  0.996286 |  0.055298   |      0.993464 |  0.201488  |\n",
      "|  83 |      83 |  0.996222 |  0.0618946  |      0.993464 |  0.0924729 |\n",
      "|  84 |      84 |  0.996548 |  0.0446289  |      0.996732 |  0.0662689 |\n",
      "|  85 |      85 |  0.999023 |  0.0316445  |      0.993464 |  0.10987   |\n",
      "|  86 |      86 |  0.997786 |  0.0313371  |      0.990196 |  0.135881  |\n",
      "|  87 |      87 |  0.999674 |  0.0193775  |      0.990196 |  0.119576  |\n",
      "|  88 |      88 |  0.997263 |  0.0347466  |      0.993464 |  0.167763  |\n",
      "|  89 |      89 |  0.997524 |  0.0451155  |      0.990196 |  0.128813  |\n",
      "|  90 |      90 |  0.998437 |  0.0282555  |      0.990196 |  0.131283  |\n",
      "|  91 |      91 |  0.999088 |  0.0203068  |      0.993464 |  0.143171  |\n",
      "|  92 |      92 |  0.998437 |  0.0363221  |      0.990196 |  0.221983  |\n",
      "|  93 |      93 |  0.997396 |  0.0503891  |      0.996732 |  0.092702  |\n",
      "|  94 |      94 |  0.991857 |  0.114435   |      0.993464 |  0.118017  |\n",
      "|  95 |      95 |  0.996222 |  0.0597837  |      0.996732 |  0.0302737 |\n",
      "|  96 |      96 |  0.996351 |  0.0755401  |      0.996732 |  0.114603  |\n",
      "|  97 |      97 |  0.997524 |  0.0379895  |      0.993464 |  0.0698755 |\n",
      "|  98 |      98 |  0.996937 |  0.0487928  |      0.990196 |  0.084424  |\n",
      "|  99 |      99 |  0.998698 |  0.0302459  |      0.993464 |  0.0659371 |\n",
      "| 100 |     100 |  0.99746  |  0.0304135  |      0.996732 |  0.0700935 |\n",
      "| 101 |     101 |  0.99785  |  0.0289647  |      0.993464 |  0.107235  |\n",
      "| 102 |     102 |  0.996809 |  0.068625   |      1        |  0.0232075 |\n",
      "| 103 |     103 |  0.998437 |  0.051443   |      0.993464 |  0.094574  |\n",
      "| 104 |     104 |  0.999674 |  0.0156857  |      0.993464 |  0.0980549 |\n",
      "| 105 |     105 |  0.999349 |  0.0229279  |      0.993464 |  0.137493  |\n",
      "| 106 |     106 |  0.999088 |  0.0222024  |      0.993464 |  0.114053  |\n",
      "| 107 |     107 |  1        |  0.0141137  |      0.993464 |  0.0580106 |\n",
      "| 108 |     108 |  0.999674 |  0.0192199  |      0.993464 |  0.0455707 |\n",
      "| 109 |     109 |  1        |  0.0130815  |      0.993464 |  0.0474175 |\n",
      "| 110 |     110 |  0.999023 |  0.0175962  |      0.990196 |  0.160604  |\n",
      "| 111 |     111 |  0.995113 |  0.0656772  |      0.993464 |  0.239083  |\n",
      "| 112 |     112 |  0.998175 |  0.0262344  |      0.993464 |  0.0827826 |\n",
      "| 113 |     113 |  0.999413 |  0.0141999  |      0.993464 |  0.137703  |\n",
      "| 114 |     114 |  0.999088 |  0.0174506  |      0.993464 |  0.209372  |\n",
      "| 115 |     115 |  0.999023 |  0.0202668  |      0.990196 |  0.139552  |\n",
      "| 116 |     116 |  0.998698 |  0.0166084  |      0.990196 |  0.0984938 |\n",
      "| 117 |     117 |  0.999088 |  0.0164621  |      0.990196 |  0.179481  |\n",
      "| 118 |     118 |  0.998762 |  0.0227488  |      0.993464 |  0.163439  |\n",
      "| 119 |     119 |  0.999088 |  0.021385   |      0.993464 |  0.167138  |\n",
      "| 120 |     120 |  0.999023 |  0.0200105  |      0.990196 |  0.0907706 |\n",
      "| 121 |     121 |  0.999349 |  0.0280006  |      0.996732 |  0.0486602 |\n",
      "| 122 |     122 |  0.999674 |  0.0166262  |      0.990196 |  0.103336  |\n",
      "| 123 |     123 |  0.998111 |  0.0337016  |      0.990196 |  0.161432  |\n",
      "| 124 |     124 |  0.99785  |  0.0256642  |      0.990196 |  0.103585  |\n",
      "| 125 |     125 |  0.999088 |  0.0165624  |      0.993464 |  0.073201  |\n",
      "| 126 |     126 |  0.997199 |  0.0296992  |      0.993464 |  0.0458037 |\n",
      "| 127 |     127 |  0.998698 |  0.0248617  |      0.993464 |  0.0816272 |\n",
      "| 128 |     128 |  0.998698 |  0.017829   |      0.993464 |  0.0833836 |\n",
      "| 129 |     129 |  0.999088 |  0.0164804  |      0.993464 |  0.0837333 |\n",
      "| 130 |     130 |  0.999023 |  0.0179342  |      0.990196 |  0.10545   |\n",
      "| 131 |     131 |  0.999674 |  0.00831845 |      0.993464 |  0.090382  |\n",
      "| 132 |     132 |  0.997914 |  0.0281676  |      0.990196 |  0.141103  |\n",
      "| 133 |     133 |  0.998762 |  0.0187505  |      0.993464 |  0.056037  |\n",
      "| 134 |     134 |  0.99746  |  0.0417513  |      0.993464 |  0.065405  |\n",
      "| 135 |     135 |  0.998762 |  0.0186956  |      0.993464 |  0.0803843 |\n",
      "| 136 |     136 |  0.999023 |  0.020791   |      0.996732 |  0.264951  |\n",
      "| 137 |     137 |  0.998698 |  0.0220029  |      0.993464 |  0.110625  |\n",
      "| 138 |     138 |  0.998437 |  0.0239928  |      0.996732 |  0.159813  |\n",
      "| 139 |     139 |  0.99707  |  0.044419   |      0.993464 |  0.189156  |\n",
      "| 140 |     140 |  0.999349 |  0.0177943  |      0.993464 |  0.202362  |\n",
      "| 141 |     141 |  0.998047 |  0.0211628  |      0.993464 |  0.173624  |\n",
      "| 142 |     142 |  0.999674 |  0.0110549  |      0.990196 |  0.153095  |\n",
      "| 143 |     143 |  0.999349 |  0.0110204  |      0.990196 |  0.105867  |\n",
      "| 144 |     144 |  0.998175 |  0.0263974  |      0.993464 |  0.271455  |\n",
      "| 145 |     145 |  0.998437 |  0.0308074  |      0.993464 |  0.132865  |\n",
      "| 146 |     146 |  0.998175 |  0.0171891  |      0.993464 |  0.0656033 |\n",
      "| 147 |     147 |  0.999674 |  0.0121931  |      0.993464 |  0.145023  |\n",
      "| 148 |     148 |  0.999674 |  0.0103877  |      0.990196 |  0.0913124 |\n",
      "| 149 |     149 |  0.998826 |  0.0258462  |      0.996732 |  0.0692702 |\n",
      "| 150 |     150 |  0.998437 |  0.0237923  |      0.990196 |  0.373305  |\n",
      "| 151 |     151 |  0.99746  |  0.0543432  |      0.993464 |  0.16043   |\n",
      "| 152 |     152 |  0.998437 |  0.0286731  |      0.990196 |  0.106745  |\n",
      "| 153 |     153 |  0.999349 |  0.0137888  |      0.990196 |  0.0913332 |\n",
      "| 154 |     154 |  0.999674 |  0.0096099  |      0.993464 |  0.113976  |\n",
      "| 155 |     155 |  0.999023 |  0.0303045  |      0.990196 |  0.162239  |\n",
      "| 156 |     156 |  0.999349 |  0.0125267  |      0.990196 |  0.10138   |\n",
      "| 157 |     157 |  0.99785  |  0.0213165  |      0.996732 |  0.0439903 |\n",
      "| 158 |     158 |  0.998698 |  0.0181312  |      0.990196 |  0.0875705 |\n",
      "| 159 |     159 |  1        |  0.00725429 |      0.990196 |  0.148497  |\n",
      "| 160 |     160 |  0.999413 |  0.00880849 |      0.993464 |  0.123227  |\n",
      "| 161 |     161 |  0.999088 |  0.0195897  |      0.993464 |  0.125883  |\n",
      "| 162 |     162 |  0.99785  |  0.0277421  |      0.993464 |  0.161034  |\n",
      "| 163 |     163 |  0.999674 |  0.0098582  |      0.993464 |  0.0536675 |\n",
      "| 164 |     164 |  0.998762 |  0.0125015  |      0.996732 |  0.0419325 |\n",
      "| 165 |     165 |  0.999674 |  0.0115447  |      0.990196 |  0.0985813 |\n",
      "| 166 |     166 |  1        |  0.00608196 |      0.990196 |  0.126545  |\n",
      "| 167 |     167 |  1        |  0.00728553 |      0.996732 |  0.124356  |\n",
      "| 168 |     168 |  1        |  0.00671491 |      0.993464 |  0.108603  |\n",
      "| 169 |     169 |  0.999349 |  0.0136097  |      0.996732 |  0.107293  |\n",
      "| 170 |     170 |  0.99785  |  0.0283215  |      0.996732 |  0.23499   |\n",
      "| 171 |     171 |  0.998372 |  0.0313399  |      0.990196 |  0.260426  |\n",
      "| 172 |     172 |  0.999023 |  0.0137168  |      0.990196 |  0.229091  |\n",
      "| 173 |     173 |  1        |  0.003515   |      0.990196 |  0.159361  |\n",
      "| 174 |     174 |  0.999413 |  0.00900714 |      0.990196 |  0.184048  |\n",
      "| 175 |     175 |  1        |  0.00432118 |      0.990196 |  0.148017  |\n",
      "| 176 |     176 |  0.999413 |  0.00703969 |      0.993464 |  0.138731  |\n",
      "| 177 |     177 |  0.999674 |  0.00773038 |      0.990196 |  0.107234  |\n",
      "| 178 |     178 |  0.999413 |  0.00934842 |      0.990196 |  0.151799  |\n",
      "| 179 |     179 |  0.998501 |  0.0135588  |      0.993464 |  0.154991  |\n",
      "| 180 |     180 |  0.999349 |  0.0113273  |      0.993464 |  0.130449  |\n",
      "| 181 |     181 |  0.999674 |  0.00990097 |      0.990196 |  0.213046  |\n",
      "| 182 |     182 |  0.999023 |  0.0124212  |      0.990196 |  0.199198  |\n",
      "| 183 |     183 |  0.999413 |  0.00947272 |      0.990196 |  0.257477  |\n",
      "| 184 |     184 |  0.999349 |  0.0110064  |      0.993464 |  0.135232  |\n",
      "| 185 |     185 |  0.999674 |  0.00984794 |      0.990196 |  0.176591  |\n",
      "| 186 |     186 |  0.999674 |  0.0106559  |      0.990196 |  0.213736  |\n",
      "| 187 |     187 |  0.999674 |  0.00884857 |      0.990196 |  0.14279   |\n",
      "| 188 |     188 |  0.999413 |  0.0211696  |      0.993464 |  0.0545168 |\n",
      "| 189 |     189 |  0.995113 |  0.104796   |      0.993464 |  0.46926   |\n",
      "| 190 |     190 |  0.996158 |  0.125585   |      0.990196 |  0.197395  |\n",
      "| 191 |     191 |  0.997524 |  0.0322635  |      0.993464 |  0.216797  |\n",
      "| 192 |     192 |  0.997786 |  0.02702    |      0.993464 |  0.196237  |\n",
      "| 193 |     193 |  0.998111 |  0.0256994  |      0.993464 |  0.175898  |\n",
      "| 194 |     194 |  1        |  0.00465176 |      0.993464 |  0.126671  |\n",
      "| 195 |     195 |  0.999413 |  0.00656672 |      0.996732 |  0.112493  |\n",
      "| 196 |     196 |  0.999413 |  0.0117754  |      0.993464 |  0.126851  |\n",
      "| 197 |     197 |  0.999674 |  0.0102124  |      0.990196 |  0.168733  |\n",
      "| 198 |     198 |  1        |  0.00625948 |      0.993464 |  0.106866  |\n",
      "| 199 |     199 |  0.999674 |  0.0073255  |      0.990196 |  0.147169  |\n"
     ]
    }
   ],
   "source": [
    "#for the training we fit our model and use the batch size and epochs from our constants\n",
    "history = swizzle_model.fit( train_images,\n",
    "                             train_annots,\n",
    "                             batch_size=BATCH_SIZE,\n",
    "                             epochs=EPOCHS,\n",
    "                             verbose=1,\n",
    "                             use_multiprocessing=True,\n",
    "                             validation_data=(validate_images,validate_annots),\n",
    "                             callbacks=[csv_logger],\n",
    ")\n",
    "\n",
    "swizzle_model_metrics = pd.read_csv('../data/model/metrics_op.csv')\n",
    "print(swizzle_model_metrics.to_markdown())"
   ]
  },
  {
   "cell_type": "code",
   "execution_count": 20,
   "metadata": {},
   "outputs": [
    {
     "data": {
      "image/png": "[encoded data removed]",
      "text/plain": [
       "<Figure size 1000x1000 with 2 Axes>"
      ]
     },
     "metadata": {},
     "output_type": "display_data"
    }
   ],
   "source": [
    "#show plots for our loss function and the accurancy\n",
    "fig = plt.figure(figsize=(10, 10))\n",
    "\n",
    "ax = plt.subplot(2, 2, 1)\n",
    "plt.plot(history.history['loss'], label='Loss', color= '#7900AA')\n",
    "plt.plot(history.history['val_loss'], label='Validation Loss', color = 'c')\n",
    "plt.legend()\n",
    "plt.title('Training - Loss Function')\n",
    "\n",
    "ax.spines['right'].set_visible(False)\n",
    "ax.spines['top'].set_visible(False)\n",
    "\n",
    "ax2 = plt.subplot(2, 2, 2)\n",
    "plt.plot(history.history['avg_acc'], label='avg. Accuracy', color = '#7900AA')\n",
    "plt.plot(history.history['val_avg_acc'], label='Validation avg. Accuracy', color = 'c')\n",
    "plt.legend()\n",
    "plt.title('Train - Accuracy')\n",
    "\n",
    "ax2.spines['right'].set_visible(False)\n",
    "ax2.spines['top'].set_visible(False)\n",
    "\n",
    "fig.savefig('../data/model/plots_1song_of.png')"
   ]
  },
  {
   "cell_type": "code",
   "execution_count": 21,
   "metadata": {},
   "outputs": [
    {
     "name": "stdout",
     "output_type": "stream",
     "text": [
      "Test Loss : 0.1891\n",
      "Test Accuracy : 0.9934\n"
     ]
    }
   ],
   "source": [
    "#print results of our swizzle model metrics for training\n",
    "score = swizzle_model.evaluate(test_images,test_annots,verbose=0)\n",
    "print('Test Loss : {:.4f}'.format(score[0]))\n",
    "print('Test Accuracy : {:.4f}'.format(score[1]))"
   ]
  },
  {
   "cell_type": "code",
   "execution_count": 22,
   "metadata": {},
   "outputs": [
    {
     "name": "stderr",
     "output_type": "stream",
     "text": [
      "2023-01-17 11:47:10.960721: I tensorflow/core/grappler/optimizers/custom_graph_optimizer_registry.cc:113] Plugin optimizer for device_type GPU is enabled.\n"
     ]
    }
   ],
   "source": [
    "#the prediction of our model will show us an array with the strings played in the\n",
    "# belonging frame\n",
    "model_output = swizzle_model.predict(test_images)"
   ]
  },
  {
   "cell_type": "code",
   "execution_count": 23,
   "metadata": {},
   "outputs": [],
   "source": [
    "#precision = precision_score(test_annots, model_output, pos_label=\"positive\")\n",
    "#print(precision)"
   ]
  },
  {
   "cell_type": "code",
   "execution_count": 24,
   "metadata": {},
   "outputs": [
    {
     "name": "stdout",
     "output_type": "stream",
     "text": [
      "(127, 6, 21)\n",
      "[[1. 0. 0. 0. 0. 0. 0. 0. 0. 0. 0. 0. 0. 0. 0. 0. 0. 0. 0. 0. 0.]\n",
      " [1. 0. 0. 0. 0. 0. 0. 0. 0. 0. 0. 0. 0. 0. 0. 0. 0. 0. 0. 0. 0.]\n",
      " [1. 0. 0. 0. 0. 0. 0. 0. 0. 0. 0. 0. 0. 0. 0. 0. 0. 0. 0. 0. 0.]\n",
      " [0. 0. 0. 0. 0. 0. 0. 0. 0. 0. 0. 0. 0. 1. 0. 0. 0. 0. 0. 0. 0.]\n",
      " [1. 0. 0. 0. 0. 0. 0. 0. 0. 0. 0. 0. 0. 0. 0. 0. 0. 0. 0. 0. 0.]\n",
      " [1. 0. 0. 0. 0. 0. 0. 0. 0. 0. 0. 0. 0. 0. 0. 0. 0. 0. 0. 0. 0.]]\n",
      "(127, 6, 21)\n",
      "[[1. 0. 0. 0. 0. 0. 0. 0. 0. 0. 0. 0. 0. 0. 0. 0. 0. 0. 0. 0. 0.]\n",
      " [1. 0. 0. 0. 0. 0. 0. 0. 0. 0. 0. 0. 0. 0. 0. 0. 0. 0. 0. 0. 0.]\n",
      " [1. 0. 0. 0. 0. 0. 0. 0. 0. 0. 0. 0. 0. 0. 0. 0. 0. 0. 0. 0. 0.]\n",
      " [0. 0. 0. 0. 0. 0. 0. 0. 0. 0. 0. 0. 0. 1. 0. 0. 0. 0. 0. 0. 0.]\n",
      " [1. 0. 0. 0. 0. 0. 0. 0. 0. 0. 0. 0. 0. 0. 0. 0. 0. 0. 0. 0. 0.]\n",
      " [1. 0. 0. 0. 0. 0. 0. 0. 0. 0. 0. 0. 0. 0. 0. 0. 0. 0. 0. 0. 0.]]\n"
     ]
    }
   ],
   "source": [
    "#we can have look on the output arrays. We rounded them to have a better overview. \n",
    "#Thats the first entry with a size of 6 by 21.\n",
    "print(test_annots.shape)\n",
    "print(np.round(test_annots[:1][0],2))\n",
    "print(model_output.shape)\n",
    "print(np.round(model_output[:1][0],2))\n"
   ]
  },
  {
   "cell_type": "code",
   "execution_count": 25,
   "metadata": {},
   "outputs": [
    {
     "name": "stderr",
     "output_type": "stream",
     "text": [
      "2023-01-17 11:47:11.369233: W tensorflow/python/util/util.cc:368] Sets are not currently considered sequences, but this may change in the future, so consider avoiding using them.\n"
     ]
    },
    {
     "name": "stdout",
     "output_type": "stream",
     "text": [
      "INFO:tensorflow:Assets written to: ../app/model/swizzle_model_1song_of/assets\n",
      "WARNING:tensorflow:Unable to restore custom metric. Please ensure that the layer implements `get_config` and `from_config` when saving. In addition, please use the `custom_objects` arg when calling `load_model()`.\n"
     ]
    }
   ],
   "source": [
    "# Save the entire model as a SavedModel.\n",
    "swizzle_model.save('../app/model/swizzle_model_1song_of')\n",
    "\n",
    "loaded_swizzle_model = keras.models.load_model(\"../app/model/swizzle_model_1song_of\", compile = False)"
   ]
  },
  {
   "cell_type": "code",
   "execution_count": 26,
   "metadata": {},
   "outputs": [],
   "source": [
    "# Save and load the model output\n",
    "np.save(\"../app/model/model_output_1song_of.npy\", model_output, allow_pickle=True, fix_imports=True)\n",
    "\n",
    "#np.load(\"../app/model/model_output.npy\")\n"
   ]
  },
  {
   "cell_type": "markdown",
   "metadata": {},
   "source": []
  },
  {
   "attachments": {},
   "cell_type": "markdown",
   "metadata": {},
   "source": [
    "## __Try Swizzle-Model out in one Song!__"
   ]
  },
  {
   "cell_type": "code",
   "execution_count": 27,
   "metadata": {},
   "outputs": [
    {
     "name": "stdout",
     "output_type": "stream",
     "text": [
      "WARNING:tensorflow:Unable to restore custom metric. Please ensure that the layer implements `get_config` and `from_config` when saving. In addition, please use the `custom_objects` arg when calling `load_model()`.\n"
     ]
    }
   ],
   "source": [
    "loaded_swizzle_model = keras.models.load_model(\"../app/model/swizzle_model_1song_of\", compile = False)"
   ]
  },
  {
   "cell_type": "code",
   "execution_count": 28,
   "metadata": {},
   "outputs": [],
   "source": [
    "#f_images_load = np.load('../data/output/00_BN1-129-Eb_solo_mic_data.npz')\n",
    "#f_images = f_images_load['arr_0']\n",
    "#f_true_load = np.load('../data/output/00_BN1-129-Eb_solo_mic_labels.npz')\n",
    "#f_true = f_true_load['arr_0']"
   ]
  },
  {
   "cell_type": "code",
   "execution_count": 29,
   "metadata": {},
   "outputs": [],
   "source": [
    "X_images = test_images\n",
    "y_true = test_annots"
   ]
  },
  {
   "cell_type": "code",
   "execution_count": 42,
   "metadata": {},
   "outputs": [],
   "source": [
    "y_pred = loaded_swizzle_model.predict(X_images)\n",
    "y_pred = np.load('../data/output/CNN_PRED_FRONTEND.npy')"
   ]
  },
  {
   "cell_type": "code",
   "execution_count": 43,
   "metadata": {},
   "outputs": [
    {
     "name": "stdout",
     "output_type": "stream",
     "text": [
      "(127, 6, 21)\n",
      "<class 'numpy.dtype[float64]'>\n",
      "[[1. 0. 0. 0. 0. 0. 0. 0. 0. 0. 0. 0. 0. 0. 0. 0. 0. 0. 0. 0. 0.]\n",
      " [1. 0. 0. 0. 0. 0. 0. 0. 0. 0. 0. 0. 0. 0. 0. 0. 0. 0. 0. 0. 0.]\n",
      " [1. 0. 0. 0. 0. 0. 0. 0. 0. 0. 0. 0. 0. 0. 0. 0. 0. 0. 0. 0. 0.]\n",
      " [1. 0. 0. 0. 0. 0. 0. 0. 0. 0. 0. 0. 0. 0. 0. 0. 0. 0. 0. 0. 0.]\n",
      " [1. 0. 0. 0. 0. 0. 0. 0. 0. 0. 0. 0. 0. 0. 0. 0. 0. 0. 0. 0. 0.]\n",
      " [0. 0. 0. 0. 0. 0. 0. 0. 0. 0. 0. 1. 0. 0. 0. 0. 0. 0. 0. 0. 0.]]\n",
      "(2827, 6, 21)\n",
      "<class 'numpy.dtype[float64]'>\n",
      "[[1. 0. 0. 0. 0. 0. 0. 0. 0. 0. 0. 0. 0. 0. 0. 0. 0. 0. 0. 0. 0.]\n",
      " [1. 0. 0. 0. 0. 0. 0. 0. 0. 0. 0. 0. 0. 0. 0. 0. 0. 0. 0. 0. 0.]\n",
      " [1. 0. 0. 0. 0. 0. 0. 0. 0. 0. 0. 0. 0. 0. 0. 0. 0. 0. 0. 0. 0.]\n",
      " [1. 0. 0. 0. 0. 0. 0. 0. 0. 0. 0. 0. 0. 0. 0. 0. 0. 0. 0. 0. 0.]\n",
      " [0. 0. 0. 0. 1. 0. 0. 0. 0. 0. 0. 0. 0. 0. 0. 0. 0. 0. 0. 0. 0.]\n",
      " [1. 0. 0. 0. 0. 0. 0. 0. 0. 0. 0. 0. 0. 0. 0. 0. 0. 0. 0. 0. 0.]]\n"
     ]
    }
   ],
   "source": [
    "np.set_printoptions(threshold=np.inf)\n",
    "print(y_true.shape)\n",
    "print(type(y_true.dtype))\n",
    "print(y_true[1])\n",
    "print(y_pred.shape)\n",
    "print(type(test_annots.dtype))\n",
    "print(np.round(y_pred[1]))\n"
   ]
  },
  {
   "cell_type": "code",
   "execution_count": 44,
   "metadata": {},
   "outputs": [],
   "source": [
    "test_array = np.load('test_array.npy')"
   ]
  },
  {
   "cell_type": "code",
   "execution_count": 45,
   "metadata": {},
   "outputs": [
    {
     "name": "stdout",
     "output_type": "stream",
     "text": [
      "length of the list below: 2827 entries\n",
      "1: Frames which are NOT empty!\n",
      "0: Frames which are empty\n"
     ]
    },
    {
     "data": {
      "text/plain": [
       "1    1794\n",
       "0    1033\n",
       "dtype: int64"
      ]
     },
     "execution_count": 45,
     "metadata": {},
     "output_type": "execute_result"
    }
   ],
   "source": [
    "result = []\n",
    "\n",
    "for i in y_pred:\n",
    "    corr_i = np.zeros_like(i)\n",
    "    for sidx, string in enumerate(i):\n",
    "        corr_i[sidx][np.argmax(string)] = 1\n",
    "    \n",
    "    x = np.array_equal(test_array, corr_i)\n",
    "    if x == True:\n",
    "        result.append(0)\n",
    "    else:\n",
    "        result.append(1)\n",
    "print('length of the list below:',len(result),'entries')\n",
    "#print(result)\n",
    "df = pd.DataFrame(result)\n",
    "print('1: Frames which are NOT empty!')\n",
    "print('0: Frames which are empty')\n",
    "df.value_counts()\n"
   ]
  },
  {
   "cell_type": "code",
   "execution_count": 46,
   "metadata": {},
   "outputs": [
    {
     "name": "stdout",
     "output_type": "stream",
     "text": [
      "(127, 6, 21)\n",
      "[[1. 0. 0. 0. 0. 0. 0. 0. 0. 0. 0. 0. 0. 0. 0. 0. 0. 0. 0. 0. 0.]\n",
      " [1. 0. 0. 0. 0. 0. 0. 0. 0. 0. 0. 0. 0. 0. 0. 0. 0. 0. 0. 0. 0.]\n",
      " [1. 0. 0. 0. 0. 0. 0. 0. 0. 0. 0. 0. 0. 0. 0. 0. 0. 0. 0. 0. 0.]\n",
      " [1. 0. 0. 0. 0. 0. 0. 0. 0. 0. 0. 0. 0. 0. 0. 0. 0. 0. 0. 0. 0.]\n",
      " [0. 0. 1. 0. 0. 0. 0. 0. 0. 0. 0. 0. 0. 0. 0. 0. 0. 0. 0. 0. 0.]\n",
      " [1. 0. 0. 0. 0. 0. 0. 0. 0. 0. 0. 0. 0. 0. 0. 0. 0. 0. 0. 0. 0.]]\n",
      "#__________________________________________________________#\n",
      "(2827, 6, 21)\n",
      "[[1. 0. 0. 0. 0. 0. 0. 0. 0. 0. 0. 0. 0. 0. 0. 0. 0. 0. 0. 0. 0.]\n",
      " [1. 0. 0. 0. 0. 0. 0. 0. 0. 0. 0. 0. 0. 0. 0. 0. 0. 0. 0. 0. 0.]\n",
      " [1. 0. 0. 0. 0. 0. 0. 0. 0. 0. 0. 0. 0. 0. 0. 0. 0. 0. 0. 0. 0.]\n",
      " [1. 0. 0. 0. 0. 0. 0. 0. 0. 0. 0. 0. 0. 0. 0. 0. 0. 0. 0. 0. 0.]\n",
      " [0. 0. 0. 0. 1. 0. 0. 0. 0. 0. 0. 0. 0. 0. 0. 0. 0. 0. 0. 0. 0.]\n",
      " [1. 0. 0. 0. 0. 0. 0. 0. 0. 0. 0. 0. 0. 0. 0. 0. 0. 0. 0. 0. 0.]]\n"
     ]
    }
   ],
   "source": [
    "from sklearn.metrics import accuracy_score, precision_score,recall_score,f1_score\n",
    "\n",
    "print(y_true.shape)\n",
    "print(y_true[7])\n",
    "print('#__________________________________________________________#')\n",
    "print(y_pred.shape)\n",
    "y_true_ravel = y_true.ravel()\n",
    "\n",
    "# argmax the shizzle out of the swizzle\n",
    "corr_y_pred = np.zeros_like(y_pred)\n",
    "\n",
    "for fidx, frame in enumerate(y_pred):\n",
    "    for sidx, string in enumerate(frame):\n",
    "        corr_y_pred[fidx][sidx][np.argmax(string)] = 1\n",
    "\n",
    "print(corr_y_pred[7])\n",
    "\n",
    "corr_y_pred_ravel = corr_y_pred.ravel()\n",
    "#print(corr_y_pred_ravel[:50])\n",
    "#print(y_true_ravel[:50])\n"
   ]
  },
  {
   "cell_type": "code",
   "execution_count": 47,
   "metadata": {},
   "outputs": [
    {
     "ename": "ValueError",
     "evalue": "Found input variables with inconsistent numbers of samples: [16002, 356202]",
     "output_type": "error",
     "traceback": [
      "\u001b[0;31m---------------------------------------------------------------------------\u001b[0m",
      "\u001b[0;31mValueError\u001b[0m                                Traceback (most recent call last)",
      "Cell \u001b[0;32mIn[47], line 1\u001b[0m\n\u001b[0;32m----> 1\u001b[0m acc \u001b[39m=\u001b[39m accuracy_score(y_true_ravel, corr_y_pred_ravel)\n\u001b[1;32m      2\u001b[0m prec \u001b[39m=\u001b[39m precision_score(y_true_ravel, corr_y_pred_ravel)\n\u001b[1;32m      3\u001b[0m rec \u001b[39m=\u001b[39m recall_score(y_true_ravel, corr_y_pred_ravel)\n",
      "File \u001b[0;32m~/swizzle/.venv/lib/python3.9/site-packages/sklearn/metrics/_classification.py:211\u001b[0m, in \u001b[0;36maccuracy_score\u001b[0;34m(y_true, y_pred, normalize, sample_weight)\u001b[0m\n\u001b[1;32m    145\u001b[0m \u001b[39m\"\"\"Accuracy classification score.\u001b[39;00m\n\u001b[1;32m    146\u001b[0m \n\u001b[1;32m    147\u001b[0m \u001b[39mIn multilabel classification, this function computes subset accuracy:\u001b[39;00m\n\u001b[0;32m   (...)\u001b[0m\n\u001b[1;32m    207\u001b[0m \u001b[39m0.5\u001b[39;00m\n\u001b[1;32m    208\u001b[0m \u001b[39m\"\"\"\u001b[39;00m\n\u001b[1;32m    210\u001b[0m \u001b[39m# Compute accuracy for each possible representation\u001b[39;00m\n\u001b[0;32m--> 211\u001b[0m y_type, y_true, y_pred \u001b[39m=\u001b[39m _check_targets(y_true, y_pred)\n\u001b[1;32m    212\u001b[0m check_consistent_length(y_true, y_pred, sample_weight)\n\u001b[1;32m    213\u001b[0m \u001b[39mif\u001b[39;00m y_type\u001b[39m.\u001b[39mstartswith(\u001b[39m\"\u001b[39m\u001b[39mmultilabel\u001b[39m\u001b[39m\"\u001b[39m):\n",
      "File \u001b[0;32m~/swizzle/.venv/lib/python3.9/site-packages/sklearn/metrics/_classification.py:84\u001b[0m, in \u001b[0;36m_check_targets\u001b[0;34m(y_true, y_pred)\u001b[0m\n\u001b[1;32m     57\u001b[0m \u001b[39mdef\u001b[39;00m \u001b[39m_check_targets\u001b[39m(y_true, y_pred):\n\u001b[1;32m     58\u001b[0m     \u001b[39m\"\"\"Check that y_true and y_pred belong to the same classification task.\u001b[39;00m\n\u001b[1;32m     59\u001b[0m \n\u001b[1;32m     60\u001b[0m \u001b[39m    This converts multiclass or binary types to a common shape, and raises a\u001b[39;00m\n\u001b[0;32m   (...)\u001b[0m\n\u001b[1;32m     82\u001b[0m \u001b[39m    y_pred : array or indicator matrix\u001b[39;00m\n\u001b[1;32m     83\u001b[0m \u001b[39m    \"\"\"\u001b[39;00m\n\u001b[0;32m---> 84\u001b[0m     check_consistent_length(y_true, y_pred)\n\u001b[1;32m     85\u001b[0m     type_true \u001b[39m=\u001b[39m type_of_target(y_true)\n\u001b[1;32m     86\u001b[0m     type_pred \u001b[39m=\u001b[39m type_of_target(y_pred)\n",
      "File \u001b[0;32m~/swizzle/.venv/lib/python3.9/site-packages/sklearn/utils/validation.py:332\u001b[0m, in \u001b[0;36mcheck_consistent_length\u001b[0;34m(*arrays)\u001b[0m\n\u001b[1;32m    330\u001b[0m uniques \u001b[39m=\u001b[39m np\u001b[39m.\u001b[39munique(lengths)\n\u001b[1;32m    331\u001b[0m \u001b[39mif\u001b[39;00m \u001b[39mlen\u001b[39m(uniques) \u001b[39m>\u001b[39m \u001b[39m1\u001b[39m:\n\u001b[0;32m--> 332\u001b[0m     \u001b[39mraise\u001b[39;00m \u001b[39mValueError\u001b[39;00m(\n\u001b[1;32m    333\u001b[0m         \u001b[39m\"\u001b[39m\u001b[39mFound input variables with inconsistent numbers of samples: \u001b[39m\u001b[39m%r\u001b[39;00m\u001b[39m\"\u001b[39m\n\u001b[1;32m    334\u001b[0m         \u001b[39m%\u001b[39m [\u001b[39mint\u001b[39m(l) \u001b[39mfor\u001b[39;00m l \u001b[39min\u001b[39;00m lengths]\n\u001b[1;32m    335\u001b[0m     )\n",
      "\u001b[0;31mValueError\u001b[0m: Found input variables with inconsistent numbers of samples: [16002, 356202]"
     ]
    }
   ],
   "source": [
    "acc = accuracy_score(y_true_ravel, corr_y_pred_ravel)\n",
    "prec = precision_score(y_true_ravel, corr_y_pred_ravel)\n",
    "rec = recall_score(y_true_ravel, corr_y_pred_ravel)\n",
    "f1 = f1_score(y_true_ravel, corr_y_pred_ravel)\n",
    "\n",
    "\n",
    "print('#__________________________________________________________#')\n",
    "print('Accuracy score:', acc)\n",
    "print('#__________________________________________________________#')\n",
    "print('Precision score:', prec)\n",
    "print('#__________________________________________________________#')\n",
    "print('Recall score:', rec)\n",
    "print('#__________________________________________________________#')\n",
    "print('f1_score:', f1)"
   ]
  },
  {
   "attachments": {},
   "cell_type": "markdown",
   "metadata": {},
   "source": [
    "# Data characteristics and Error analysis"
   ]
  },
  {
   "cell_type": "code",
   "execution_count": 48,
   "metadata": {},
   "outputs": [],
   "source": [
    "def data_characteristics(labels: np.array, verbose: bool = True):\n",
    "    dc = {\n",
    "        'empty_frames': 0,\n",
    "        'single_note_frames': 0,\n",
    "        'multi_note_frames': 0\n",
    "    }\n",
    "\n",
    "    # empty frame\n",
    "    empty = [[1, 0, 0, 0, 0, 0, 0, 0, 0, 0, 0, 0, 0, 0, 0, 0, 0, 0, 0, 0, 0.],\n",
    "             [1, 0, 0, 0, 0, 0, 0, 0, 0, 0, 0, 0, 0, 0, 0, 0, 0, 0, 0, 0, 0.],\n",
    "             [1, 0, 0, 0, 0, 0, 0, 0, 0, 0, 0, 0, 0, 0, 0, 0, 0, 0, 0, 0, 0.],\n",
    "             [1, 0, 0, 0, 0, 0, 0, 0, 0, 0, 0, 0, 0, 0, 0, 0, 0, 0, 0, 0, 0.],\n",
    "             [1, 0, 0, 0, 0, 0, 0, 0, 0, 0, 0, 0, 0, 0, 0, 0, 0, 0, 0, 0, 0.],\n",
    "             [1, 0, 0, 0, 0, 0, 0, 0, 0, 0, 0, 0, 0, 0, 0, 0, 0, 0, 0, 0, 0.]]\n",
    "\n",
    "    if labels.shape[1:] == (6, 21):\n",
    "\n",
    "        for fidx, frame in enumerate(labels):\n",
    "\n",
    "            if np.all(frame == empty):\n",
    "                dc['empty_frames'] += 1\n",
    "\n",
    "            else:\n",
    "                # get number of notes played by number of strings played\n",
    "                n_notes = 6 - sum([i[0] for i in frame])\n",
    "                if n_notes == 1:\n",
    "                    dc['single_note_frames'] += 1\n",
    "                elif n_notes > 1:\n",
    "                    dc['multi_note_frames'] += 1\n",
    "                else: continue\n",
    "    \n",
    "\n",
    "    if verbose:\n",
    "        print(\"-\"*30)\n",
    "        print(\"|\", \" \"*5, \"Label analysis\", \" \"*5, \"|\")\n",
    "        print(\"-\"*30)\n",
    "\n",
    "        for key, value in dc.items():\n",
    "            if key in ['strings_correct', 'null_correct', 'fully_correct']:\n",
    "                print('-'*30)\n",
    "\n",
    "            print(f\"| {key:<19}: {value:>5} |\")\n",
    "\n",
    "        print(\"-\"*30)\n",
    "    \n",
    "    return dc"
   ]
  },
  {
   "cell_type": "code",
   "execution_count": 49,
   "metadata": {},
   "outputs": [
    {
     "name": "stdout",
     "output_type": "stream",
     "text": [
      "------------------------------\n",
      "|       Label analysis       |\n",
      "------------------------------\n",
      "| empty_frames       :    15 |\n",
      "| single_note_frames :   109 |\n",
      "| multi_note_frames  :     3 |\n",
      "------------------------------\n"
     ]
    }
   ],
   "source": [
    "_ = data_characteristics(y_true, verbose=True)"
   ]
  },
  {
   "cell_type": "code",
   "execution_count": 50,
   "metadata": {},
   "outputs": [],
   "source": [
    "def error_analysis(true: np.array, test: np.array, transform_preds: bool = True, verbose: bool = True):\n",
    "    \"\"\"Takes true labels and (transformed) test labels in the (n, 6, 21) shape and performs error analysis.\n",
    "\n",
    "    Args:\n",
    "        true (np.array): True labels. Shape expected (n, 6, 21)\n",
    "        test (np.array): Test labels. Shape expected (n, 6, 21)\n",
    "        transform_preds (bool): If true, transforms prediction probabilities to 0 or 1 using argmax. Defaults to True.\n",
    "        verbose (bool): If true, prints out results. Defaults to True.\n",
    "    \n",
    "    Returns:\n",
    "        dict: Dictionary with error analysis data.\n",
    "    \"\"\"\n",
    "\n",
    "    ea = {\n",
    "    'frets_correct': 0,\n",
    "    'frets_wrong': 0,\n",
    "    'strings_correct': 0,\n",
    "    'strings_wrong': 0,\n",
    "    'null_correct': 0,\n",
    "    'null_wrong': 0,\n",
    "    'null_total': 0,\n",
    "    'fully_correct': 0,\n",
    "    'part_correct': 0,\n",
    "    'fully_wrong': 0,\n",
    "    'total': 0\n",
    "}\n",
    "\n",
    "\n",
    "    # transform predictions to be [0, 1]\n",
    "    if transform_preds:\n",
    "        temp = np.zeros_like(test)\n",
    "        for fidx, frame in enumerate(test):\n",
    "            for sidx, string in enumerate(frame):\n",
    "                temp[fidx][sidx][np.argmax(string)] = 1\n",
    "        \n",
    "        test = temp\n",
    "        del temp\n",
    "\n",
    "\n",
    "    # empty frame\n",
    "    empty = [[1, 0, 0, 0, 0, 0, 0, 0, 0, 0, 0, 0, 0, 0, 0, 0, 0, 0, 0, 0, 0.],\n",
    "             [1, 0, 0, 0, 0, 0, 0, 0, 0, 0, 0, 0, 0, 0, 0, 0, 0, 0, 0, 0, 0.],\n",
    "             [1, 0, 0, 0, 0, 0, 0, 0, 0, 0, 0, 0, 0, 0, 0, 0, 0, 0, 0, 0, 0.],\n",
    "             [1, 0, 0, 0, 0, 0, 0, 0, 0, 0, 0, 0, 0, 0, 0, 0, 0, 0, 0, 0, 0.],\n",
    "             [1, 0, 0, 0, 0, 0, 0, 0, 0, 0, 0, 0, 0, 0, 0, 0, 0, 0, 0, 0, 0.],\n",
    "             [1, 0, 0, 0, 0, 0, 0, 0, 0, 0, 0, 0, 0, 0, 0, 0, 0, 0, 0, 0, 0.]]\n",
    "\n",
    "\n",
    "    # for all frames in true labels\n",
    "    for idx, frame in enumerate(true):\n",
    "\n",
    "        # if no notes were played\n",
    "        if np.all(frame == empty):\n",
    "\n",
    "            if np.all(frame == test[idx]):\n",
    "                ea['null_correct'] += 1\n",
    "            else:\n",
    "                ea['null_wrong'] += 1\n",
    "\n",
    "            ea['null_total'] += 1\n",
    "\n",
    "        # if a note was played\n",
    "        else:\n",
    "            # strings match\n",
    "            if np.all(frame[:, 0] == test[idx][:, 0]):\n",
    "                ea['strings_correct'] += 1\n",
    "            \n",
    "            else: \n",
    "                ea['strings_wrong'] += 1\n",
    "\n",
    "            # frets match\n",
    "            if np.all(frame[:, 1:] == test[idx][:, 1:]):\n",
    "                ea['frets_correct'] += 1\n",
    "            \n",
    "            # only some of the frets match\n",
    "            elif np.any(frame[:, 1:] == test[idx][:, 1:]):\n",
    "                ea['part_correct'] += 1\n",
    "                ea['frets_wrong'] += 1\n",
    "\n",
    "            # no frets match\n",
    "            elif not np.any(frame[:, 1:] == test[idx][:, 1:]):\n",
    "                ea['frets_wrong'] += 1\n",
    "\n",
    "            # nothing matches\n",
    "            if not np.any(frame == test[idx]):\n",
    "                ea['fully_wrong'] += 1\n",
    "            \n",
    "            # everything matches\n",
    "            if np.all(frame == test[idx]):\n",
    "                ea['fully_correct'] += 1\n",
    "        \n",
    "        # increase frame counter\n",
    "        ea['total'] += 1\n",
    "        \n",
    "    if verbose:\n",
    "        print(\"-\"*26)\n",
    "        print(\"|\", \" \"*3, \"Error analysis\", \" \"*3, \"|\")\n",
    "        print(\"-\"*26)\n",
    "\n",
    "        for key, value in ea.items():\n",
    "            if key in ['strings_correct', 'null_correct', 'fully_correct']:\n",
    "                print('-'*26)\n",
    "\n",
    "            print(f\"| {key:<15}: {value:>5} |\")\n",
    "\n",
    "        print(\"-\"*26)\n",
    "    \n",
    "    return ea"
   ]
  },
  {
   "cell_type": "code",
   "execution_count": 51,
   "metadata": {},
   "outputs": [
    {
     "name": "stdout",
     "output_type": "stream",
     "text": [
      "--------------------------\n",
      "|     Error analysis     |\n",
      "--------------------------\n",
      "| frets_correct  :     1 |\n",
      "| frets_wrong    :   111 |\n",
      "--------------------------\n",
      "| strings_correct:    18 |\n",
      "| strings_wrong  :    94 |\n",
      "--------------------------\n",
      "| null_correct   :     2 |\n",
      "| null_wrong     :    13 |\n",
      "| null_total     :    15 |\n",
      "--------------------------\n",
      "| fully_correct  :     1 |\n",
      "| part_correct   :   111 |\n",
      "| fully_wrong    :     0 |\n",
      "| total          :   127 |\n",
      "--------------------------\n"
     ]
    }
   ],
   "source": [
    "errors = error_analysis(y_true, y_pred, transform_preds=True, verbose=True)"
   ]
  },
  {
   "cell_type": "code",
   "execution_count": 52,
   "metadata": {},
   "outputs": [
    {
     "data": {
      "text/plain": [
       "127"
      ]
     },
     "execution_count": 52,
     "metadata": {},
     "output_type": "execute_result"
    }
   ],
   "source": [
    "errors['total']"
   ]
  },
  {
   "cell_type": "code",
   "execution_count": 53,
   "metadata": {},
   "outputs": [
    {
     "name": "stdout",
     "output_type": "stream",
     "text": [
      "Total percentage of right predicted values of all values: 2.3622047244094486\n",
      "Percentage of right predicted strings out of strings: 16.07142857142857\n",
      "Percentage of right predicted frets out of frets: 0.8928571428571428\n"
     ]
    }
   ],
   "source": [
    "#total percentage of total values\n",
    "a = errors['total']/100\n",
    "t = (errors['fully_correct']+errors['null_correct'])/a\n",
    "print('Total percentage of right predicted values of all values:',t)\n",
    "\n",
    "#strings percentage of all strings\n",
    "strings = errors['strings_correct']+errors['strings_wrong']\n",
    "b = strings/100\n",
    "s = errors['strings_correct']/b\n",
    "print('Percentage of right predicted strings out of strings:',s)\n",
    "#fret percentage of all frets\n",
    "strings = errors['frets_correct']+errors['frets_wrong']\n",
    "c = strings/100\n",
    "f = errors['frets_correct']/c\n",
    "print('Percentage of right predicted frets out of frets:',f)"
   ]
  }
 ],
 "metadata": {
  "kernelspec": {
   "display_name": ".venv",
   "language": "python",
   "name": "python3"
  },
  "language_info": {
   "codemirror_mode": {
    "name": "ipython",
    "version": 3
   },
   "file_extension": ".py",
   "mimetype": "text/x-python",
   "name": "python",
   "nbconvert_exporter": "python",
   "pygments_lexer": "ipython3",
   "version": "3.9.8"
  },
  "orig_nbformat": 4,
  "vscode": {
   "interpreter": {
    "hash": "2ce22ec9b47a0c8818982fc2e83d14df8db5ffc759b38b6aa7930ef673c52175"
   }
  }
 },
 "nbformat": 4,
 "nbformat_minor": 2
}
