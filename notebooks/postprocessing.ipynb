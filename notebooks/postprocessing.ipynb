{
 "cells": [
  {
   "attachments": {},
   "cell_type": "markdown",
   "metadata": {},
   "source": [
    "# Postprocessing Pipeline"
   ]
  },
  {
   "cell_type": "markdown",
   "metadata": {},
   "source": [
    "---"
   ]
  },
  {
   "attachments": {},
   "cell_type": "markdown",
   "metadata": {},
   "source": [
    "This notebook shows our postprocessing pipeline for one example."
   ]
  },
  {
   "attachments": {},
   "cell_type": "markdown",
   "metadata": {},
   "source": [
    "## Input"
   ]
  },
  {
   "attachments": {},
   "cell_type": "markdown",
   "metadata": {},
   "source": [
    "1. Input will be a list of arrays with shape 6x21. The list length will vary from song to song.\n",
    "\n",
    "1. The arrays come from overlapping timeframes, so that data from array $a_0$ can still be found in arrays $a_1$ to $a_8$.\n",
    "\n",
    "1. We don't know what data that is."
   ]
  },
  {
   "attachments": {},
   "cell_type": "markdown",
   "metadata": {},
   "source": [
    "## Code"
   ]
  },
  {
   "cell_type": "code",
   "execution_count": 1254,
   "metadata": {},
   "outputs": [],
   "source": [
    "# imports\n",
    "import numpy as np\n",
    "import pandas as pd\n",
    "import IPython\n",
    "import jams\n",
    "import matplotlib.pyplot as plt\n",
    "import seaborn as sns"
   ]
  },
  {
   "cell_type": "code",
   "execution_count": 1255,
   "metadata": {},
   "outputs": [],
   "source": [
    "labeldata = np.load('../data/output/00_BN1-129-Eb_solo_mic_labels.npz')\n",
    "jamsdata = jams.load('../data/raw/annotation/00_BN1-129-Eb_solo.jams')"
   ]
  },
  {
   "cell_type": "code",
   "execution_count": 1256,
   "metadata": {},
   "outputs": [],
   "source": [
    "# positions 41-43 have two notes on the same string. this should not be possible?\n",
    "# labeldata['arr_0'][41]"
   ]
  },
  {
   "attachments": {},
   "cell_type": "markdown",
   "metadata": {},
   "source": [
    "### Functions to get ground truth from jams files"
   ]
  },
  {
   "cell_type": "code",
   "execution_count": 1257,
   "metadata": {},
   "outputs": [],
   "source": [
    "# getting midi info from jams file\n",
    "def midi_info_from_jams(data: jams.JAMS):\n",
    "    n = []\n",
    "    s = []\n",
    "    for string, i in enumerate(data.annotations['note_midi']):\n",
    "        for j in i['data']:\n",
    "            n.append(j[:-1])        # NOTES PLAYED\n",
    "            s.append(string)        # STRINGS USED\n",
    "\n",
    "    return s, n"
   ]
  },
  {
   "cell_type": "code",
   "execution_count": 1258,
   "metadata": {},
   "outputs": [],
   "source": [
    "# adding fret column to notes_played_df\n",
    "def find_frets_from_jams(notes_played, strings_used):\n",
    "    tuning = [40, 45, 50, 55, 59, 64]\n",
    "    notes = [n[2] for n in np.round(notes_played, 0)]\n",
    "    fret = []\n",
    "    for idx, i in enumerate(notes):\n",
    "        if strings_used[idx] < 4:\n",
    "            fret.append(int(notes[idx] - (40 + strings_used[idx] * 5)))\n",
    "        elif strings_used[idx] >= 4:\n",
    "            fret.append(int(notes[idx] - (39 + strings_used[idx] * 5)))\n",
    "    \n",
    "    return fret"
   ]
  },
  {
   "cell_type": "code",
   "execution_count": 1259,
   "metadata": {},
   "outputs": [],
   "source": [
    "# get midi info\n",
    "strings_used, notes_played = midi_info_from_jams(jamsdata)\n",
    "\n",
    "# build dataframe\n",
    "ground_truth_df = pd.DataFrame(notes_played, columns=['time', 'dur', 'midi'])\n",
    "\n",
    "# adding string information\n",
    "ground_truth_df['string'] = strings_used\n",
    "\n",
    "# cleaning midi information\n",
    "ground_truth_df['midi'] = ground_truth_df['midi'].round(0).astype(int)\n",
    "\n",
    "# reformatting dataframe\n",
    "ground_truth_df = ground_truth_df.sort_values(by='time')\n",
    "ground_truth_df = ground_truth_df.reset_index().drop('index', axis=1)\n",
    "\n",
    "# adding positional information\n",
    "ground_truth_df['pos'] = list(range(ground_truth_df.shape[0]))\n",
    "\n",
    "# adding frets\n",
    "ground_truth_df['fret'] = find_frets_from_jams(notes_played, strings_used)"
   ]
  },
  {
   "cell_type": "code",
   "execution_count": 1260,
   "metadata": {},
   "outputs": [
    {
     "data": {
      "text/html": [
       "<div>\n",
       "<style scoped>\n",
       "    .dataframe tbody tr th:only-of-type {\n",
       "        vertical-align: middle;\n",
       "    }\n",
       "\n",
       "    .dataframe tbody tr th {\n",
       "        vertical-align: top;\n",
       "    }\n",
       "\n",
       "    .dataframe thead th {\n",
       "        text-align: right;\n",
       "    }\n",
       "</style>\n",
       "<table border=\"1\" class=\"dataframe\">\n",
       "  <thead>\n",
       "    <tr style=\"text-align: right;\">\n",
       "      <th></th>\n",
       "      <th>time</th>\n",
       "      <th>dur</th>\n",
       "      <th>midi</th>\n",
       "      <th>string</th>\n",
       "      <th>pos</th>\n",
       "      <th>fret</th>\n",
       "    </tr>\n",
       "  </thead>\n",
       "  <tbody>\n",
       "    <tr>\n",
       "      <th>0</th>\n",
       "      <td>0.008544</td>\n",
       "      <td>0.174150</td>\n",
       "      <td>56</td>\n",
       "      <td>2</td>\n",
       "      <td>0</td>\n",
       "      <td>6</td>\n",
       "    </tr>\n",
       "    <tr>\n",
       "      <th>1</th>\n",
       "      <td>0.009973</td>\n",
       "      <td>0.214785</td>\n",
       "      <td>46</td>\n",
       "      <td>0</td>\n",
       "      <td>1</td>\n",
       "      <td>6</td>\n",
       "    </tr>\n",
       "    <tr>\n",
       "      <th>2</th>\n",
       "      <td>0.015052</td>\n",
       "      <td>0.168345</td>\n",
       "      <td>51</td>\n",
       "      <td>1</td>\n",
       "      <td>2</td>\n",
       "      <td>8</td>\n",
       "    </tr>\n",
       "    <tr>\n",
       "      <th>3</th>\n",
       "      <td>0.186957</td>\n",
       "      <td>0.301859</td>\n",
       "      <td>53</td>\n",
       "      <td>1</td>\n",
       "      <td>3</td>\n",
       "      <td>7</td>\n",
       "    </tr>\n",
       "    <tr>\n",
       "      <th>4</th>\n",
       "      <td>0.187705</td>\n",
       "      <td>0.290249</td>\n",
       "      <td>58</td>\n",
       "      <td>2</td>\n",
       "      <td>4</td>\n",
       "      <td>7</td>\n",
       "    </tr>\n",
       "    <tr>\n",
       "      <th>...</th>\n",
       "      <td>...</td>\n",
       "      <td>...</td>\n",
       "      <td>...</td>\n",
       "      <td>...</td>\n",
       "      <td>...</td>\n",
       "      <td>...</td>\n",
       "    </tr>\n",
       "    <tr>\n",
       "      <th>66</th>\n",
       "      <td>18.657478</td>\n",
       "      <td>0.731429</td>\n",
       "      <td>58</td>\n",
       "      <td>3</td>\n",
       "      <td>66</td>\n",
       "      <td>8</td>\n",
       "    </tr>\n",
       "    <tr>\n",
       "      <th>67</th>\n",
       "      <td>19.356367</td>\n",
       "      <td>0.214785</td>\n",
       "      <td>53</td>\n",
       "      <td>2</td>\n",
       "      <td>67</td>\n",
       "      <td>6</td>\n",
       "    </tr>\n",
       "    <tr>\n",
       "      <th>68</th>\n",
       "      <td>19.598136</td>\n",
       "      <td>0.487619</td>\n",
       "      <td>53</td>\n",
       "      <td>2</td>\n",
       "      <td>68</td>\n",
       "      <td>8</td>\n",
       "    </tr>\n",
       "    <tr>\n",
       "      <th>69</th>\n",
       "      <td>20.095959</td>\n",
       "      <td>0.098685</td>\n",
       "      <td>54</td>\n",
       "      <td>2</td>\n",
       "      <td>69</td>\n",
       "      <td>6</td>\n",
       "    </tr>\n",
       "    <tr>\n",
       "      <th>70</th>\n",
       "      <td>20.560812</td>\n",
       "      <td>1.763588</td>\n",
       "      <td>55</td>\n",
       "      <td>2</td>\n",
       "      <td>70</td>\n",
       "      <td>6</td>\n",
       "    </tr>\n",
       "  </tbody>\n",
       "</table>\n",
       "<p>71 rows × 6 columns</p>\n",
       "</div>"
      ],
      "text/plain": [
       "         time       dur  midi  string  pos  fret\n",
       "0    0.008544  0.174150    56       2    0     6\n",
       "1    0.009973  0.214785    46       0    1     6\n",
       "2    0.015052  0.168345    51       1    2     8\n",
       "3    0.186957  0.301859    53       1    3     7\n",
       "4    0.187705  0.290249    58       2    4     7\n",
       "..        ...       ...   ...     ...  ...   ...\n",
       "66  18.657478  0.731429    58       3   66     8\n",
       "67  19.356367  0.214785    53       2   67     6\n",
       "68  19.598136  0.487619    53       2   68     8\n",
       "69  20.095959  0.098685    54       2   69     6\n",
       "70  20.560812  1.763588    55       2   70     6\n",
       "\n",
       "[71 rows x 6 columns]"
      ]
     },
     "execution_count": 1260,
     "metadata": {},
     "output_type": "execute_result"
    }
   ],
   "source": [
    "ground_truth_df"
   ]
  },
  {
   "attachments": {},
   "cell_type": "markdown",
   "metadata": {},
   "source": [
    "Testing convert to label"
   ]
  },
  {
   "cell_type": "code",
   "execution_count": 1279,
   "metadata": {},
   "outputs": [
    {
     "data": {
      "text/html": [
       "<div>\n",
       "<style scoped>\n",
       "    .dataframe tbody tr th:only-of-type {\n",
       "        vertical-align: middle;\n",
       "    }\n",
       "\n",
       "    .dataframe tbody tr th {\n",
       "        vertical-align: top;\n",
       "    }\n",
       "\n",
       "    .dataframe thead th {\n",
       "        text-align: right;\n",
       "    }\n",
       "</style>\n",
       "<table border=\"1\" class=\"dataframe\">\n",
       "  <thead>\n",
       "    <tr style=\"text-align: right;\">\n",
       "      <th></th>\n",
       "      <th>time</th>\n",
       "      <th>dur</th>\n",
       "      <th>midi</th>\n",
       "      <th>string</th>\n",
       "      <th>pos</th>\n",
       "      <th>fret</th>\n",
       "    </tr>\n",
       "  </thead>\n",
       "  <tbody>\n",
       "    <tr>\n",
       "      <th>0</th>\n",
       "      <td>0.008544</td>\n",
       "      <td>0.174150</td>\n",
       "      <td>56</td>\n",
       "      <td>2</td>\n",
       "      <td>0</td>\n",
       "      <td>6</td>\n",
       "    </tr>\n",
       "    <tr>\n",
       "      <th>1</th>\n",
       "      <td>0.009973</td>\n",
       "      <td>0.214785</td>\n",
       "      <td>46</td>\n",
       "      <td>0</td>\n",
       "      <td>1</td>\n",
       "      <td>6</td>\n",
       "    </tr>\n",
       "    <tr>\n",
       "      <th>2</th>\n",
       "      <td>0.015052</td>\n",
       "      <td>0.168345</td>\n",
       "      <td>51</td>\n",
       "      <td>1</td>\n",
       "      <td>2</td>\n",
       "      <td>8</td>\n",
       "    </tr>\n",
       "    <tr>\n",
       "      <th>3</th>\n",
       "      <td>0.186957</td>\n",
       "      <td>0.301859</td>\n",
       "      <td>53</td>\n",
       "      <td>1</td>\n",
       "      <td>3</td>\n",
       "      <td>7</td>\n",
       "    </tr>\n",
       "    <tr>\n",
       "      <th>4</th>\n",
       "      <td>0.187705</td>\n",
       "      <td>0.290249</td>\n",
       "      <td>58</td>\n",
       "      <td>2</td>\n",
       "      <td>4</td>\n",
       "      <td>7</td>\n",
       "    </tr>\n",
       "  </tbody>\n",
       "</table>\n",
       "</div>"
      ],
      "text/plain": [
       "       time       dur  midi  string  pos  fret\n",
       "0  0.008544  0.174150    56       2    0     6\n",
       "1  0.009973  0.214785    46       0    1     6\n",
       "2  0.015052  0.168345    51       1    2     8\n",
       "3  0.186957  0.301859    53       1    3     7\n",
       "4  0.187705  0.290249    58       2    4     7"
      ]
     },
     "execution_count": 1279,
     "metadata": {},
     "output_type": "execute_result"
    }
   ],
   "source": [
    "# timeframe\n",
    "fps = 43\n",
    "start = 0\n",
    "end = (1/fps) *9\n",
    "\n",
    "labels = ground_truth_df[(ground_truth_df['time'] <= end) & (ground_truth_df['time'] > start)]\n",
    "labels"
   ]
  },
  {
   "attachments": {},
   "cell_type": "markdown",
   "metadata": {},
   "source": [
    "### Functions to build tabs from CNN output"
   ]
  },
  {
   "cell_type": "code",
   "execution_count": 1275,
   "metadata": {},
   "outputs": [
    {
     "data": {
      "text/plain": [
       "array([[0., 0., 0., 0., 0., 0., 0., 1., 0., 0., 0., 0., 0., 0., 0., 0.,\n",
       "        0., 0., 0., 0., 0.],\n",
       "       [0., 0., 0., 0., 0., 0., 0., 1., 0., 0., 0., 0., 0., 0., 0., 0.,\n",
       "        0., 0., 0., 0., 0.],\n",
       "       [0., 0., 0., 0., 0., 0., 0., 1., 0., 0., 0., 0., 0., 0., 0., 0.,\n",
       "        0., 0., 0., 0., 0.],\n",
       "       [1., 0., 0., 0., 0., 0., 0., 0., 0., 0., 0., 0., 0., 0., 0., 0.,\n",
       "        0., 0., 0., 0., 0.],\n",
       "       [1., 0., 0., 0., 0., 0., 0., 0., 0., 0., 0., 0., 0., 0., 0., 0.,\n",
       "        0., 0., 0., 0., 0.],\n",
       "       [1., 0., 0., 0., 0., 0., 0., 0., 0., 0., 0., 0., 0., 0., 0., 0.,\n",
       "        0., 0., 0., 0., 0.]])"
      ]
     },
     "execution_count": 1275,
     "metadata": {},
     "output_type": "execute_result"
    }
   ],
   "source": [
    "labeldata['arr_0'][0]"
   ]
  },
  {
   "cell_type": "code",
   "execution_count": 1262,
   "metadata": {},
   "outputs": [],
   "source": [
    "def find_frets(labels):\n",
    "\n",
    "    tabs = []\n",
    "    \n",
    "    # get indices where labeldata is 1\n",
    "    idx = np.where(labeldata['arr_0'] == 1)\n",
    "\n",
    "    for position, window in enumerate(labels['arr_0']):\n",
    "        for string, data in enumerate(window):\n",
    "            idx = np.where(data[1:] == 1)\n",
    "            if idx[0].size > 0:\n",
    "                tabs.append([position, string, np.squeeze(idx[0][0])]) # [-1] is a quickfix for the error found above!\n",
    "\n",
    "    tabs_df = pd.DataFrame(tabs, columns=['pos', 'string', 'fret'])"
   ]
  },
  {
   "cell_type": "code",
   "execution_count": 1263,
   "metadata": {},
   "outputs": [
    {
     "data": {
      "text/html": [
       "<div>\n",
       "<style scoped>\n",
       "    .dataframe tbody tr th:only-of-type {\n",
       "        vertical-align: middle;\n",
       "    }\n",
       "\n",
       "    .dataframe tbody tr th {\n",
       "        vertical-align: top;\n",
       "    }\n",
       "\n",
       "    .dataframe thead th {\n",
       "        text-align: right;\n",
       "    }\n",
       "</style>\n",
       "<table border=\"1\" class=\"dataframe\">\n",
       "  <thead>\n",
       "    <tr style=\"text-align: right;\">\n",
       "      <th></th>\n",
       "      <th>pos</th>\n",
       "      <th>string</th>\n",
       "      <th>fret</th>\n",
       "    </tr>\n",
       "  </thead>\n",
       "  <tbody>\n",
       "    <tr>\n",
       "      <th>0</th>\n",
       "      <td>0</td>\n",
       "      <td>0</td>\n",
       "      <td>6</td>\n",
       "    </tr>\n",
       "    <tr>\n",
       "      <th>1</th>\n",
       "      <td>0</td>\n",
       "      <td>1</td>\n",
       "      <td>6</td>\n",
       "    </tr>\n",
       "    <tr>\n",
       "      <th>2</th>\n",
       "      <td>0</td>\n",
       "      <td>2</td>\n",
       "      <td>6</td>\n",
       "    </tr>\n",
       "    <tr>\n",
       "      <th>3</th>\n",
       "      <td>1</td>\n",
       "      <td>0</td>\n",
       "      <td>6</td>\n",
       "    </tr>\n",
       "    <tr>\n",
       "      <th>4</th>\n",
       "      <td>1</td>\n",
       "      <td>1</td>\n",
       "      <td>6</td>\n",
       "    </tr>\n",
       "    <tr>\n",
       "      <th>5</th>\n",
       "      <td>1</td>\n",
       "      <td>2</td>\n",
       "      <td>6</td>\n",
       "    </tr>\n",
       "    <tr>\n",
       "      <th>6</th>\n",
       "      <td>2</td>\n",
       "      <td>0</td>\n",
       "      <td>6</td>\n",
       "    </tr>\n",
       "    <tr>\n",
       "      <th>7</th>\n",
       "      <td>2</td>\n",
       "      <td>1</td>\n",
       "      <td>6</td>\n",
       "    </tr>\n",
       "    <tr>\n",
       "      <th>8</th>\n",
       "      <td>2</td>\n",
       "      <td>2</td>\n",
       "      <td>6</td>\n",
       "    </tr>\n",
       "    <tr>\n",
       "      <th>9</th>\n",
       "      <td>3</td>\n",
       "      <td>0</td>\n",
       "      <td>6</td>\n",
       "    </tr>\n",
       "  </tbody>\n",
       "</table>\n",
       "</div>"
      ],
      "text/plain": [
       "   pos  string  fret\n",
       "0    0       0     6\n",
       "1    0       1     6\n",
       "2    0       2     6\n",
       "3    1       0     6\n",
       "4    1       1     6\n",
       "5    1       2     6\n",
       "6    2       0     6\n",
       "7    2       1     6\n",
       "8    2       2     6\n",
       "9    3       0     6"
      ]
     },
     "execution_count": 1263,
     "metadata": {},
     "output_type": "execute_result"
    }
   ],
   "source": [
    "find_frets(labeldata['arr_0'])\n",
    "\n",
    "tabs_df.head(10)"
   ]
  },
  {
   "cell_type": "code",
   "execution_count": 1264,
   "metadata": {},
   "outputs": [],
   "source": [
    "def group_positions(data):\n",
    "    \"\"\"Groups a list of lists by the first value in each nested list.\\n\n",
    "    E.g. the array\\n\\t[[0, 1, 1], [0, 2, 2], [1, 3, 3]]\\nwill be converted to\\n\n",
    "    \\t[[[0, 1, 1], [0, 2, 2]], [[1, 3, 3]]]\n",
    "\n",
    "    Args:\n",
    "        data (list): a 2D list\n",
    "\n",
    "    Returns:\n",
    "        list: The transformed list\n",
    "    \"\"\"\n",
    "\n",
    "    data = list(data)\n",
    "\n",
    "    r = []\n",
    "    for idx, t in enumerate(data):\n",
    "        if idx == 0: \n",
    "            r.append([t])\n",
    "        else:\n",
    "            if t[0] == tabs[idx-1][0]:\n",
    "                r[-1].insert(-1, t)\n",
    "            else:\n",
    "                r.append([t])\n",
    "    \n",
    "    return r"
   ]
  },
  {
   "cell_type": "code",
   "execution_count": 1265,
   "metadata": {},
   "outputs": [],
   "source": [
    "# 1. group data per position\n",
    "tabs_collected = group_positions(tabs)"
   ]
  },
  {
   "cell_type": "code",
   "execution_count": 1266,
   "metadata": {},
   "outputs": [],
   "source": [
    "# 2. check whether item is also in previous window\n",
    "#    convert list to np.array and use np.where to get the indices\n",
    "# 3. if so, remove it.\n",
    "\n",
    "# go through all entries\n",
    "def clean_tabs(data):\n",
    "\n",
    "    r = []\n",
    "    # new positions\n",
    "    pos_new = 0\n",
    "    \n",
    "    for idx, item in enumerate(data):\n",
    "\n",
    "        # get current item without index\n",
    "        item_curr = [i[1:] for i in item]\n",
    "\n",
    "        # if it's the first entry, continue\n",
    "        if idx == 0: \n",
    "            r.append([pos_new, [i for i in item_curr]])\n",
    "            pos_new += 1\n",
    "        # go through every item in entries\n",
    "        else:\n",
    "            # get previous item\n",
    "            item_prev = [i[1:] for i in data[idx-1]]\n",
    "\n",
    "            # clean current item\n",
    "            item_clean = [i for i in item_curr if not i in item_prev]\n",
    "\n",
    "            # remove duplicates\n",
    "            if item_clean:\n",
    "                pos_new += 1\n",
    "                r.append([pos_new, item_clean])\n",
    "            \n",
    "            else: continue\n",
    "    \n",
    "    return r\n",
    "    \n",
    "tabs_cleaned = clean_tabs(tabs_collected)"
   ]
  },
  {
   "cell_type": "code",
   "execution_count": 1267,
   "metadata": {},
   "outputs": [],
   "source": [
    "# save output in dataframe\n",
    "tabs_clean_df = pd.DataFrame(tabs_cleaned, columns=['pos', 'string'])"
   ]
  },
  {
   "cell_type": "code",
   "execution_count": 1268,
   "metadata": {},
   "outputs": [],
   "source": [
    "# explode positions\n",
    "tabs_clean_df = tabs_clean_df.explode('string')"
   ]
  },
  {
   "cell_type": "code",
   "execution_count": 1269,
   "metadata": {},
   "outputs": [],
   "source": [
    "# expand string, fret lists into two columns\n",
    "tabs_clean_df['fret'] = [tabs_clean_df['string'].values[i][1] for i in range(tabs_clean_df.shape[0])]\n",
    "tabs_clean_df['string'] = [tabs_clean_df['string'].values[i][0] for i in range(tabs_clean_df.shape[0])]\n",
    "\n",
    "# reset index\n",
    "tabs_clean_df = tabs_clean_df.reset_index().drop('index', axis=1)"
   ]
  },
  {
   "cell_type": "code",
   "execution_count": 1270,
   "metadata": {},
   "outputs": [
    {
     "data": {
      "text/html": [
       "<div>\n",
       "<style scoped>\n",
       "    .dataframe tbody tr th:only-of-type {\n",
       "        vertical-align: middle;\n",
       "    }\n",
       "\n",
       "    .dataframe tbody tr th {\n",
       "        vertical-align: top;\n",
       "    }\n",
       "\n",
       "    .dataframe thead th {\n",
       "        text-align: right;\n",
       "    }\n",
       "</style>\n",
       "<table border=\"1\" class=\"dataframe\">\n",
       "  <thead>\n",
       "    <tr style=\"text-align: right;\">\n",
       "      <th></th>\n",
       "      <th>pos</th>\n",
       "      <th>string</th>\n",
       "      <th>fret</th>\n",
       "    </tr>\n",
       "  </thead>\n",
       "  <tbody>\n",
       "    <tr>\n",
       "      <th>0</th>\n",
       "      <td>0</td>\n",
       "      <td>1</td>\n",
       "      <td>6</td>\n",
       "    </tr>\n",
       "    <tr>\n",
       "      <th>1</th>\n",
       "      <td>0</td>\n",
       "      <td>2</td>\n",
       "      <td>6</td>\n",
       "    </tr>\n",
       "    <tr>\n",
       "      <th>2</th>\n",
       "      <td>0</td>\n",
       "      <td>0</td>\n",
       "      <td>6</td>\n",
       "    </tr>\n",
       "    <tr>\n",
       "      <th>3</th>\n",
       "      <td>2</td>\n",
       "      <td>2</td>\n",
       "      <td>8</td>\n",
       "    </tr>\n",
       "    <tr>\n",
       "      <th>4</th>\n",
       "      <td>2</td>\n",
       "      <td>1</td>\n",
       "      <td>8</td>\n",
       "    </tr>\n",
       "    <tr>\n",
       "      <th>...</th>\n",
       "      <td>...</td>\n",
       "      <td>...</td>\n",
       "      <td>...</td>\n",
       "    </tr>\n",
       "    <tr>\n",
       "      <th>56</th>\n",
       "      <td>50</td>\n",
       "      <td>4</td>\n",
       "      <td>1</td>\n",
       "    </tr>\n",
       "    <tr>\n",
       "      <th>57</th>\n",
       "      <td>51</td>\n",
       "      <td>3</td>\n",
       "      <td>3</td>\n",
       "    </tr>\n",
       "    <tr>\n",
       "      <th>58</th>\n",
       "      <td>52</td>\n",
       "      <td>2</td>\n",
       "      <td>3</td>\n",
       "    </tr>\n",
       "    <tr>\n",
       "      <th>59</th>\n",
       "      <td>53</td>\n",
       "      <td>2</td>\n",
       "      <td>4</td>\n",
       "    </tr>\n",
       "    <tr>\n",
       "      <th>60</th>\n",
       "      <td>54</td>\n",
       "      <td>2</td>\n",
       "      <td>5</td>\n",
       "    </tr>\n",
       "  </tbody>\n",
       "</table>\n",
       "<p>61 rows × 3 columns</p>\n",
       "</div>"
      ],
      "text/plain": [
       "    pos  string  fret\n",
       "0     0       1     6\n",
       "1     0       2     6\n",
       "2     0       0     6\n",
       "3     2       2     8\n",
       "4     2       1     8\n",
       "..  ...     ...   ...\n",
       "56   50       4     1\n",
       "57   51       3     3\n",
       "58   52       2     3\n",
       "59   53       2     4\n",
       "60   54       2     5\n",
       "\n",
       "[61 rows x 3 columns]"
      ]
     },
     "execution_count": 1270,
     "metadata": {},
     "output_type": "execute_result"
    }
   ],
   "source": [
    "tabs_clean_df"
   ]
  },
  {
   "cell_type": "code",
   "execution_count": 1276,
   "metadata": {},
   "outputs": [],
   "source": [
    "def plot_tabs(data, idx_string, idx_fret, idx_pos):\n",
    "\n",
    "    fig, ax = plt.subplots(figsize=(25, 6))\n",
    "    tab_fig = sns.scatterplot(data=data, x='pos', y='string', marker=\"x\", color='white', ax=ax)\n",
    "\n",
    "    # rename yticks to string labels\n",
    "    tab_fig.axes.set_yticks(list(range(6)))\n",
    "    tab_fig.set_yticklabels(['E', 'A', 'D', 'G', 'H', 'e'])\n",
    "\n",
    "    # remove xticks\n",
    "    tab_fig.set_xticks([])\n",
    "\n",
    "    # relabel x and y\n",
    "    tab_fig.set_ylabel('String', size='large')\n",
    "    tab_fig.set_xlabel(\"\")\n",
    "\n",
    "    # remove spines\n",
    "    sns.despine(top=True, bottom=True, left=False, right=False)\n",
    "\n",
    "    # add grid\n",
    "    tab_fig.grid(which='major', axis='y', linestyle='-', color='gray')\n",
    "\n",
    "    # add frets\n",
    "    for note in data.values:\n",
    "        tab_fig.annotate(text=str(int(note[idx_fret])), xy=(note[idx_pos], note[idx_string]-0.08), size='large', color=\"red\") # can throw a FutureWarning: triggered by numpy. nothing much we can do about it."
   ]
  },
  {
   "attachments": {},
   "cell_type": "markdown",
   "metadata": {},
   "source": [
    "### Compare ground truth to post processing"
   ]
  },
  {
   "cell_type": "code",
   "execution_count": 1277,
   "metadata": {},
   "outputs": [
    {
     "data": {
      "image/png": "[encoded data removed]",
      "text/plain": [
       "<Figure size 2500x600 with 1 Axes>"
      ]
     },
     "metadata": {},
     "output_type": "display_data"
    }
   ],
   "source": [
    "plot_tabs(ground_truth_df, idx_string=3, idx_pos=4, idx_fret=5)"
   ]
  },
  {
   "cell_type": "code",
   "execution_count": 1273,
   "metadata": {},
   "outputs": [
    {
     "data": {
      "image/png": "[encoded data removed]",
      "text/plain": [
       "<Figure size 2500x600 with 1 Axes>"
      ]
     },
     "metadata": {},
     "output_type": "display_data"
    }
   ],
   "source": [
    "plot_tabs(tabs_df, idx_string=1, idx_pos=0, idx_fret=2)"
   ]
  }
 ],
 "metadata": {
  "kernelspec": {
   "display_name": ".venv",
   "language": "python",
   "name": "python3"
  },
  "language_info": {
   "codemirror_mode": {
    "name": "ipython",
    "version": 3
   },
   "file_extension": ".py",
   "mimetype": "text/x-python",
   "name": "python",
   "nbconvert_exporter": "python",
   "pygments_lexer": "ipython3",
   "version": "3.9.8"
  },
  "orig_nbformat": 4,
  "vscode": {
   "interpreter": {
    "hash": "2ce22ec9b47a0c8818982fc2e83d14df8db5ffc759b38b6aa7930ef673c52175"
   }
  }
 },
 "nbformat": 4,
 "nbformat_minor": 2
}
