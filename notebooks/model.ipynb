{
 "cells": [
  {
   "attachments": {},
   "cell_type": "markdown",
   "metadata": {},
   "source": [
    "# __CNN__"
   ]
  },
  {
   "attachments": {},
   "cell_type": "markdown",
   "metadata": {},
   "source": [
    "We decide to use CNN(convolutional neural networks) for the task of guitar tablature estimation. The previous work of Andrew Wiggins and Youngmoo Kim showed that CNNs have shown promise for translating guitar audios to tabs, and the use of CNNs has also been explored for various other tasks within music information retrieval such as musical tempo estimation, key classification, singing voice detection, and instrument classification. It is proven that CNN is a powerful tool for the purpose of our study."
   ]
  },
  {
   "attachments": {},
   "cell_type": "markdown",
   "metadata": {},
   "source": [
    "## __Import libraries__"
   ]
  },
  {
   "cell_type": "code",
   "execution_count": 1,
   "metadata": {},
   "outputs": [],
   "source": [
    "# Import required packages \n",
    "\n",
    "#various\n",
    "import datetime\n",
    "import pathlib\n",
    "import IPython.display as display\n",
    "import matplotlib.pyplot as plt\n",
    "import pandas as pd\n",
    "import numpy as np\n",
    "import os\n",
    "from PIL import Image\n",
    "import warnings\n",
    "\n",
    "\n",
    "#sklearn\n",
    "from sklearn.model_selection import train_test_split\n",
    "\n",
    "#tensorflow\n",
    "import tensorflow as tf\n",
    "import tensorflow_hub as hub\n",
    "from tensorflow import keras\n",
    "#from tensorflow.keras import layers\n",
    "\n",
    "#keras\n",
    "import keras\n",
    "from keras.datasets import mnist\n",
    "from keras.models import Sequential\n",
    "from keras.layers import Dense, Dropout, Flatten\n",
    "from keras.layers import Conv2D, MaxPooling2D\n",
    "from keras.callbacks import ReduceLROnPlateau\n",
    "from keras import backend as K\n",
    "\n",
    "# Load the TensorBoard notebook extension\n",
    "%load_ext tensorboard\n",
    "\n",
    "RSEED = 42\n",
    "\n",
    "warnings.filterwarnings('ignore')"
   ]
  },
  {
   "cell_type": "code",
   "execution_count": 2,
   "metadata": {},
   "outputs": [
    {
     "name": "stdout",
     "output_type": "stream",
     "text": [
      "2.9.0\n"
     ]
    }
   ],
   "source": [
    "# Check for Tensorflow version\n",
    "print(tf.__version__)\n",
    "tf.compat.v1.logging.set_verbosity(tf.compat.v1.logging.INFO)"
   ]
  },
  {
   "attachments": {},
   "cell_type": "markdown",
   "metadata": {},
   "source": [
    "## __Define Input Shapes__"
   ]
  },
  {
   "cell_type": "code",
   "execution_count": 3,
   "metadata": {},
   "outputs": [],
   "source": [
    "#Definition of all our constants we use for our model \n",
    "\n",
    "FRAME_HEIGHT = 192\n",
    "FRAME_WIDTH = 9\n",
    "N_CLASSES = 21\n",
    "N_STRINGS = 6\n",
    "BATCH_SIZE = 128\n",
    "EPOCHS = 8"
   ]
  },
  {
   "attachments": {},
   "cell_type": "markdown",
   "metadata": {},
   "source": [
    "Using Tensorboard to monitor our results:"
   ]
  },
  {
   "cell_type": "code",
   "execution_count": 4,
   "metadata": {},
   "outputs": [],
   "source": [
    "#%tensorboard --logdir logs/fit"
   ]
  },
  {
   "attachments": {},
   "cell_type": "markdown",
   "metadata": {},
   "source": [
    "## __Load Data__"
   ]
  },
  {
   "cell_type": "code",
   "execution_count": 5,
   "metadata": {},
   "outputs": [],
   "source": [
    "#we load the data from our output folder from preprocessing\n",
    "INPUT_PATH = \"../data/output/\"\n",
    "save_path = \"../app/model/\"\n",
    "\n",
    "#for all\n",
    "#IMAGES = np.load(INPUT_PATH + 'training_data.npz')\n",
    "#annots = np.load(INPUT_PATH + 'training_labels.npz')\n",
    "\n",
    "\n",
    "#for solo  \n",
    "IMAGES = np.load(INPUT_PATH + 'training_datasolo.npz')\n",
    "annots = np.load(INPUT_PATH + 'training_labelssolo.npz')"
   ]
  },
  {
   "attachments": {},
   "cell_type": "markdown",
   "metadata": {},
   "source": [
    "## __Do train & test split__"
   ]
  },
  {
   "cell_type": "code",
   "execution_count": 6,
   "metadata": {},
   "outputs": [],
   "source": [
    "#First we have to split our dataset into train and test set. We use 70% for the train set and 30% for the test set.\n",
    "train_images, test_images, train_annots, test_annots = train_test_split(IMAGES['arr_0'], annots['arr_0'], test_size= 0.3, random_state= RSEED )"
   ]
  },
  {
   "cell_type": "code",
   "execution_count": 7,
   "metadata": {},
   "outputs": [],
   "source": [
    "#Because we need also a validation set we split once more. We take this time 10% of the train set for \n",
    "#the validation set and take the rest for training.\n",
    "train_images, validate_images,train_annots,validate_annots = train_test_split(train_images,train_annots, test_size = 0.1,random_state = RSEED)"
   ]
  },
  {
   "cell_type": "code",
   "execution_count": 8,
   "metadata": {},
   "outputs": [
    {
     "name": "stdout",
     "output_type": "stream",
     "text": [
      "(148856, 192, 9)\n",
      "(70884, 192, 9)\n",
      "(16540, 192, 9)\n",
      "(148856, 6, 21)\n",
      "(70884, 6, 21)\n",
      "(16540, 6, 21)\n"
     ]
    }
   ],
   "source": [
    "#let's have a look on the different shapes of our sets\n",
    "print(train_images.shape)\n",
    "print(test_images.shape)\n",
    "print(validate_images.shape)\n",
    "print(train_annots.shape)\n",
    "print(test_annots.shape)\n",
    "print(validate_annots.shape)\n",
    "\n"
   ]
  },
  {
   "attachments": {},
   "cell_type": "markdown",
   "metadata": {},
   "source": [
    "## __Define our softmax function by string__"
   ]
  },
  {
   "cell_type": "code",
   "execution_count": 9,
   "metadata": {},
   "outputs": [],
   "source": [
    "def softmax_by_string(t):\n",
    "        sh = K.shape(t)\n",
    "        string_sm = []\n",
    "        for i in range(N_STRINGS):\n",
    "            string_sm.append(K.expand_dims(K.softmax(t[:,i,:]), axis=1))\n",
    "        return K.concatenate(string_sm, axis=1)"
   ]
  },
  {
   "attachments": {},
   "cell_type": "markdown",
   "metadata": {},
   "source": [
    "## __Building our CNN Model__"
   ]
  },
  {
   "cell_type": "code",
   "execution_count": 10,
   "metadata": {},
   "outputs": [],
   "source": [
    "#the function of our cnn model\n",
    "'''what it takes:\n",
    "- a picture with a certain frame height(192pixel) and a frame width(9 pixel)\n",
    "- only one color channel, therefore as a grayscale image\n",
    "\n",
    "what it deliver:\n",
    "\n",
    "An array with the size 6x21. This is representing the 6 different strings of a guitar and 19 different \n",
    "frets of the guitar. The other 2 of the 21 entries represent, if a string is played or not played.\n",
    "\n",
    "The different layers we used you can easily extract from below.\n",
    "'''\n",
    "\n",
    "def cnn_swizzle_model():       \n",
    "        swizzle_model = tf.keras.Sequential()\n",
    "        swizzle_model.add(tf.keras.layers.InputLayer(input_shape=[FRAME_HEIGHT, FRAME_WIDTH, 1]))\n",
    "        swizzle_model.add(tf.keras.layers.Conv2D(filters=32, kernel_size=(3, 3),activation='relu'))\n",
    "        swizzle_model.add(tf.keras.layers.Conv2D(filters=64, kernel_size=(3, 3), activation='relu'))\n",
    "        swizzle_model.add(tf.keras.layers.Conv2D(filters=64, kernel_size=(3, 3), activation='relu'))\n",
    "        swizzle_model.add(tf.keras.layers.MaxPooling2D(pool_size=(2, 2)))\n",
    "        swizzle_model.add(tf.keras.layers.Dropout(0.25))   \n",
    "        swizzle_model.add(tf.keras.layers.Flatten())\n",
    "        swizzle_model.add(tf.keras.layers.Dense(128, activation='relu'))\n",
    "        swizzle_model.add(tf.keras.layers.Dropout(0.5))\n",
    "        swizzle_model.add(tf.keras.layers.Dense(126, activation='relu'))\n",
    "        swizzle_model.add(tf.keras.layers.Dense(N_CLASSES * N_STRINGS))\n",
    "        swizzle_model.add(tf.keras.layers.Reshape((N_STRINGS, N_CLASSES)))\n",
    "        swizzle_model.add(tf.keras.layers.Activation(softmax_by_string))\n",
    "        return swizzle_model"
   ]
  },
  {
   "cell_type": "code",
   "execution_count": 11,
   "metadata": {},
   "outputs": [
    {
     "name": "stderr",
     "output_type": "stream",
     "text": [
      "2023-01-12 00:29:49.346261: I tensorflow/core/common_runtime/pluggable_device/pluggable_device_factory.cc:305] Could not identify NUMA node of platform GPU ID 0, defaulting to 0. Your kernel may not have been built with NUMA support.\n",
      "2023-01-12 00:29:49.348912: I tensorflow/core/common_runtime/pluggable_device/pluggable_device_factory.cc:271] Created TensorFlow device (/job:localhost/replica:0/task:0/device:GPU:0 with 0 MB memory) -> physical PluggableDevice (device: 0, name: METAL, pci bus id: <undefined>)\n"
     ]
    },
    {
     "name": "stdout",
     "output_type": "stream",
     "text": [
      "Metal device set to: Apple M1\n",
      "\n",
      "systemMemory: 8.00 GB\n",
      "maxCacheSize: 2.67 GB\n",
      "\n"
     ]
    }
   ],
   "source": [
    "#this is our swizzle model\n",
    "swizzle_model = cnn_swizzle_model()\n"
   ]
  },
  {
   "cell_type": "code",
   "execution_count": 12,
   "metadata": {},
   "outputs": [
    {
     "name": "stdout",
     "output_type": "stream",
     "text": [
      "Model: \"sequential\"\n",
      "_________________________________________________________________\n",
      " Layer (type)                Output Shape              Param #   \n",
      "=================================================================\n",
      " conv2d (Conv2D)             (None, 190, 7, 32)        320       \n",
      "                                                                 \n",
      " conv2d_1 (Conv2D)           (None, 188, 5, 64)        18496     \n",
      "                                                                 \n",
      " conv2d_2 (Conv2D)           (None, 186, 3, 64)        36928     \n",
      "                                                                 \n",
      " max_pooling2d (MaxPooling2D  (None, 93, 1, 64)        0         \n",
      " )                                                               \n",
      "                                                                 \n",
      " dropout (Dropout)           (None, 93, 1, 64)         0         \n",
      "                                                                 \n",
      " flatten (Flatten)           (None, 5952)              0         \n",
      "                                                                 \n",
      " dense (Dense)               (None, 128)               761984    \n",
      "                                                                 \n",
      " dropout_1 (Dropout)         (None, 128)               0         \n",
      "                                                                 \n",
      " dense_1 (Dense)             (None, 126)               16254     \n",
      "                                                                 \n",
      " dense_2 (Dense)             (None, 126)               16002     \n",
      "                                                                 \n",
      " reshape (Reshape)           (None, 6, 21)             0         \n",
      "                                                                 \n",
      " activation (Activation)     (None, 6, 21)             0         \n",
      "                                                                 \n",
      "=================================================================\n",
      "Total params: 849,984\n",
      "Trainable params: 849,984\n",
      "Non-trainable params: 0\n",
      "_________________________________________________________________\n"
     ]
    }
   ],
   "source": [
    "#let's have a look on the model summary to see the different layers and their shapes\n",
    "#we have 3 dimensions in the beginning, then flatten to 1 Dimension for the dense layers and after them\n",
    "#create the end shape representing the guitar with 6 strings and 21 frets\n",
    "swizzle_model.summary()"
   ]
  },
  {
   "attachments": {},
   "cell_type": "markdown",
   "metadata": {},
   "source": [
    "## Define model metrics for the cnn"
   ]
  },
  {
   "cell_type": "code",
   "execution_count": 13,
   "metadata": {},
   "outputs": [],
   "source": [
    "'''\n",
    "Metric: For our model we will use the accuracy metric, because we want to have o good overall \n",
    "prediction of our model. Besides that, for us every tone has the same importance so all classes\n",
    "have the same importance.\n",
    "\n",
    "Optimizer: As an optimizer we take the adam optimizer, which is fast enough to handle our data \n",
    "in a short time\n",
    "\n",
    "Loss function: For the loss function we used categorical crossentropy because we have multiple classes or labels\n",
    "with soft probabilities like [0.5, 0.3, 0.2] and also have a shape like a one-hot-encoded array.\n",
    "'''\n",
    "\n",
    "metrics =['accuracy']\n",
    "\n",
    "optimizer = tf.keras.optimizers.Adam(learning_rate=0.001)\n",
    "\n",
    "loss='categorical_crossentropy'\n",
    "\n",
    "swizzle_model.compile(loss=loss, optimizer=optimizer, metrics= 'accuracy')"
   ]
  },
  {
   "attachments": {},
   "cell_type": "markdown",
   "metadata": {},
   "source": [
    "## Use annealer to decrease learning rate after given epochs"
   ]
  },
  {
   "cell_type": "code",
   "execution_count": 14,
   "metadata": {},
   "outputs": [],
   "source": [
    "# Set a learning rate annealer\n",
    "'''\n",
    "With the ReduceLROnPlateau function from Keras.callbacks, \n",
    "we choose to reduce the Learning Rate by half if the accuracy is not improved after 3 epochs.\n",
    "'''\n",
    "learning_rate_reduction = ReduceLROnPlateau(monitor='val_accuracy', patience=3, verbose=1, factor=0.5, min_lr=0.0001)"
   ]
  },
  {
   "attachments": {},
   "cell_type": "markdown",
   "metadata": {},
   "source": [
    "## __Train CNN__"
   ]
  },
  {
   "cell_type": "code",
   "execution_count": 15,
   "metadata": {},
   "outputs": [],
   "source": [
    "#Create folder for model \n",
    "'''This function takes the path of a new folder and create a new one. \n",
    "If the folder already exists, it will pass.'''\n",
    "def my_makedirs(path):\n",
    "    if not os.path.isdir(path):\n",
    "        os.makedirs(path)\n",
    "\n",
    "my_makedirs('../app/model')"
   ]
  },
  {
   "cell_type": "code",
   "execution_count": 16,
   "metadata": {},
   "outputs": [],
   "source": [
    "csv_logger = tf.keras.callbacks.CSVLogger('../data/model/metrics.csv')"
   ]
  },
  {
   "cell_type": "code",
   "execution_count": 17,
   "metadata": {},
   "outputs": [
    {
     "name": "stdout",
     "output_type": "stream",
     "text": [
      "Epoch 1/8\n"
     ]
    },
    {
     "name": "stderr",
     "output_type": "stream",
     "text": [
      "2023-01-12 00:29:54.787461: W tensorflow/core/platform/profile_utils/cpu_utils.cc:128] Failed to get CPU frequency: 0 Hz\n",
      "2023-01-12 00:29:55.879820: I tensorflow/core/grappler/optimizers/custom_graph_optimizer_registry.cc:113] Plugin optimizer for device_type GPU is enabled.\n"
     ]
    },
    {
     "name": "stdout",
     "output_type": "stream",
     "text": [
      "1163/1163 [==============================] - ETA: 0s - loss: 0.2973 - accuracy: 0.9241"
     ]
    },
    {
     "name": "stderr",
     "output_type": "stream",
     "text": [
      "2023-01-12 00:30:51.940022: I tensorflow/core/grappler/optimizers/custom_graph_optimizer_registry.cc:113] Plugin optimizer for device_type GPU is enabled.\n"
     ]
    },
    {
     "name": "stdout",
     "output_type": "stream",
     "text": [
      "\n",
      "Epoch 1: saving model to ../app/model\n",
      "1163/1163 [==============================] - 59s 50ms/step - loss: 0.2973 - accuracy: 0.9241 - val_loss: 0.1653 - val_accuracy: 0.9477 - lr: 0.0010\n",
      "Epoch 2/8\n",
      "1163/1163 [==============================] - ETA: 0s - loss: 0.1754 - accuracy: 0.9472\n",
      "Epoch 2: saving model to ../app/model\n",
      "1163/1163 [==============================] - 56s 48ms/step - loss: 0.1754 - accuracy: 0.9472 - val_loss: 0.1313 - val_accuracy: 0.9607 - lr: 0.0010\n",
      "Epoch 3/8\n",
      "1163/1163 [==============================] - ETA: 0s - loss: 0.1508 - accuracy: 0.9554\n",
      "Epoch 3: saving model to ../app/model\n",
      "1163/1163 [==============================] - 55s 47ms/step - loss: 0.1508 - accuracy: 0.9554 - val_loss: 0.1170 - val_accuracy: 0.9649 - lr: 0.0010\n",
      "Epoch 4/8\n",
      "1163/1163 [==============================] - ETA: 0s - loss: 0.1361 - accuracy: 0.9604\n",
      "Epoch 4: saving model to ../app/model\n",
      "1163/1163 [==============================] - 54s 47ms/step - loss: 0.1361 - accuracy: 0.9604 - val_loss: 0.1086 - val_accuracy: 0.9677 - lr: 0.0010\n",
      "Epoch 5/8\n",
      "1163/1163 [==============================] - ETA: 0s - loss: 0.1250 - accuracy: 0.9638\n",
      "Epoch 5: saving model to ../app/model\n",
      "1163/1163 [==============================] - 58s 50ms/step - loss: 0.1250 - accuracy: 0.9638 - val_loss: 0.0947 - val_accuracy: 0.9726 - lr: 0.0010\n",
      "Epoch 6/8\n",
      "1163/1163 [==============================] - ETA: 0s - loss: 0.1162 - accuracy: 0.9665\n",
      "Epoch 6: saving model to ../app/model\n",
      "1163/1163 [==============================] - 57s 49ms/step - loss: 0.1162 - accuracy: 0.9665 - val_loss: 0.0896 - val_accuracy: 0.9738 - lr: 0.0010\n",
      "Epoch 7/8\n",
      "1163/1163 [==============================] - ETA: 0s - loss: 0.1093 - accuracy: 0.9685\n",
      "Epoch 7: saving model to ../app/model\n",
      "1163/1163 [==============================] - 56s 48ms/step - loss: 0.1093 - accuracy: 0.9685 - val_loss: 0.0861 - val_accuracy: 0.9749 - lr: 0.0010\n",
      "Epoch 8/8\n",
      "1163/1163 [==============================] - ETA: 0s - loss: 0.1041 - accuracy: 0.9701\n",
      "Epoch 8: saving model to ../app/model\n",
      "1163/1163 [==============================] - 54s 47ms/step - loss: 0.1041 - accuracy: 0.9701 - val_loss: 0.0801 - val_accuracy: 0.9766 - lr: 0.0010\n",
      "|    |   epoch |   accuracy |     loss |    lr |   val_accuracy |   val_loss |\n",
      "|---:|--------:|-----------:|---------:|------:|---------------:|-----------:|\n",
      "|  0 |       0 |   0.924147 | 0.297257 | 0.001 |       0.947733 |  0.165255  |\n",
      "|  1 |       1 |   0.947235 | 0.175434 | 0.001 |       0.960732 |  0.13132   |\n",
      "|  2 |       2 |   0.955398 | 0.150802 | 0.001 |       0.964873 |  0.11702   |\n",
      "|  3 |       3 |   0.960443 | 0.136057 | 0.001 |       0.967664 |  0.108616  |\n",
      "|  4 |       4 |   0.963816 | 0.125003 | 0.001 |       0.972612 |  0.0947453 |\n",
      "|  5 |       5 |   0.966461 | 0.116217 | 0.001 |       0.973841 |  0.089559  |\n",
      "|  6 |       6 |   0.968532 | 0.109348 | 0.001 |       0.974919 |  0.0860784 |\n",
      "|  7 |       7 |   0.970072 | 0.104107 | 0.001 |       0.976562 |  0.0800526 |\n"
     ]
    }
   ],
   "source": [
    "#for the training we fit our model and use the batch size and epochs from our constants\n",
    "history = swizzle_model.fit( train_images,\n",
    "                             train_annots,\n",
    "                             batch_size=BATCH_SIZE,\n",
    "                             epochs=EPOCHS,\n",
    "                             verbose=1,\n",
    "                             use_multiprocessing=True,\n",
    "                             validation_data=(validate_images,validate_annots),\n",
    "                             callbacks=[learning_rate_reduction,csv_logger],\n",
    ")\n",
    "\n",
    "swizzle_model_metrics = pd.read_csv('../data/model/metrics.csv')\n",
    "print(swizzle_model_metrics.to_markdown())"
   ]
  },
  {
   "cell_type": "code",
   "execution_count": 19,
   "metadata": {},
   "outputs": [
    {
     "data": {
      "image/png": "[encoded data removed]",
      "text/plain": [
       "<Figure size 1000x1000 with 2 Axes>"
      ]
     },
     "metadata": {},
     "output_type": "display_data"
    }
   ],
   "source": [
    "#show plots for our loss function and the accurancy\n",
    "fig = plt.figure(figsize=(10, 10))\n",
    "\n",
    "ax = plt.subplot(2, 2, 1)\n",
    "plt.plot(history.history['loss'], label='Loss', color= '#7900AA')\n",
    "plt.plot(history.history['val_loss'], label='Validation Loss', color = 'c')\n",
    "plt.legend()\n",
    "plt.title('Training - Loss Function')\n",
    "\n",
    "ax.spines['right'].set_visible(False)\n",
    "ax.spines['top'].set_visible(False)\n",
    "\n",
    "ax2 = plt.subplot(2, 2, 2)\n",
    "plt.plot(history.history['accuracy'], label='Accuracy', color = '#7900AA')\n",
    "plt.plot(history.history['val_accuracy'], label='Validation Accuracy', color = 'c')\n",
    "plt.legend()\n",
    "plt.title('Train - Accuracy')\n",
    "\n",
    "ax2.spines['right'].set_visible(False)\n",
    "ax2.spines['top'].set_visible(False)\n",
    "\n",
    "fig.savefig('../data/model/plots.png')"
   ]
  },
  {
   "cell_type": "code",
   "execution_count": 20,
   "metadata": {},
   "outputs": [
    {
     "name": "stdout",
     "output_type": "stream",
     "text": [
      "Test Loss : 0.0825\n",
      "Test Accuracy : 0.9766\n"
     ]
    }
   ],
   "source": [
    "#print results of our swizzle model metrics for training\n",
    "score = swizzle_model.evaluate(test_images,test_annots,verbose=0)\n",
    "print('Test Loss : {:.4f}'.format(score[0]))\n",
    "print('Test Accuracy : {:.4f}'.format(score[1]))"
   ]
  },
  {
   "cell_type": "code",
   "execution_count": 21,
   "metadata": {},
   "outputs": [
    {
     "name": "stdout",
     "output_type": "stream",
     "text": [
      "  15/2216 [..............................] - ETA: 16s "
     ]
    },
    {
     "name": "stderr",
     "output_type": "stream",
     "text": [
      "2023-01-12 00:37:51.585026: I tensorflow/core/grappler/optimizers/custom_graph_optimizer_registry.cc:113] Plugin optimizer for device_type GPU is enabled.\n"
     ]
    },
    {
     "name": "stdout",
     "output_type": "stream",
     "text": [
      "2216/2216 [==============================] - 17s 7ms/step\n"
     ]
    }
   ],
   "source": [
    "#the prediction of our model will show us an array with the strings played in the\n",
    "# belonging frame\n",
    "model_output = swizzle_model.predict(test_images)"
   ]
  },
  {
   "cell_type": "code",
   "execution_count": 22,
   "metadata": {},
   "outputs": [
    {
     "name": "stdout",
     "output_type": "stream",
     "text": [
      "(70884, 6, 21)\n",
      "[[1.   0.   0.   0.   0.   0.   0.   0.   0.   0.   0.   0.   0.   0.\n",
      "  0.   0.   0.   0.   0.   0.   0.  ]\n",
      " [1.   0.   0.   0.   0.   0.   0.   0.   0.   0.   0.   0.   0.   0.\n",
      "  0.   0.   0.   0.   0.   0.   0.  ]\n",
      " [1.   0.   0.   0.   0.   0.   0.   0.   0.   0.   0.   0.   0.   0.\n",
      "  0.   0.   0.   0.   0.   0.   0.  ]\n",
      " [0.99 0.   0.   0.   0.   0.   0.   0.   0.01 0.   0.   0.   0.   0.\n",
      "  0.   0.   0.   0.   0.   0.   0.  ]\n",
      " [0.24 0.   0.   0.   0.03 0.   0.01 0.69 0.   0.   0.   0.   0.   0.\n",
      "  0.   0.   0.01 0.   0.   0.   0.  ]\n",
      " [0.34 0.   0.03 0.   0.   0.   0.   0.   0.   0.04 0.   0.57 0.   0.\n",
      "  0.   0.   0.   0.   0.   0.   0.  ]]\n"
     ]
    }
   ],
   "source": [
    "#we can have look on the output arrays. We rounded them to have a better overview. \n",
    "#Thats the first entry with a size of 6 by 21.\n",
    "print(model_output.shape)\n",
    "print(np.round(model_output[:1][0],2))\n"
   ]
  },
  {
   "cell_type": "code",
   "execution_count": 24,
   "metadata": {},
   "outputs": [
    {
     "name": "stderr",
     "output_type": "stream",
     "text": [
      "WARNING:absl:Found untraced functions such as _jit_compiled_convolution_op, _jit_compiled_convolution_op, _jit_compiled_convolution_op while saving (showing 3 of 3). These functions will not be directly callable after loading.\n"
     ]
    },
    {
     "name": "stdout",
     "output_type": "stream",
     "text": [
      "INFO:tensorflow:Assets written to: ../app/model/swizzle_model/assets\n"
     ]
    },
    {
     "name": "stderr",
     "output_type": "stream",
     "text": [
      "INFO:tensorflow:Assets written to: ../app/model/swizzle_model/assets\n"
     ]
    }
   ],
   "source": [
    "# Save the entire model as a SavedModel.\n",
    "swizzle_model.save('../app/model/swizzle_model')\n",
    "\n",
    "loaded_swizzle_model = keras.models.load_model(\"../app/model/swizzle_model\")"
   ]
  },
  {
   "cell_type": "code",
   "execution_count": 25,
   "metadata": {},
   "outputs": [],
   "source": [
    "# Save and load the model output\n",
    "np.save(\"../app/model/model_output.npy\", model_output, allow_pickle=True, fix_imports=True)\n",
    "\n",
    "#np.load(\"../app/model/model_output.npy\")\n"
   ]
  }
 ],
 "metadata": {
  "kernelspec": {
   "display_name": ".venv",
   "language": "python",
   "name": "python3"
  },
  "language_info": {
   "codemirror_mode": {
    "name": "ipython",
    "version": 3
   },
   "file_extension": ".py",
   "mimetype": "text/x-python",
   "name": "python",
   "nbconvert_exporter": "python",
   "pygments_lexer": "ipython3",
   "version": "3.9.8"
  },
  "orig_nbformat": 4,
  "vscode": {
   "interpreter": {
    "hash": "2ce22ec9b47a0c8818982fc2e83d14df8db5ffc759b38b6aa7930ef673c52175"
   }
  }
 },
 "nbformat": 4,
 "nbformat_minor": 2
}
