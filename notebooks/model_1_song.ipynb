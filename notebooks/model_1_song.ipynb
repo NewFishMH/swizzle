{
 "cells": [
  {
   "attachments": {},
   "cell_type": "markdown",
   "metadata": {},
   "source": [
    "# __CNN__"
   ]
  },
  {
   "attachments": {},
   "cell_type": "markdown",
   "metadata": {},
   "source": [
    "We decide to use CNN(convolutional neural networks) for the task of guitar tablature estimation. The previous work of Andrew Wiggins and Youngmoo Kim showed that CNNs have shown promise for translating guitar audios to tabs, and the use of CNNs has also been explored for various other tasks within music information retrieval such as musical tempo estimation, key classification, singing voice detection, and instrument classification. It is proven that CNN is a powerful tool for the purpose of our study."
   ]
  },
  {
   "attachments": {},
   "cell_type": "markdown",
   "metadata": {},
   "source": [
    "## __Import libraries__"
   ]
  },
  {
   "cell_type": "code",
   "execution_count": 1,
   "metadata": {},
   "outputs": [],
   "source": [
    "# Import required packages \n",
    "\n",
    "#various\n",
    "import datetime\n",
    "import pathlib\n",
    "import IPython.display as display\n",
    "import matplotlib.pyplot as plt\n",
    "import pandas as pd\n",
    "import numpy as np\n",
    "import os\n",
    "from PIL import Image\n",
    "import warnings\n",
    "\n",
    "\n",
    "#sklearn\n",
    "from sklearn.model_selection import train_test_split\n",
    "from sklearn.metrics import precision_score\n",
    "\n",
    "#tensorflow\n",
    "import tensorflow as tf\n",
    "import tensorflow_hub as hub\n",
    "from tensorflow import keras\n",
    "#from tensorflow.keras import layers\n",
    "\n",
    "#keras\n",
    "import keras\n",
    "from keras.datasets import mnist\n",
    "from keras.models import Sequential\n",
    "from keras.layers import Dense, Dropout, Flatten\n",
    "from keras.layers import Conv2D, MaxPooling2D\n",
    "from keras.callbacks import ReduceLROnPlateau\n",
    "from keras import backend as K\n",
    "\n",
    "# Load the TensorBoard notebook extension\n",
    "%load_ext tensorboard\n",
    "\n",
    "RSEED = 42\n",
    "\n",
    "warnings.filterwarnings('ignore')"
   ]
  },
  {
   "cell_type": "code",
   "execution_count": 2,
   "metadata": {},
   "outputs": [
    {
     "name": "stdout",
     "output_type": "stream",
     "text": [
      "2.8.0\n"
     ]
    }
   ],
   "source": [
    "# Check for Tensorflow version\n",
    "print(tf.__version__)\n",
    "tf.compat.v1.logging.set_verbosity(tf.compat.v1.logging.INFO)"
   ]
  },
  {
   "attachments": {},
   "cell_type": "markdown",
   "metadata": {},
   "source": [
    "## __Define Input Shapes__"
   ]
  },
  {
   "cell_type": "code",
   "execution_count": 3,
   "metadata": {},
   "outputs": [],
   "source": [
    "#Definition of all our constants we use for our model \n",
    "\n",
    "FRAME_HEIGHT = 192\n",
    "FRAME_WIDTH = 9\n",
    "N_CLASSES = 21\n",
    "N_STRINGS = 6\n",
    "BATCH_SIZE = 128\n",
    "EPOCHS = 200"
   ]
  },
  {
   "attachments": {},
   "cell_type": "markdown",
   "metadata": {},
   "source": [
    "Using Tensorboard to monitor our results:"
   ]
  },
  {
   "cell_type": "code",
   "execution_count": 4,
   "metadata": {},
   "outputs": [],
   "source": [
    "#%tensorboard --logdir logs/fit"
   ]
  },
  {
   "attachments": {},
   "cell_type": "markdown",
   "metadata": {},
   "source": [
    "## __Load Data__"
   ]
  },
  {
   "cell_type": "code",
   "execution_count": 5,
   "metadata": {},
   "outputs": [],
   "source": [
    "#we load the data from our output folder from preprocessing\n",
    "INPUT_PATH = \"../data/output/\"\n",
    "save_path = \"../app/model/\"\n",
    "\n",
    "#for all\n",
    "# IMAGES = np.load(INPUT_PATH + 'training_data_all_75.npz')\n",
    "# annots = np.load(INPUT_PATH + 'training_labels_all_75.npz')\n",
    "\n",
    "\n",
    "# for solo  \n",
    "IMAGES = np.load(INPUT_PATH + '05_Rock3-117-Bb_solo_hex_cln_data.npz')\n",
    "annots = np.load(INPUT_PATH + '05_Rock3-117-Bb_solo_hex_cln_labels.npz')"
   ]
  },
  {
   "attachments": {},
   "cell_type": "markdown",
   "metadata": {},
   "source": [
    "## __Do train & test split__"
   ]
  },
  {
   "cell_type": "code",
   "execution_count": 6,
   "metadata": {},
   "outputs": [],
   "source": [
    "#First we have to split our dataset into train and test set. We use 70% for the train set and 30% for the test set.\n",
    "train_images, test_images, train_annots, test_annots = train_test_split(IMAGES['arr_0'], annots['arr_0'], test_size= 0.2, shuffle=True, random_state= RSEED )"
   ]
  },
  {
   "cell_type": "code",
   "execution_count": 7,
   "metadata": {},
   "outputs": [],
   "source": [
    "#Because we need also a validation set we split once more. We take this time 10% of the train set for \n",
    "#the validation set and take the rest for training.\n",
    "train_images, validate_images,train_annots,validate_annots = train_test_split(train_images, train_annots, test_size = 0.1, shuffle=True, random_state = RSEED)"
   ]
  },
  {
   "cell_type": "code",
   "execution_count": 8,
   "metadata": {},
   "outputs": [
    {
     "name": "stdout",
     "output_type": "stream",
     "text": [
      "(705, 192, 9)\n",
      "(196, 192, 9)\n",
      "(79, 192, 9)\n",
      "(705, 6, 21)\n",
      "(196, 6, 21)\n",
      "(79, 6, 21)\n"
     ]
    }
   ],
   "source": [
    "#let's have a look on the different shapes of our sets\n",
    "print(train_images.shape)\n",
    "print(test_images.shape)\n",
    "print(validate_images.shape)\n",
    "print(train_annots.shape)\n",
    "print(test_annots.shape)\n",
    "print(validate_annots.shape)\n",
    "\n"
   ]
  },
  {
   "attachments": {},
   "cell_type": "markdown",
   "metadata": {},
   "source": [
    "## __Define our softmax function by string__"
   ]
  },
  {
   "cell_type": "code",
   "execution_count": 9,
   "metadata": {},
   "outputs": [],
   "source": [
    "def softmax_by_string(t):\n",
    "        sh = K.shape(t)\n",
    "        string_sm = []\n",
    "        for i in range(N_STRINGS):\n",
    "            string_sm.append(K.expand_dims(K.softmax(t[:,i,:]), axis=1))\n",
    "        return K.concatenate(string_sm, axis=1)"
   ]
  },
  {
   "cell_type": "code",
   "execution_count": 10,
   "metadata": {},
   "outputs": [],
   "source": [
    "def catcross_by_string(target, output):\n",
    "        loss = 0\n",
    "        for i in range(N_STRINGS):\n",
    "            loss += K.categorical_crossentropy(target[:,i,:], output[:,i,:])\n",
    "        return loss"
   ]
  },
  {
   "cell_type": "code",
   "execution_count": 11,
   "metadata": {},
   "outputs": [],
   "source": [
    "def avg_acc(y_true, y_pred):\n",
    "        return K.mean(K.equal(K.argmax(y_true, axis=-1), K.argmax(y_pred, axis=-1)))"
   ]
  },
  {
   "attachments": {},
   "cell_type": "markdown",
   "metadata": {},
   "source": [
    "## __Building our CNN Model__"
   ]
  },
  {
   "cell_type": "code",
   "execution_count": 12,
   "metadata": {},
   "outputs": [],
   "source": [
    "#the function of our cnn model\n",
    "'''what it takes:\n",
    "- a picture with a certain frame height(192pixel) and a frame width(9 pixel)\n",
    "- only one color channel, therefore as a grayscale image\n",
    "\n",
    "what it deliver:\n",
    "\n",
    "An array with the size 6x21. This is representing the 6 different strings of a guitar and 19 different \n",
    "frets of the guitar. The other 2 of the 21 entries represent, if a string is played or not played.\n",
    "\n",
    "The different layers we used you can easily extract from below.\n",
    "'''\n",
    "\n",
    "def cnn_swizzle_model():       \n",
    "        swizzle_model = tf.keras.Sequential()\n",
    "        swizzle_model.add(tf.keras.layers.InputLayer(input_shape=[FRAME_HEIGHT, FRAME_WIDTH, 1]))\n",
    "        swizzle_model.add(tf.keras.layers.Conv2D(filters=32, kernel_size=(3, 3),activation='relu'))\n",
    "        swizzle_model.add(tf.keras.layers.Conv2D(filters=64, kernel_size=(3, 3), activation='relu'))\n",
    "        swizzle_model.add(tf.keras.layers.Conv2D(filters=64, kernel_size=(3, 3), activation='relu'))\n",
    "        swizzle_model.add(tf.keras.layers.MaxPooling2D(pool_size=(2, 2)))\n",
    "        swizzle_model.add(tf.keras.layers.Dropout(0.25))   \n",
    "        swizzle_model.add(tf.keras.layers.Flatten())\n",
    "        swizzle_model.add(tf.keras.layers.Dense(128, activation='relu'))\n",
    "        swizzle_model.add(tf.keras.layers.Dropout(0.5))\n",
    "        swizzle_model.add(tf.keras.layers.Dense(N_CLASSES * N_STRINGS))\n",
    "        swizzle_model.add(tf.keras.layers.Reshape((N_STRINGS, N_CLASSES)))\n",
    "        swizzle_model.add(tf.keras.layers.Activation(softmax_by_string))\n",
    "        return swizzle_model"
   ]
  },
  {
   "cell_type": "code",
   "execution_count": 13,
   "metadata": {},
   "outputs": [
    {
     "name": "stdout",
     "output_type": "stream",
     "text": [
      "Metal device set to: Apple M1\n",
      "\n",
      "systemMemory: 8.00 GB\n",
      "maxCacheSize: 2.67 GB\n",
      "\n"
     ]
    },
    {
     "name": "stderr",
     "output_type": "stream",
     "text": [
      "2023-01-16 18:22:46.337252: I tensorflow/core/common_runtime/pluggable_device/pluggable_device_factory.cc:305] Could not identify NUMA node of platform GPU ID 0, defaulting to 0. Your kernel may not have been built with NUMA support.\n",
      "2023-01-16 18:22:46.337380: I tensorflow/core/common_runtime/pluggable_device/pluggable_device_factory.cc:271] Created TensorFlow device (/job:localhost/replica:0/task:0/device:GPU:0 with 0 MB memory) -> physical PluggableDevice (device: 0, name: METAL, pci bus id: <undefined>)\n"
     ]
    }
   ],
   "source": [
    "#this is our swizzle model\n",
    "swizzle_model = cnn_swizzle_model()\n"
   ]
  },
  {
   "cell_type": "code",
   "execution_count": 14,
   "metadata": {},
   "outputs": [
    {
     "name": "stdout",
     "output_type": "stream",
     "text": [
      "Model: \"sequential\"\n",
      "_________________________________________________________________\n",
      " Layer (type)                Output Shape              Param #   \n",
      "=================================================================\n",
      " conv2d (Conv2D)             (None, 190, 7, 32)        320       \n",
      "                                                                 \n",
      " conv2d_1 (Conv2D)           (None, 188, 5, 64)        18496     \n",
      "                                                                 \n",
      " conv2d_2 (Conv2D)           (None, 186, 3, 64)        36928     \n",
      "                                                                 \n",
      " max_pooling2d (MaxPooling2D  (None, 93, 1, 64)        0         \n",
      " )                                                               \n",
      "                                                                 \n",
      " dropout (Dropout)           (None, 93, 1, 64)         0         \n",
      "                                                                 \n",
      " flatten (Flatten)           (None, 5952)              0         \n",
      "                                                                 \n",
      " dense (Dense)               (None, 128)               761984    \n",
      "                                                                 \n",
      " dropout_1 (Dropout)         (None, 128)               0         \n",
      "                                                                 \n",
      " dense_1 (Dense)             (None, 126)               16254     \n",
      "                                                                 \n",
      " reshape (Reshape)           (None, 6, 21)             0         \n",
      "                                                                 \n",
      " activation (Activation)     (None, 6, 21)             0         \n",
      "                                                                 \n",
      "=================================================================\n",
      "Total params: 833,982\n",
      "Trainable params: 833,982\n",
      "Non-trainable params: 0\n",
      "_________________________________________________________________\n"
     ]
    }
   ],
   "source": [
    "#let's have a look on the model summary to see the different layers and their shapes\n",
    "#we have 3 dimensions in the beginning, then flatten to 1 Dimension for the dense layers and after them\n",
    "#create the end shape representing the guitar with 6 strings and 21 frets\n",
    "swizzle_model.summary()"
   ]
  },
  {
   "attachments": {},
   "cell_type": "markdown",
   "metadata": {},
   "source": [
    "## Define model metrics for the cnn"
   ]
  },
  {
   "cell_type": "code",
   "execution_count": 15,
   "metadata": {},
   "outputs": [],
   "source": [
    "'''\n",
    "Metric: For our model we will use the accuracy metric, because we want to have o good overall \n",
    "prediction of our model. Besides that, for us every tone has the same importance so all classes\n",
    "have the same importance.\n",
    "\n",
    "Optimizer: As an optimizer we take the adam optimizer, which is fast enough to handle our data \n",
    "in a short time\n",
    "\n",
    "Loss function: For the loss function we used categorical crossentropy because we have multiple classes or labels\n",
    "with soft probabilities like [0.5, 0.3, 0.2] and also have a shape like a one-hot-encoded array.\n",
    "'''\n",
    "\n",
    "metrics = avg_acc\n",
    "\n",
    "optimizer = tf.keras.optimizers.Adadelta(learning_rate=1.0)\n",
    "\n",
    "loss='categorical_crossentropy'\n",
    "\n",
    "swizzle_model.compile(loss=catcross_by_string, optimizer=optimizer, metrics= metrics)"
   ]
  },
  {
   "attachments": {},
   "cell_type": "markdown",
   "metadata": {},
   "source": [
    "## Use annealer to decrease learning rate after given epochs"
   ]
  },
  {
   "cell_type": "code",
   "execution_count": 16,
   "metadata": {},
   "outputs": [],
   "source": [
    "# Set a learning rate annealer\n",
    "'''\n",
    "With the ReduceLROnPlateau function from Keras.callbacks, \n",
    "we choose to reduce the Learning Rate by half if the accuracy is not improved after 3 epochs.\n",
    "'''\n",
    "learning_rate_reduction = ReduceLROnPlateau(monitor='val_accuracy', patience=3, verbose=1, factor=0.5, min_lr=0.0001)"
   ]
  },
  {
   "attachments": {},
   "cell_type": "markdown",
   "metadata": {},
   "source": [
    "## __Train CNN__"
   ]
  },
  {
   "cell_type": "code",
   "execution_count": 17,
   "metadata": {},
   "outputs": [],
   "source": [
    "#Create folder for model \n",
    "'''This function takes the path of a new folder and create a new one. \n",
    "If the folder already exists, it will pass.'''\n",
    "def my_makedirs(path):\n",
    "    if not os.path.isdir(path):\n",
    "        os.makedirs(path)\n",
    "\n",
    "my_makedirs('../app/model')"
   ]
  },
  {
   "cell_type": "code",
   "execution_count": 18,
   "metadata": {},
   "outputs": [],
   "source": [
    "csv_logger = tf.keras.callbacks.CSVLogger('../data/model/metrics_op.csv')"
   ]
  },
  {
   "cell_type": "code",
   "execution_count": 19,
   "metadata": {},
   "outputs": [
    {
     "name": "stdout",
     "output_type": "stream",
     "text": [
      "Epoch 1/200\n"
     ]
    },
    {
     "name": "stderr",
     "output_type": "stream",
     "text": [
      "2023-01-16 18:22:46.664938: W tensorflow/core/platform/profile_utils/cpu_utils.cc:128] Failed to get CPU frequency: 0 Hz\n",
      "2023-01-16 18:22:47.375441: I tensorflow/core/grappler/optimizers/custom_graph_optimizer_registry.cc:113] Plugin optimizer for device_type GPU is enabled.\n"
     ]
    },
    {
     "name": "stdout",
     "output_type": "stream",
     "text": [
      "6/6 [==============================] - ETA: 0s - loss: 12.6368 - avg_acc: 0.6592"
     ]
    },
    {
     "name": "stderr",
     "output_type": "stream",
     "text": [
      "2023-01-16 18:22:49.092960: I tensorflow/core/grappler/optimizers/custom_graph_optimizer_registry.cc:113] Plugin optimizer for device_type GPU is enabled.\n"
     ]
    },
    {
     "name": "stdout",
     "output_type": "stream",
     "text": [
      "6/6 [==============================] - 3s 247ms/step - loss: 12.6368 - avg_acc: 0.6592 - val_loss: 4.5842 - val_avg_acc: 0.8882\n",
      "Epoch 2/200\n",
      "6/6 [==============================] - 0s 56ms/step - loss: 3.9486 - avg_acc: 0.8939 - val_loss: 3.8190 - val_avg_acc: 0.8903\n",
      "Epoch 3/200\n",
      "6/6 [==============================] - 0s 61ms/step - loss: 3.3130 - avg_acc: 0.8915 - val_loss: 2.3847 - val_avg_acc: 0.8924\n",
      "Epoch 4/200\n",
      "6/6 [==============================] - 0s 49ms/step - loss: 2.3641 - avg_acc: 0.9030 - val_loss: 2.1078 - val_avg_acc: 0.8861\n",
      "Epoch 5/200\n",
      "6/6 [==============================] - 0s 56ms/step - loss: 2.0628 - avg_acc: 0.9158 - val_loss: 1.4992 - val_avg_acc: 0.9156\n",
      "Epoch 6/200\n",
      "6/6 [==============================] - 0s 49ms/step - loss: 1.8493 - avg_acc: 0.9147 - val_loss: 1.6327 - val_avg_acc: 0.9051\n",
      "Epoch 7/200\n",
      "6/6 [==============================] - 0s 61ms/step - loss: 1.7015 - avg_acc: 0.9188 - val_loss: 1.9335 - val_avg_acc: 0.9030\n",
      "Epoch 8/200\n",
      "6/6 [==============================] - 0s 51ms/step - loss: 1.3929 - avg_acc: 0.9280 - val_loss: 1.5549 - val_avg_acc: 0.9241\n",
      "Epoch 9/200\n",
      "6/6 [==============================] - 0s 54ms/step - loss: 1.2399 - avg_acc: 0.9347 - val_loss: 0.8331 - val_avg_acc: 0.9473\n",
      "Epoch 10/200\n",
      "6/6 [==============================] - 0s 49ms/step - loss: 0.8932 - avg_acc: 0.9491 - val_loss: 0.4572 - val_avg_acc: 0.9789\n",
      "Epoch 11/200\n",
      "6/6 [==============================] - 0s 60ms/step - loss: 0.8451 - avg_acc: 0.9481 - val_loss: 0.6245 - val_avg_acc: 0.9641\n",
      "Epoch 12/200\n",
      "6/6 [==============================] - 0s 50ms/step - loss: 0.8069 - avg_acc: 0.9509 - val_loss: 0.9168 - val_avg_acc: 0.9473\n",
      "Epoch 13/200\n",
      "6/6 [==============================] - 0s 52ms/step - loss: 0.8145 - avg_acc: 0.9606 - val_loss: 0.4264 - val_avg_acc: 0.9747\n",
      "Epoch 14/200\n",
      "6/6 [==============================] - 0s 48ms/step - loss: 0.6761 - avg_acc: 0.9565 - val_loss: 1.0703 - val_avg_acc: 0.9409\n",
      "Epoch 15/200\n",
      "6/6 [==============================] - 0s 49ms/step - loss: 0.9566 - avg_acc: 0.9508 - val_loss: 0.3258 - val_avg_acc: 0.9831\n",
      "Epoch 16/200\n",
      "6/6 [==============================] - 0s 48ms/step - loss: 0.6362 - avg_acc: 0.9634 - val_loss: 0.5943 - val_avg_acc: 0.9641\n",
      "Epoch 17/200\n",
      "6/6 [==============================] - 0s 49ms/step - loss: 0.5420 - avg_acc: 0.9671 - val_loss: 0.3103 - val_avg_acc: 0.9831\n",
      "Epoch 18/200\n",
      "6/6 [==============================] - 0s 48ms/step - loss: 0.4415 - avg_acc: 0.9753 - val_loss: 0.3076 - val_avg_acc: 0.9831\n",
      "Epoch 19/200\n",
      "6/6 [==============================] - 0s 49ms/step - loss: 0.4588 - avg_acc: 0.9695 - val_loss: 0.3007 - val_avg_acc: 0.9831\n",
      "Epoch 20/200\n",
      "6/6 [==============================] - 0s 48ms/step - loss: 0.4462 - avg_acc: 0.9725 - val_loss: 0.1783 - val_avg_acc: 0.9916\n",
      "Epoch 21/200\n",
      "6/6 [==============================] - 0s 48ms/step - loss: 0.4413 - avg_acc: 0.9714 - val_loss: 0.2509 - val_avg_acc: 0.9916\n",
      "Epoch 22/200\n",
      "6/6 [==============================] - 0s 49ms/step - loss: 0.4394 - avg_acc: 0.9749 - val_loss: 0.4083 - val_avg_acc: 0.9768\n",
      "Epoch 23/200\n",
      "6/6 [==============================] - 0s 49ms/step - loss: 0.4330 - avg_acc: 0.9716 - val_loss: 0.2900 - val_avg_acc: 0.9810\n",
      "Epoch 24/200\n",
      "6/6 [==============================] - 0s 48ms/step - loss: 0.4096 - avg_acc: 0.9738 - val_loss: 0.1673 - val_avg_acc: 0.9895\n",
      "Epoch 25/200\n",
      "6/6 [==============================] - 0s 48ms/step - loss: 0.3270 - avg_acc: 0.9784 - val_loss: 0.1460 - val_avg_acc: 0.9895\n",
      "Epoch 26/200\n",
      "6/6 [==============================] - 0s 49ms/step - loss: 0.3063 - avg_acc: 0.9803 - val_loss: 0.1579 - val_avg_acc: 0.9916\n",
      "Epoch 27/200\n",
      "6/6 [==============================] - 0s 48ms/step - loss: 0.3658 - avg_acc: 0.9781 - val_loss: 0.1669 - val_avg_acc: 0.9916\n",
      "Epoch 28/200\n",
      "6/6 [==============================] - 0s 47ms/step - loss: 0.3092 - avg_acc: 0.9825 - val_loss: 0.1802 - val_avg_acc: 0.9937\n",
      "Epoch 29/200\n",
      "6/6 [==============================] - 0s 49ms/step - loss: 0.2869 - avg_acc: 0.9823 - val_loss: 0.2798 - val_avg_acc: 0.9852\n",
      "Epoch 30/200\n",
      "6/6 [==============================] - 0s 49ms/step - loss: 0.3213 - avg_acc: 0.9792 - val_loss: 0.1333 - val_avg_acc: 0.9916\n",
      "Epoch 31/200\n",
      "6/6 [==============================] - 0s 48ms/step - loss: 0.2748 - avg_acc: 0.9825 - val_loss: 0.1338 - val_avg_acc: 0.9937\n",
      "Epoch 32/200\n",
      "6/6 [==============================] - 0s 49ms/step - loss: 0.2257 - avg_acc: 0.9855 - val_loss: 0.1647 - val_avg_acc: 0.9916\n",
      "Epoch 33/200\n",
      "6/6 [==============================] - 0s 48ms/step - loss: 0.2335 - avg_acc: 0.9844 - val_loss: 0.1535 - val_avg_acc: 0.9895\n",
      "Epoch 34/200\n",
      "6/6 [==============================] - 0s 48ms/step - loss: 0.2565 - avg_acc: 0.9827 - val_loss: 0.1370 - val_avg_acc: 0.9916\n",
      "Epoch 35/200\n",
      "6/6 [==============================] - 0s 48ms/step - loss: 0.2149 - avg_acc: 0.9862 - val_loss: 0.1985 - val_avg_acc: 0.9916\n",
      "Epoch 36/200\n",
      "6/6 [==============================] - 0s 48ms/step - loss: 0.2272 - avg_acc: 0.9861 - val_loss: 0.1285 - val_avg_acc: 0.9916\n",
      "Epoch 37/200\n",
      "6/6 [==============================] - 0s 50ms/step - loss: 0.2495 - avg_acc: 0.9842 - val_loss: 0.1291 - val_avg_acc: 0.9916\n",
      "Epoch 38/200\n",
      "6/6 [==============================] - 0s 50ms/step - loss: 0.1607 - avg_acc: 0.9903 - val_loss: 0.1050 - val_avg_acc: 0.9895\n",
      "Epoch 39/200\n",
      "6/6 [==============================] - 0s 48ms/step - loss: 0.1901 - avg_acc: 0.9883 - val_loss: 0.1134 - val_avg_acc: 0.9958\n",
      "Epoch 40/200\n",
      "6/6 [==============================] - 0s 48ms/step - loss: 0.1945 - avg_acc: 0.9853 - val_loss: 0.1821 - val_avg_acc: 0.9895\n",
      "Epoch 41/200\n",
      "6/6 [==============================] - 0s 48ms/step - loss: 0.3628 - avg_acc: 0.9805 - val_loss: 0.0859 - val_avg_acc: 0.9958\n",
      "Epoch 42/200\n",
      "6/6 [==============================] - 0s 48ms/step - loss: 0.1683 - avg_acc: 0.9887 - val_loss: 0.1198 - val_avg_acc: 0.9916\n",
      "Epoch 43/200\n",
      "6/6 [==============================] - 0s 49ms/step - loss: 0.1642 - avg_acc: 0.9892 - val_loss: 0.1101 - val_avg_acc: 0.9937\n",
      "Epoch 44/200\n",
      "6/6 [==============================] - 0s 48ms/step - loss: 0.1685 - avg_acc: 0.9889 - val_loss: 0.1195 - val_avg_acc: 0.9937\n",
      "Epoch 45/200\n",
      "6/6 [==============================] - 0s 48ms/step - loss: 0.1550 - avg_acc: 0.9909 - val_loss: 0.1009 - val_avg_acc: 0.9916\n",
      "Epoch 46/200\n",
      "6/6 [==============================] - 0s 48ms/step - loss: 0.1307 - avg_acc: 0.9924 - val_loss: 0.0986 - val_avg_acc: 0.9937\n",
      "Epoch 47/200\n",
      "6/6 [==============================] - 0s 48ms/step - loss: 0.1776 - avg_acc: 0.9896 - val_loss: 0.1374 - val_avg_acc: 0.9916\n",
      "Epoch 48/200\n",
      "6/6 [==============================] - 0s 48ms/step - loss: 0.1272 - avg_acc: 0.9922 - val_loss: 0.1248 - val_avg_acc: 0.9937\n",
      "Epoch 49/200\n",
      "6/6 [==============================] - 0s 50ms/step - loss: 0.1423 - avg_acc: 0.9915 - val_loss: 0.0910 - val_avg_acc: 0.9937\n",
      "Epoch 50/200\n",
      "6/6 [==============================] - 0s 48ms/step - loss: 0.1702 - avg_acc: 0.9890 - val_loss: 0.1251 - val_avg_acc: 0.9937\n",
      "Epoch 51/200\n",
      "6/6 [==============================] - 0s 48ms/step - loss: 0.1364 - avg_acc: 0.9929 - val_loss: 0.1091 - val_avg_acc: 0.9937\n",
      "Epoch 52/200\n",
      "6/6 [==============================] - 0s 48ms/step - loss: 0.1612 - avg_acc: 0.9881 - val_loss: 0.0988 - val_avg_acc: 0.9958\n",
      "Epoch 53/200\n",
      "6/6 [==============================] - 0s 47ms/step - loss: 0.1271 - avg_acc: 0.9918 - val_loss: 0.0844 - val_avg_acc: 0.9937\n",
      "Epoch 54/200\n",
      "6/6 [==============================] - 0s 49ms/step - loss: 0.1511 - avg_acc: 0.9911 - val_loss: 0.1328 - val_avg_acc: 0.9937\n",
      "Epoch 55/200\n",
      "6/6 [==============================] - 0s 49ms/step - loss: 0.1442 - avg_acc: 0.9911 - val_loss: 0.1187 - val_avg_acc: 0.9979\n",
      "Epoch 56/200\n",
      "6/6 [==============================] - 0s 48ms/step - loss: 0.0985 - avg_acc: 0.9939 - val_loss: 0.1383 - val_avg_acc: 0.9916\n",
      "Epoch 57/200\n",
      "6/6 [==============================] - 0s 49ms/step - loss: 0.1198 - avg_acc: 0.9920 - val_loss: 0.1719 - val_avg_acc: 0.9873\n",
      "Epoch 58/200\n",
      "6/6 [==============================] - 0s 48ms/step - loss: 0.1274 - avg_acc: 0.9933 - val_loss: 0.1258 - val_avg_acc: 0.9958\n",
      "Epoch 59/200\n",
      "6/6 [==============================] - 0s 48ms/step - loss: 0.1186 - avg_acc: 0.9933 - val_loss: 0.1250 - val_avg_acc: 0.9958\n",
      "Epoch 60/200\n",
      "6/6 [==============================] - 0s 48ms/step - loss: 0.0929 - avg_acc: 0.9933 - val_loss: 0.2094 - val_avg_acc: 0.9916\n",
      "Epoch 61/200\n",
      "6/6 [==============================] - 0s 48ms/step - loss: 0.1370 - avg_acc: 0.9935 - val_loss: 0.1119 - val_avg_acc: 0.9916\n",
      "Epoch 62/200\n",
      "6/6 [==============================] - 0s 48ms/step - loss: 0.0843 - avg_acc: 0.9939 - val_loss: 0.1038 - val_avg_acc: 0.9958\n",
      "Epoch 63/200\n",
      "6/6 [==============================] - 0s 49ms/step - loss: 0.1275 - avg_acc: 0.9920 - val_loss: 0.1580 - val_avg_acc: 0.9916\n",
      "Epoch 64/200\n",
      "6/6 [==============================] - 0s 48ms/step - loss: 0.1171 - avg_acc: 0.9916 - val_loss: 0.1242 - val_avg_acc: 0.9916\n",
      "Epoch 65/200\n",
      "6/6 [==============================] - 0s 48ms/step - loss: 0.1128 - avg_acc: 0.9924 - val_loss: 0.0779 - val_avg_acc: 0.9958\n",
      "Epoch 66/200\n",
      "6/6 [==============================] - 0s 48ms/step - loss: 0.0770 - avg_acc: 0.9952 - val_loss: 0.0855 - val_avg_acc: 0.9937\n",
      "Epoch 67/200\n",
      "6/6 [==============================] - 0s 49ms/step - loss: 0.1031 - avg_acc: 0.9935 - val_loss: 0.1263 - val_avg_acc: 0.9916\n",
      "Epoch 68/200\n",
      "6/6 [==============================] - 0s 48ms/step - loss: 0.1090 - avg_acc: 0.9922 - val_loss: 0.1383 - val_avg_acc: 0.9958\n",
      "Epoch 69/200\n",
      "6/6 [==============================] - 0s 48ms/step - loss: 0.0740 - avg_acc: 0.9952 - val_loss: 0.0995 - val_avg_acc: 0.9937\n",
      "Epoch 70/200\n",
      "6/6 [==============================] - 0s 48ms/step - loss: 0.0816 - avg_acc: 0.9935 - val_loss: 0.1577 - val_avg_acc: 0.9937\n",
      "Epoch 71/200\n",
      "6/6 [==============================] - 0s 50ms/step - loss: 0.0671 - avg_acc: 0.9965 - val_loss: 0.1378 - val_avg_acc: 0.9958\n",
      "Epoch 72/200\n",
      "6/6 [==============================] - 0s 49ms/step - loss: 0.1216 - avg_acc: 0.9920 - val_loss: 0.1656 - val_avg_acc: 0.9937\n",
      "Epoch 73/200\n",
      "6/6 [==============================] - 0s 48ms/step - loss: 0.0910 - avg_acc: 0.9952 - val_loss: 0.1716 - val_avg_acc: 0.9895\n",
      "Epoch 74/200\n",
      "6/6 [==============================] - 0s 62ms/step - loss: 0.0986 - avg_acc: 0.9942 - val_loss: 0.1414 - val_avg_acc: 0.9958\n",
      "Epoch 75/200\n",
      "6/6 [==============================] - 0s 51ms/step - loss: 0.1068 - avg_acc: 0.9937 - val_loss: 0.1057 - val_avg_acc: 0.9937\n",
      "Epoch 76/200\n",
      "6/6 [==============================] - 0s 53ms/step - loss: 0.0668 - avg_acc: 0.9970 - val_loss: 0.1199 - val_avg_acc: 0.9937\n",
      "Epoch 77/200\n",
      "6/6 [==============================] - 0s 50ms/step - loss: 0.0735 - avg_acc: 0.9955 - val_loss: 0.1611 - val_avg_acc: 0.9958\n",
      "Epoch 78/200\n",
      "6/6 [==============================] - 0s 48ms/step - loss: 0.0668 - avg_acc: 0.9957 - val_loss: 0.1546 - val_avg_acc: 0.9937\n",
      "Epoch 79/200\n",
      "6/6 [==============================] - 0s 47ms/step - loss: 0.0761 - avg_acc: 0.9940 - val_loss: 0.1557 - val_avg_acc: 0.9916\n",
      "Epoch 80/200\n",
      "6/6 [==============================] - 0s 48ms/step - loss: 0.0783 - avg_acc: 0.9961 - val_loss: 0.1089 - val_avg_acc: 0.9937\n",
      "Epoch 81/200\n",
      "6/6 [==============================] - 0s 49ms/step - loss: 0.0561 - avg_acc: 0.9970 - val_loss: 0.1302 - val_avg_acc: 0.9937\n",
      "Epoch 82/200\n",
      "6/6 [==============================] - 0s 50ms/step - loss: 0.0683 - avg_acc: 0.9948 - val_loss: 0.1499 - val_avg_acc: 0.9937\n",
      "Epoch 83/200\n",
      "6/6 [==============================] - 0s 56ms/step - loss: 0.0606 - avg_acc: 0.9966 - val_loss: 0.1492 - val_avg_acc: 0.9937\n",
      "Epoch 84/200\n",
      "6/6 [==============================] - 0s 50ms/step - loss: 0.0568 - avg_acc: 0.9970 - val_loss: 0.1393 - val_avg_acc: 0.9958\n",
      "Epoch 85/200\n",
      "6/6 [==============================] - 0s 51ms/step - loss: 0.0587 - avg_acc: 0.9957 - val_loss: 0.2487 - val_avg_acc: 0.9895\n",
      "Epoch 86/200\n",
      "6/6 [==============================] - 0s 48ms/step - loss: 0.1348 - avg_acc: 0.9924 - val_loss: 0.1452 - val_avg_acc: 0.9937\n",
      "Epoch 87/200\n",
      "6/6 [==============================] - 0s 49ms/step - loss: 0.0390 - avg_acc: 0.9989 - val_loss: 0.1247 - val_avg_acc: 0.9937\n",
      "Epoch 88/200\n",
      "6/6 [==============================] - 0s 49ms/step - loss: 0.0704 - avg_acc: 0.9955 - val_loss: 0.1155 - val_avg_acc: 0.9958\n",
      "Epoch 89/200\n",
      "6/6 [==============================] - 0s 48ms/step - loss: 0.0507 - avg_acc: 0.9976 - val_loss: 0.1508 - val_avg_acc: 0.9937\n",
      "Epoch 90/200\n",
      "6/6 [==============================] - 0s 48ms/step - loss: 0.0525 - avg_acc: 0.9970 - val_loss: 0.1695 - val_avg_acc: 0.9937\n",
      "Epoch 91/200\n",
      "6/6 [==============================] - 0s 48ms/step - loss: 0.0646 - avg_acc: 0.9952 - val_loss: 0.1773 - val_avg_acc: 0.9937\n",
      "Epoch 92/200\n",
      "6/6 [==============================] - 0s 48ms/step - loss: 0.0457 - avg_acc: 0.9981 - val_loss: 0.1563 - val_avg_acc: 0.9937\n",
      "Epoch 93/200\n",
      "6/6 [==============================] - 0s 48ms/step - loss: 0.0353 - avg_acc: 0.9978 - val_loss: 0.1884 - val_avg_acc: 0.9937\n",
      "Epoch 94/200\n",
      "6/6 [==============================] - 0s 48ms/step - loss: 0.0468 - avg_acc: 0.9965 - val_loss: 0.2277 - val_avg_acc: 0.9895\n",
      "Epoch 95/200\n",
      "6/6 [==============================] - 0s 48ms/step - loss: 0.0615 - avg_acc: 0.9968 - val_loss: 0.1593 - val_avg_acc: 0.9937\n",
      "Epoch 96/200\n",
      "6/6 [==============================] - 0s 48ms/step - loss: 0.0411 - avg_acc: 0.9976 - val_loss: 0.1852 - val_avg_acc: 0.9916\n",
      "Epoch 97/200\n",
      "6/6 [==============================] - 0s 48ms/step - loss: 0.0368 - avg_acc: 0.9983 - val_loss: 0.1456 - val_avg_acc: 0.9895\n",
      "Epoch 98/200\n",
      "6/6 [==============================] - 0s 48ms/step - loss: 0.0442 - avg_acc: 0.9976 - val_loss: 0.1827 - val_avg_acc: 0.9916\n",
      "Epoch 99/200\n",
      "6/6 [==============================] - 0s 56ms/step - loss: 0.0417 - avg_acc: 0.9972 - val_loss: 0.1842 - val_avg_acc: 0.9937\n",
      "Epoch 100/200\n",
      "6/6 [==============================] - 0s 48ms/step - loss: 0.0707 - avg_acc: 0.9950 - val_loss: 0.2078 - val_avg_acc: 0.9937\n",
      "Epoch 101/200\n",
      "6/6 [==============================] - 0s 48ms/step - loss: 0.0484 - avg_acc: 0.9968 - val_loss: 0.2206 - val_avg_acc: 0.9916\n",
      "Epoch 102/200\n",
      "6/6 [==============================] - 0s 48ms/step - loss: 0.0521 - avg_acc: 0.9965 - val_loss: 0.1735 - val_avg_acc: 0.9958\n",
      "Epoch 103/200\n",
      "6/6 [==============================] - 0s 48ms/step - loss: 0.0462 - avg_acc: 0.9972 - val_loss: 0.2043 - val_avg_acc: 0.9916\n",
      "Epoch 104/200\n",
      "6/6 [==============================] - 0s 48ms/step - loss: 0.0345 - avg_acc: 0.9985 - val_loss: 0.1760 - val_avg_acc: 0.9937\n",
      "Epoch 105/200\n",
      "6/6 [==============================] - 0s 48ms/step - loss: 0.0278 - avg_acc: 0.9983 - val_loss: 0.2062 - val_avg_acc: 0.9937\n",
      "Epoch 106/200\n",
      "6/6 [==============================] - 0s 48ms/step - loss: 0.0189 - avg_acc: 0.9994 - val_loss: 0.2404 - val_avg_acc: 0.9916\n",
      "Epoch 107/200\n",
      "6/6 [==============================] - 0s 49ms/step - loss: 0.0344 - avg_acc: 0.9981 - val_loss: 0.2590 - val_avg_acc: 0.9916\n",
      "Epoch 108/200\n",
      "6/6 [==============================] - 0s 48ms/step - loss: 0.0617 - avg_acc: 0.9974 - val_loss: 0.2016 - val_avg_acc: 0.9916\n",
      "Epoch 109/200\n",
      "6/6 [==============================] - 0s 48ms/step - loss: 0.0380 - avg_acc: 0.9972 - val_loss: 0.2023 - val_avg_acc: 0.9937\n",
      "Epoch 110/200\n",
      "6/6 [==============================] - 0s 48ms/step - loss: 0.0319 - avg_acc: 0.9978 - val_loss: 0.1520 - val_avg_acc: 0.9916\n",
      "Epoch 111/200\n",
      "6/6 [==============================] - 0s 49ms/step - loss: 0.0354 - avg_acc: 0.9976 - val_loss: 0.1598 - val_avg_acc: 0.9916\n",
      "Epoch 112/200\n",
      "6/6 [==============================] - 0s 47ms/step - loss: 0.0312 - avg_acc: 0.9985 - val_loss: 0.1532 - val_avg_acc: 0.9937\n",
      "Epoch 113/200\n",
      "6/6 [==============================] - 0s 48ms/step - loss: 0.0414 - avg_acc: 0.9963 - val_loss: 0.1310 - val_avg_acc: 0.9937\n",
      "Epoch 114/200\n",
      "6/6 [==============================] - 0s 48ms/step - loss: 0.0490 - avg_acc: 0.9963 - val_loss: 0.1988 - val_avg_acc: 0.9916\n",
      "Epoch 115/200\n",
      "6/6 [==============================] - 0s 49ms/step - loss: 0.0310 - avg_acc: 0.9985 - val_loss: 0.2405 - val_avg_acc: 0.9916\n",
      "Epoch 116/200\n",
      "6/6 [==============================] - 0s 52ms/step - loss: 0.0320 - avg_acc: 0.9983 - val_loss: 0.2714 - val_avg_acc: 0.9916\n",
      "Epoch 117/200\n",
      "6/6 [==============================] - 0s 51ms/step - loss: 0.0224 - avg_acc: 0.9991 - val_loss: 0.2283 - val_avg_acc: 0.9916\n",
      "Epoch 118/200\n",
      "6/6 [==============================] - 0s 51ms/step - loss: 0.0355 - avg_acc: 0.9976 - val_loss: 0.2484 - val_avg_acc: 0.9916\n",
      "Epoch 119/200\n",
      "6/6 [==============================] - 0s 48ms/step - loss: 0.0310 - avg_acc: 0.9981 - val_loss: 0.2075 - val_avg_acc: 0.9916\n",
      "Epoch 120/200\n",
      "6/6 [==============================] - 0s 48ms/step - loss: 0.0289 - avg_acc: 0.9985 - val_loss: 0.2244 - val_avg_acc: 0.9937\n",
      "Epoch 121/200\n",
      "6/6 [==============================] - 0s 49ms/step - loss: 0.0213 - avg_acc: 0.9987 - val_loss: 0.2211 - val_avg_acc: 0.9958\n",
      "Epoch 122/200\n",
      "6/6 [==============================] - 0s 48ms/step - loss: 0.0446 - avg_acc: 0.9983 - val_loss: 0.2288 - val_avg_acc: 0.9937\n",
      "Epoch 123/200\n",
      "6/6 [==============================] - 0s 48ms/step - loss: 0.0300 - avg_acc: 0.9987 - val_loss: 0.1897 - val_avg_acc: 0.9937\n",
      "Epoch 124/200\n",
      "6/6 [==============================] - 0s 48ms/step - loss: 0.0176 - avg_acc: 0.9998 - val_loss: 0.2295 - val_avg_acc: 0.9916\n",
      "Epoch 125/200\n",
      "6/6 [==============================] - 0s 48ms/step - loss: 0.0319 - avg_acc: 0.9978 - val_loss: 0.2352 - val_avg_acc: 0.9916\n",
      "Epoch 126/200\n",
      "6/6 [==============================] - 0s 48ms/step - loss: 0.0278 - avg_acc: 0.9981 - val_loss: 0.1954 - val_avg_acc: 0.9937\n",
      "Epoch 127/200\n",
      "6/6 [==============================] - 0s 47ms/step - loss: 0.0420 - avg_acc: 0.9981 - val_loss: 0.1827 - val_avg_acc: 0.9937\n",
      "Epoch 128/200\n",
      "6/6 [==============================] - 0s 50ms/step - loss: 0.0268 - avg_acc: 0.9983 - val_loss: 0.1991 - val_avg_acc: 0.9916\n",
      "Epoch 129/200\n",
      "6/6 [==============================] - 0s 47ms/step - loss: 0.0312 - avg_acc: 0.9978 - val_loss: 0.1944 - val_avg_acc: 0.9937\n",
      "Epoch 130/200\n",
      "6/6 [==============================] - 0s 47ms/step - loss: 0.0342 - avg_acc: 0.9987 - val_loss: 0.1293 - val_avg_acc: 0.9937\n",
      "Epoch 131/200\n",
      "6/6 [==============================] - 0s 48ms/step - loss: 0.0211 - avg_acc: 0.9987 - val_loss: 0.1594 - val_avg_acc: 0.9937\n",
      "Epoch 132/200\n",
      "6/6 [==============================] - 0s 48ms/step - loss: 0.0424 - avg_acc: 0.9981 - val_loss: 0.2243 - val_avg_acc: 0.9916\n",
      "Epoch 133/200\n",
      "6/6 [==============================] - 0s 47ms/step - loss: 0.0891 - avg_acc: 0.9948 - val_loss: 0.1637 - val_avg_acc: 0.9937\n",
      "Epoch 134/200\n",
      "6/6 [==============================] - 0s 47ms/step - loss: 0.0287 - avg_acc: 0.9983 - val_loss: 0.1722 - val_avg_acc: 0.9937\n",
      "Epoch 135/200\n",
      "6/6 [==============================] - 0s 47ms/step - loss: 0.0406 - avg_acc: 0.9974 - val_loss: 0.1894 - val_avg_acc: 0.9937\n",
      "Epoch 136/200\n",
      "6/6 [==============================] - 0s 48ms/step - loss: 0.0180 - avg_acc: 0.9996 - val_loss: 0.1930 - val_avg_acc: 0.9916\n",
      "Epoch 137/200\n",
      "6/6 [==============================] - 0s 49ms/step - loss: 0.0249 - avg_acc: 0.9985 - val_loss: 0.1922 - val_avg_acc: 0.9958\n",
      "Epoch 138/200\n",
      "6/6 [==============================] - 0s 48ms/step - loss: 0.0100 - avg_acc: 0.9996 - val_loss: 0.1882 - val_avg_acc: 0.9916\n",
      "Epoch 139/200\n",
      "6/6 [==============================] - 0s 48ms/step - loss: 0.0280 - avg_acc: 0.9985 - val_loss: 0.2114 - val_avg_acc: 0.9916\n",
      "Epoch 140/200\n",
      "6/6 [==============================] - 0s 47ms/step - loss: 0.0181 - avg_acc: 0.9989 - val_loss: 0.1854 - val_avg_acc: 0.9916\n",
      "Epoch 141/200\n",
      "6/6 [==============================] - 0s 47ms/step - loss: 0.0122 - avg_acc: 0.9989 - val_loss: 0.1621 - val_avg_acc: 0.9937\n",
      "Epoch 142/200\n",
      "6/6 [==============================] - 0s 47ms/step - loss: 0.0173 - avg_acc: 0.9991 - val_loss: 0.1732 - val_avg_acc: 0.9937\n",
      "Epoch 143/200\n",
      "6/6 [==============================] - 0s 47ms/step - loss: 0.0118 - avg_acc: 0.9993 - val_loss: 0.2171 - val_avg_acc: 0.9937\n",
      "Epoch 144/200\n",
      "6/6 [==============================] - 0s 47ms/step - loss: 0.0199 - avg_acc: 0.9985 - val_loss: 0.1503 - val_avg_acc: 0.9937\n",
      "Epoch 145/200\n",
      "6/6 [==============================] - 0s 48ms/step - loss: 0.0596 - avg_acc: 0.9972 - val_loss: 0.2003 - val_avg_acc: 0.9937\n",
      "Epoch 146/200\n",
      "6/6 [==============================] - 0s 47ms/step - loss: 0.0166 - avg_acc: 0.9991 - val_loss: 0.2161 - val_avg_acc: 0.9937\n",
      "Epoch 147/200\n",
      "6/6 [==============================] - 0s 49ms/step - loss: 0.0178 - avg_acc: 0.9991 - val_loss: 0.1800 - val_avg_acc: 0.9937\n",
      "Epoch 148/200\n",
      "6/6 [==============================] - 0s 47ms/step - loss: 0.0211 - avg_acc: 0.9991 - val_loss: 0.2052 - val_avg_acc: 0.9916\n",
      "Epoch 149/200\n",
      "6/6 [==============================] - 0s 47ms/step - loss: 0.0273 - avg_acc: 0.9987 - val_loss: 0.1864 - val_avg_acc: 0.9937\n",
      "Epoch 150/200\n",
      "6/6 [==============================] - 0s 51ms/step - loss: 0.0158 - avg_acc: 0.9989 - val_loss: 0.2160 - val_avg_acc: 0.9937\n",
      "Epoch 151/200\n",
      "6/6 [==============================] - 0s 48ms/step - loss: 0.0200 - avg_acc: 0.9989 - val_loss: 0.1738 - val_avg_acc: 0.9937\n",
      "Epoch 152/200\n",
      "6/6 [==============================] - 0s 47ms/step - loss: 0.0251 - avg_acc: 0.9985 - val_loss: 0.2691 - val_avg_acc: 0.9937\n",
      "Epoch 153/200\n",
      "6/6 [==============================] - 0s 47ms/step - loss: 0.0433 - avg_acc: 0.9976 - val_loss: 0.1755 - val_avg_acc: 0.9958\n",
      "Epoch 154/200\n",
      "6/6 [==============================] - 0s 49ms/step - loss: 0.0148 - avg_acc: 0.9993 - val_loss: 0.1614 - val_avg_acc: 0.9958\n",
      "Epoch 155/200\n",
      "6/6 [==============================] - 0s 49ms/step - loss: 0.0196 - avg_acc: 0.9987 - val_loss: 0.1920 - val_avg_acc: 0.9916\n",
      "Epoch 156/200\n",
      "6/6 [==============================] - 0s 47ms/step - loss: 0.0207 - avg_acc: 0.9985 - val_loss: 0.1797 - val_avg_acc: 0.9958\n",
      "Epoch 157/200\n",
      "6/6 [==============================] - 0s 47ms/step - loss: 0.0174 - avg_acc: 0.9996 - val_loss: 0.2221 - val_avg_acc: 0.9937\n",
      "Epoch 158/200\n",
      "6/6 [==============================] - 0s 48ms/step - loss: 0.0061 - avg_acc: 1.0000 - val_loss: 0.2118 - val_avg_acc: 0.9916\n",
      "Epoch 159/200\n",
      "6/6 [==============================] - 0s 47ms/step - loss: 0.0177 - avg_acc: 0.9987 - val_loss: 0.2063 - val_avg_acc: 0.9937\n",
      "Epoch 160/200\n",
      "6/6 [==============================] - 0s 48ms/step - loss: 0.0174 - avg_acc: 0.9985 - val_loss: 0.2640 - val_avg_acc: 0.9916\n",
      "Epoch 161/200\n",
      "6/6 [==============================] - 0s 47ms/step - loss: 0.0214 - avg_acc: 0.9978 - val_loss: 0.2308 - val_avg_acc: 0.9916\n",
      "Epoch 162/200\n",
      "6/6 [==============================] - 0s 52ms/step - loss: 0.0223 - avg_acc: 0.9993 - val_loss: 0.1990 - val_avg_acc: 0.9937\n",
      "Epoch 163/200\n",
      "6/6 [==============================] - 0s 47ms/step - loss: 0.0199 - avg_acc: 0.9993 - val_loss: 0.2691 - val_avg_acc: 0.9916\n",
      "Epoch 164/200\n",
      "6/6 [==============================] - 0s 47ms/step - loss: 0.0171 - avg_acc: 0.9987 - val_loss: 0.2821 - val_avg_acc: 0.9937\n",
      "Epoch 165/200\n",
      "6/6 [==============================] - 0s 47ms/step - loss: 0.0146 - avg_acc: 0.9996 - val_loss: 0.2816 - val_avg_acc: 0.9916\n",
      "Epoch 166/200\n",
      "6/6 [==============================] - 0s 47ms/step - loss: 0.0074 - avg_acc: 1.0000 - val_loss: 0.2202 - val_avg_acc: 0.9916\n",
      "Epoch 167/200\n",
      "6/6 [==============================] - 0s 47ms/step - loss: 0.0108 - avg_acc: 0.9991 - val_loss: 0.2338 - val_avg_acc: 0.9916\n",
      "Epoch 168/200\n",
      "6/6 [==============================] - 0s 48ms/step - loss: 0.0084 - avg_acc: 1.0000 - val_loss: 0.2375 - val_avg_acc: 0.9916\n",
      "Epoch 169/200\n",
      "6/6 [==============================] - 0s 48ms/step - loss: 0.0103 - avg_acc: 0.9998 - val_loss: 0.2013 - val_avg_acc: 0.9937\n",
      "Epoch 170/200\n",
      "6/6 [==============================] - 0s 47ms/step - loss: 0.0169 - avg_acc: 0.9993 - val_loss: 0.1973 - val_avg_acc: 0.9937\n",
      "Epoch 171/200\n",
      "6/6 [==============================] - 0s 48ms/step - loss: 0.0157 - avg_acc: 0.9989 - val_loss: 0.1582 - val_avg_acc: 0.9958\n",
      "Epoch 172/200\n",
      "6/6 [==============================] - 0s 47ms/step - loss: 0.0236 - avg_acc: 0.9983 - val_loss: 0.3259 - val_avg_acc: 0.9937\n",
      "Epoch 173/200\n",
      "6/6 [==============================] - 0s 47ms/step - loss: 0.0427 - avg_acc: 0.9983 - val_loss: 0.2511 - val_avg_acc: 0.9916\n",
      "Epoch 174/200\n",
      "6/6 [==============================] - 0s 47ms/step - loss: 0.0166 - avg_acc: 0.9989 - val_loss: 0.1868 - val_avg_acc: 0.9937\n",
      "Epoch 175/200\n",
      "6/6 [==============================] - 0s 48ms/step - loss: 0.0171 - avg_acc: 0.9991 - val_loss: 0.2321 - val_avg_acc: 0.9937\n",
      "Epoch 176/200\n",
      "6/6 [==============================] - 0s 49ms/step - loss: 0.0144 - avg_acc: 0.9989 - val_loss: 0.2425 - val_avg_acc: 0.9937\n",
      "Epoch 177/200\n",
      "6/6 [==============================] - 0s 47ms/step - loss: 0.0188 - avg_acc: 0.9991 - val_loss: 0.2067 - val_avg_acc: 0.9916\n",
      "Epoch 178/200\n",
      "6/6 [==============================] - 0s 48ms/step - loss: 0.0132 - avg_acc: 0.9998 - val_loss: 0.2421 - val_avg_acc: 0.9937\n",
      "Epoch 179/200\n",
      "6/6 [==============================] - 0s 50ms/step - loss: 0.0187 - avg_acc: 0.9991 - val_loss: 0.3080 - val_avg_acc: 0.9916\n",
      "Epoch 180/200\n",
      "6/6 [==============================] - 0s 49ms/step - loss: 0.0137 - avg_acc: 0.9993 - val_loss: 0.2507 - val_avg_acc: 0.9937\n",
      "Epoch 181/200\n",
      "6/6 [==============================] - 0s 49ms/step - loss: 0.0198 - avg_acc: 0.9991 - val_loss: 0.2743 - val_avg_acc: 0.9937\n",
      "Epoch 182/200\n",
      "6/6 [==============================] - 0s 48ms/step - loss: 0.0158 - avg_acc: 0.9993 - val_loss: 0.2541 - val_avg_acc: 0.9937\n",
      "Epoch 183/200\n",
      "6/6 [==============================] - 0s 56ms/step - loss: 0.0220 - avg_acc: 0.9994 - val_loss: 0.2168 - val_avg_acc: 0.9916\n",
      "Epoch 184/200\n",
      "6/6 [==============================] - 0s 48ms/step - loss: 0.0323 - avg_acc: 0.9991 - val_loss: 0.2527 - val_avg_acc: 0.9916\n",
      "Epoch 185/200\n",
      "6/6 [==============================] - 0s 48ms/step - loss: 0.0085 - avg_acc: 0.9996 - val_loss: 0.2294 - val_avg_acc: 0.9937\n",
      "Epoch 186/200\n",
      "6/6 [==============================] - 0s 49ms/step - loss: 0.0103 - avg_acc: 0.9991 - val_loss: 0.2263 - val_avg_acc: 0.9937\n",
      "Epoch 187/200\n",
      "6/6 [==============================] - 0s 70ms/step - loss: 0.0105 - avg_acc: 0.9996 - val_loss: 0.2610 - val_avg_acc: 0.9916\n",
      "Epoch 188/200\n",
      "6/6 [==============================] - 0s 56ms/step - loss: 0.0185 - avg_acc: 0.9987 - val_loss: 0.2699 - val_avg_acc: 0.9916\n",
      "Epoch 189/200\n",
      "6/6 [==============================] - 0s 50ms/step - loss: 0.0169 - avg_acc: 0.9991 - val_loss: 0.2514 - val_avg_acc: 0.9916\n",
      "Epoch 190/200\n",
      "6/6 [==============================] - 0s 48ms/step - loss: 0.0055 - avg_acc: 1.0000 - val_loss: 0.2372 - val_avg_acc: 0.9916\n",
      "Epoch 191/200\n",
      "6/6 [==============================] - 0s 52ms/step - loss: 0.0043 - avg_acc: 1.0000 - val_loss: 0.2656 - val_avg_acc: 0.9916\n",
      "Epoch 192/200\n",
      "6/6 [==============================] - 0s 48ms/step - loss: 0.0137 - avg_acc: 0.9991 - val_loss: 0.2447 - val_avg_acc: 0.9916\n",
      "Epoch 193/200\n",
      "6/6 [==============================] - 0s 49ms/step - loss: 0.0112 - avg_acc: 0.9996 - val_loss: 0.2273 - val_avg_acc: 0.9937\n",
      "Epoch 194/200\n",
      "6/6 [==============================] - 0s 49ms/step - loss: 0.0147 - avg_acc: 0.9998 - val_loss: 0.2259 - val_avg_acc: 0.9916\n",
      "Epoch 195/200\n",
      "6/6 [==============================] - 0s 48ms/step - loss: 0.0046 - avg_acc: 1.0000 - val_loss: 0.2255 - val_avg_acc: 0.9916\n",
      "Epoch 196/200\n",
      "6/6 [==============================] - 0s 49ms/step - loss: 0.0077 - avg_acc: 0.9987 - val_loss: 0.1982 - val_avg_acc: 0.9916\n",
      "Epoch 197/200\n",
      "6/6 [==============================] - 0s 48ms/step - loss: 0.0138 - avg_acc: 0.9987 - val_loss: 0.2514 - val_avg_acc: 0.9916\n",
      "Epoch 198/200\n",
      "6/6 [==============================] - 0s 48ms/step - loss: 0.0138 - avg_acc: 0.9998 - val_loss: 0.2128 - val_avg_acc: 0.9937\n",
      "Epoch 199/200\n",
      "6/6 [==============================] - 0s 49ms/step - loss: 0.0042 - avg_acc: 1.0000 - val_loss: 0.1944 - val_avg_acc: 0.9937\n",
      "Epoch 200/200\n",
      "6/6 [==============================] - 0s 49ms/step - loss: 0.0048 - avg_acc: 0.9996 - val_loss: 0.1903 - val_avg_acc: 0.9937\n",
      "|     |   epoch |   avg_acc |        loss |   val_avg_acc |   val_loss |\n",
      "|----:|--------:|----------:|------------:|--------------:|-----------:|\n",
      "|   0 |       0 |  0.659198 | 12.6368     |      0.888186 |  4.58422   |\n",
      "|   1 |       1 |  0.893937 |  3.94861    |      0.890295 |  3.81895   |\n",
      "|   2 |       2 |  0.891543 |  3.31302    |      0.892405 |  2.38474   |\n",
      "|   3 |       3 |  0.903032 |  2.36406    |      0.886076 |  2.10779   |\n",
      "|   4 |       4 |  0.915802 |  2.06284    |      0.915612 |  1.49919   |\n",
      "|   5 |       5 |  0.914677 |  1.84927    |      0.905063 |  1.63267   |\n",
      "|   6 |       6 |  0.918827 |  1.7015     |      0.902954 |  1.93352   |\n",
      "|   7 |       7 |  0.927988 |  1.39286    |      0.924051 |  1.55486   |\n",
      "|   8 |       8 |  0.934669 |  1.23988    |      0.947257 |  0.833064  |\n",
      "|   9 |       9 |  0.949149 |  0.893188   |      0.978903 |  0.457177  |\n",
      "|  10 |      10 |  0.94807  |  0.845076   |      0.964135 |  0.62455   |\n",
      "|  11 |      11 |  0.950918 |  0.806874   |      0.947257 |  0.916831  |\n",
      "|  12 |      12 |  0.960597 |  0.814524   |      0.974684 |  0.426436  |\n",
      "|  13 |      13 |  0.956547 |  0.676116   |      0.940928 |  1.07026   |\n",
      "|  14 |      14 |  0.950831 |  0.956619   |      0.983122 |  0.325825  |\n",
      "|  15 |      15 |  0.963425 |  0.636217   |      0.964135 |  0.594305  |\n",
      "|  16 |      16 |  0.967128 |  0.542019   |      0.983122 |  0.310255  |\n",
      "|  17 |      17 |  0.975321 |  0.441504   |      0.983122 |  0.307591  |\n",
      "|  18 |      18 |  0.969501 |  0.458832   |      0.983122 |  0.300655  |\n",
      "|  19 |      19 |  0.972493 |  0.446236   |      0.991561 |  0.178329  |\n",
      "|  20 |      20 |  0.971441 |  0.441262   |      0.991561 |  0.250901  |\n",
      "|  21 |      21 |  0.974907 |  0.439374   |      0.976793 |  0.408342  |\n",
      "|  22 |      22 |  0.971631 |  0.433022   |      0.981013 |  0.289981  |\n",
      "|  23 |      23 |  0.973835 |  0.409568   |      0.989451 |  0.167327  |\n",
      "|  24 |      24 |  0.978365 |  0.326971   |      0.989451 |  0.145959  |\n",
      "|  25 |      25 |  0.980319 |  0.306311   |      0.991561 |  0.157949  |\n",
      "|  26 |      26 |  0.978142 |  0.365802   |      0.991561 |  0.166891  |\n",
      "|  27 |      27 |  0.982462 |  0.309188   |      0.993671 |  0.180151  |\n",
      "|  28 |      28 |  0.982265 |  0.286892   |      0.985232 |  0.27983   |\n",
      "|  29 |      29 |  0.979247 |  0.32128    |      0.991561 |  0.133276  |\n",
      "|  30 |      30 |  0.982455 |  0.274814   |      0.993671 |  0.133799  |\n",
      "|  31 |      31 |  0.9855   |  0.225684   |      0.991561 |  0.164718  |\n",
      "|  32 |      32 |  0.984435 |  0.233453   |      0.989451 |  0.153498  |\n",
      "|  33 |      33 |  0.982679 |  0.256547   |      0.991561 |  0.136964  |\n",
      "|  34 |      34 |  0.986178 |  0.214945   |      0.991561 |  0.198513  |\n",
      "|  35 |      35 |  0.986111 |  0.22718    |      0.991561 |  0.128455  |\n",
      "|  36 |      36 |  0.984178 |  0.24947    |      0.991561 |  0.129057  |\n",
      "|  37 |      37 |  0.990268 |  0.16069    |      0.989451 |  0.105035  |\n",
      "|  38 |      38 |  0.988308 |  0.190076   |      0.995781 |  0.113354  |\n",
      "|  39 |      39 |  0.98531  |  0.194535   |      0.989451 |  0.182074  |\n",
      "|  40 |      40 |  0.980509 |  0.362834   |      0.995781 |  0.085869  |\n",
      "|  41 |      41 |  0.988742 |  0.168289   |      0.991561 |  0.11982   |\n",
      "|  42 |      42 |  0.989189 |  0.164206   |      0.993671 |  0.110117  |\n",
      "|  43 |      43 |  0.988939 |  0.168509   |      0.993671 |  0.119522  |\n",
      "|  44 |      44 |  0.990906 |  0.154987   |      0.991561 |  0.100892  |\n",
      "|  45 |      45 |  0.992431 |  0.130719   |      0.993671 |  0.0985532 |\n",
      "|  46 |      46 |  0.989617 |  0.177591   |      0.991561 |  0.137409  |\n",
      "|  47 |      47 |  0.992201 |  0.127188   |      0.993671 |  0.124774  |\n",
      "|  48 |      48 |  0.991543 |  0.142347   |      0.993671 |  0.0909896 |\n",
      "|  49 |      49 |  0.988966 |  0.170201   |      0.993671 |  0.12515   |\n",
      "|  50 |      50 |  0.992852 |  0.136411   |      0.993671 |  0.109074  |\n",
      "|  51 |      51 |  0.988098 |  0.161199   |      0.995781 |  0.0987507 |\n",
      "|  52 |      52 |  0.991767 |  0.127082   |      0.993671 |  0.0843961 |\n",
      "|  53 |      53 |  0.991122 |  0.151093   |      0.993671 |  0.132819  |\n",
      "|  54 |      54 |  0.991143 |  0.144205   |      0.99789  |  0.118734  |\n",
      "|  55 |      55 |  0.993937 |  0.098503   |      0.991561 |  0.138311  |\n",
      "|  56 |      56 |  0.992017 |  0.119786   |      0.987342 |  0.171878  |\n",
      "|  57 |      57 |  0.993279 |  0.127369   |      0.995781 |  0.125845  |\n",
      "|  58 |      58 |  0.993273 |  0.118648   |      0.995781 |  0.125021  |\n",
      "|  59 |      59 |  0.993293 |  0.0928561  |      0.991561 |  0.209429  |\n",
      "|  60 |      60 |  0.993496 |  0.137002   |      0.991561 |  0.111929  |\n",
      "|  61 |      61 |  0.993937 |  0.0842604  |      0.995781 |  0.103801  |\n",
      "|  62 |      62 |  0.991997 |  0.127535   |      0.991561 |  0.157973  |\n",
      "|  63 |      63 |  0.991577 |  0.117063   |      0.991561 |  0.124196  |\n",
      "|  64 |      64 |  0.992425 |  0.112775   |      0.995781 |  0.0779215 |\n",
      "|  65 |      65 |  0.995239 |  0.0770344  |      0.993671 |  0.0854798 |\n",
      "|  66 |      66 |  0.993503 |  0.103129   |      0.991561 |  0.126275  |\n",
      "|  67 |      67 |  0.992214 |  0.10901    |      0.995781 |  0.138288  |\n",
      "|  68 |      68 |  0.995232 |  0.0739663  |      0.993671 |  0.0995027 |\n",
      "|  69 |      69 |  0.993516 |  0.0815504  |      0.993671 |  0.157705  |\n",
      "|  70 |      70 |  0.996535 |  0.0671213  |      0.995781 |  0.137814  |\n",
      "|  71 |      71 |  0.991997 |  0.121558   |      0.993671 |  0.165648  |\n",
      "|  72 |      72 |  0.995239 |  0.0910141  |      0.989451 |  0.171612  |\n",
      "|  73 |      73 |  0.994154 |  0.0986151  |      0.995781 |  0.141385  |\n",
      "|  74 |      74 |  0.99372  |  0.106759   |      0.993671 |  0.105729  |\n",
      "|  75 |      75 |  0.996962 |  0.0667645  |      0.993671 |  0.119939  |\n",
      "|  76 |      76 |  0.995463 |  0.0735235  |      0.995781 |  0.161122  |\n",
      "|  77 |      77 |  0.995673 |  0.0668263  |      0.993671 |  0.154644  |\n",
      "|  78 |      78 |  0.99395  |  0.0761166  |      0.991561 |  0.155695  |\n",
      "|  79 |      79 |  0.9961   |  0.078255   |      0.993671 |  0.108904  |\n",
      "|  80 |      80 |  0.996975 |  0.0560856  |      0.993671 |  0.130224  |\n",
      "|  81 |      81 |  0.994812 |  0.0683402  |      0.993671 |  0.149889  |\n",
      "|  82 |      82 |  0.996555 |  0.0605823  |      0.993671 |  0.149153  |\n",
      "|  83 |      83 |  0.996975 |  0.0568015  |      0.995781 |  0.139349  |\n",
      "|  84 |      84 |  0.995686 |  0.0587388  |      0.989451 |  0.248706  |\n",
      "|  85 |      85 |  0.992411 |  0.134823   |      0.993671 |  0.145192  |\n",
      "|  86 |      86 |  0.998915 |  0.039029   |      0.993671 |  0.124709  |\n",
      "|  87 |      87 |  0.995463 |  0.0704016  |      0.995781 |  0.115537  |\n",
      "|  88 |      88 |  0.99762  |  0.0506527  |      0.993671 |  0.150795  |\n",
      "|  89 |      89 |  0.996969 |  0.0525223  |      0.993671 |  0.169501  |\n",
      "|  90 |      90 |  0.995246 |  0.0646085  |      0.993671 |  0.177284  |\n",
      "|  91 |      91 |  0.998054 |  0.0456591  |      0.993671 |  0.156317  |\n",
      "|  92 |      92 |  0.997837 |  0.035258   |      0.993671 |  0.188398  |\n",
      "|  93 |      93 |  0.996541 |  0.0468374  |      0.989451 |  0.227688  |\n",
      "|  94 |      94 |  0.996752 |  0.0614628  |      0.993671 |  0.15929   |\n",
      "|  95 |      95 |  0.997613 |  0.0411304  |      0.991561 |  0.185184  |\n",
      "|  96 |      96 |  0.998264 |  0.0368086  |      0.989451 |  0.145627  |\n",
      "|  97 |      97 |  0.99762  |  0.0442266  |      0.991561 |  0.182686  |\n",
      "|  98 |      98 |  0.997186 |  0.0417187  |      0.993671 |  0.184213  |\n",
      "|  99 |      99 |  0.995015 |  0.0707303  |      0.993671 |  0.207794  |\n",
      "| 100 |     100 |  0.996752 |  0.0483901  |      0.991561 |  0.220596  |\n",
      "| 101 |     101 |  0.996548 |  0.0520778  |      0.995781 |  0.173506  |\n",
      "| 102 |     102 |  0.997186 |  0.0461573  |      0.991561 |  0.204258  |\n",
      "| 103 |     103 |  0.998481 |  0.0345476  |      0.993671 |  0.176002  |\n",
      "| 104 |     104 |  0.998271 |  0.0278428  |      0.993671 |  0.206173  |\n",
      "| 105 |     105 |  0.999356 |  0.0189248  |      0.991561 |  0.240359  |\n",
      "| 106 |     106 |  0.998054 |  0.0343726  |      0.991561 |  0.258952  |\n",
      "| 107 |     107 |  0.997403 |  0.061742   |      0.991561 |  0.201625  |\n",
      "| 108 |     108 |  0.997199 |  0.0379951  |      0.993671 |  0.202349  |\n",
      "| 109 |     109 |  0.99783  |  0.0318992  |      0.991561 |  0.152019  |\n",
      "| 110 |     110 |  0.99762  |  0.0353858  |      0.991561 |  0.159816  |\n",
      "| 111 |     111 |  0.998488 |  0.0312437  |      0.993671 |  0.153184  |\n",
      "| 112 |     112 |  0.996318 |  0.0413673  |      0.993671 |  0.13103   |\n",
      "| 113 |     113 |  0.996324 |  0.0489801  |      0.991561 |  0.198769  |\n",
      "| 114 |     114 |  0.998481 |  0.0310384  |      0.991561 |  0.240465  |\n",
      "| 115 |     115 |  0.998264 |  0.0319863  |      0.991561 |  0.27138   |\n",
      "| 116 |     116 |  0.999132 |  0.0223905  |      0.991561 |  0.228315  |\n",
      "| 117 |     117 |  0.99762  |  0.035463   |      0.991561 |  0.248429  |\n",
      "| 118 |     118 |  0.998054 |  0.0310439  |      0.991561 |  0.207525  |\n",
      "| 119 |     119 |  0.998488 |  0.0289488  |      0.993671 |  0.224418  |\n",
      "| 120 |     120 |  0.998705 |  0.0213222  |      0.995781 |  0.221068  |\n",
      "| 121 |     121 |  0.998264 |  0.0446009  |      0.993671 |  0.22877   |\n",
      "| 122 |     122 |  0.998698 |  0.029985   |      0.993671 |  0.189652  |\n",
      "| 123 |     123 |  0.999783 |  0.0175884  |      0.991561 |  0.229531  |\n",
      "| 124 |     124 |  0.997837 |  0.0319128  |      0.991561 |  0.235199  |\n",
      "| 125 |     125 |  0.998054 |  0.0278174  |      0.993671 |  0.195434  |\n",
      "| 126 |     126 |  0.998054 |  0.0420293  |      0.993671 |  0.182694  |\n",
      "| 127 |     127 |  0.998271 |  0.0268426  |      0.991561 |  0.19911   |\n",
      "| 128 |     128 |  0.997843 |  0.0311662  |      0.993671 |  0.1944    |\n",
      "| 129 |     129 |  0.998698 |  0.0342451  |      0.993671 |  0.129308  |\n",
      "| 130 |     130 |  0.998705 |  0.021075   |      0.993671 |  0.159357  |\n",
      "| 131 |     131 |  0.99806  |  0.0424048  |      0.991561 |  0.224328  |\n",
      "| 132 |     132 |  0.994792 |  0.08906    |      0.993671 |  0.16369   |\n",
      "| 133 |     133 |  0.998277 |  0.0286693  |      0.993671 |  0.172195  |\n",
      "| 134 |     134 |  0.997396 |  0.0405559  |      0.993671 |  0.189373  |\n",
      "| 135 |     135 |  0.999566 |  0.0179642  |      0.991561 |  0.193012  |\n",
      "| 136 |     136 |  0.998488 |  0.0248916  |      0.995781 |  0.19217   |\n",
      "| 137 |     137 |  0.999573 |  0.0100343  |      0.991561 |  0.188205  |\n",
      "| 138 |     138 |  0.998481 |  0.0279584  |      0.991561 |  0.211391  |\n",
      "| 139 |     139 |  0.998915 |  0.0181021  |      0.991561 |  0.185443  |\n",
      "| 140 |     140 |  0.998922 |  0.0122426  |      0.993671 |  0.162088  |\n",
      "| 141 |     141 |  0.999132 |  0.0172969  |      0.993671 |  0.173242  |\n",
      "| 142 |     142 |  0.999349 |  0.0117635  |      0.993671 |  0.217079  |\n",
      "| 143 |     143 |  0.998501 |  0.0198866  |      0.993671 |  0.150297  |\n",
      "| 144 |     144 |  0.997186 |  0.0595724  |      0.993671 |  0.200278  |\n",
      "| 145 |     145 |  0.999132 |  0.0166256  |      0.993671 |  0.216079  |\n",
      "| 146 |     146 |  0.999139 |  0.0177765  |      0.993671 |  0.18      |\n",
      "| 147 |     147 |  0.999139 |  0.0210656  |      0.991561 |  0.205191  |\n",
      "| 148 |     148 |  0.998698 |  0.0273039  |      0.993671 |  0.186369  |\n",
      "| 149 |     149 |  0.998922 |  0.0158313  |      0.993671 |  0.21603   |\n",
      "| 150 |     150 |  0.998922 |  0.0200243  |      0.993671 |  0.1738    |\n",
      "| 151 |     151 |  0.998488 |  0.0250895  |      0.993671 |  0.269091  |\n",
      "| 152 |     152 |  0.997613 |  0.0432609  |      0.995781 |  0.175514  |\n",
      "| 153 |     153 |  0.999349 |  0.0148265  |      0.995781 |  0.16142   |\n",
      "| 154 |     154 |  0.998705 |  0.0196413  |      0.991561 |  0.192048  |\n",
      "| 155 |     155 |  0.998488 |  0.0207236  |      0.995781 |  0.179664  |\n",
      "| 156 |     156 |  0.999566 |  0.0174421  |      0.993671 |  0.222066  |\n",
      "| 157 |     157 |  1        |  0.00614791 |      0.991561 |  0.211802  |\n",
      "| 158 |     158 |  0.998698 |  0.0177167  |      0.993671 |  0.206283  |\n",
      "| 159 |     159 |  0.998494 |  0.0173909  |      0.991561 |  0.264008  |\n",
      "| 160 |     160 |  0.997843 |  0.0214042  |      0.991561 |  0.230796  |\n",
      "| 161 |     161 |  0.999349 |  0.0223159  |      0.993671 |  0.199008  |\n",
      "| 162 |     162 |  0.999349 |  0.0199492  |      0.991561 |  0.269084  |\n",
      "| 163 |     163 |  0.998711 |  0.0170641  |      0.993671 |  0.282076  |\n",
      "| 164 |     164 |  0.999566 |  0.0145906  |      0.991561 |  0.281648  |\n",
      "| 165 |     165 |  1        |  0.0073844  |      0.991561 |  0.220166  |\n",
      "| 166 |     166 |  0.999139 |  0.0108338  |      0.991561 |  0.233814  |\n",
      "| 167 |     167 |  1        |  0.00842103 |      0.991561 |  0.237537  |\n",
      "| 168 |     168 |  0.999783 |  0.0102816  |      0.993671 |  0.201289  |\n",
      "| 169 |     169 |  0.999349 |  0.0169046  |      0.993671 |  0.197331  |\n",
      "| 170 |     170 |  0.998922 |  0.0157245  |      0.995781 |  0.158155  |\n",
      "| 171 |     171 |  0.998284 |  0.0236245  |      0.993671 |  0.325938  |\n",
      "| 172 |     172 |  0.998264 |  0.0426608  |      0.991561 |  0.251098  |\n",
      "| 173 |     173 |  0.998922 |  0.0165502  |      0.993671 |  0.186806  |\n",
      "| 174 |     174 |  0.999139 |  0.0170902  |      0.993671 |  0.232054  |\n",
      "| 175 |     175 |  0.998922 |  0.0143816  |      0.993671 |  0.24251   |\n",
      "| 176 |     176 |  0.999132 |  0.018774   |      0.991561 |  0.206691  |\n",
      "| 177 |     177 |  0.999783 |  0.0132351  |      0.993671 |  0.242126  |\n",
      "| 178 |     178 |  0.999139 |  0.0187128  |      0.991561 |  0.308041  |\n",
      "| 179 |     179 |  0.999349 |  0.0137317  |      0.993671 |  0.250704  |\n",
      "| 180 |     180 |  0.999132 |  0.0197814  |      0.993671 |  0.27435   |\n",
      "| 181 |     181 |  0.999349 |  0.0157538  |      0.993671 |  0.25409   |\n",
      "| 182 |     182 |  0.999356 |  0.0219595  |      0.991561 |  0.216751  |\n",
      "| 183 |     183 |  0.999139 |  0.0323315  |      0.991561 |  0.252685  |\n",
      "| 184 |     184 |  0.999566 |  0.00846112 |      0.993671 |  0.229402  |\n",
      "| 185 |     185 |  0.999132 |  0.0103339  |      0.993671 |  0.226325  |\n",
      "| 186 |     186 |  0.999566 |  0.0104596  |      0.991561 |  0.26097   |\n",
      "| 187 |     187 |  0.998705 |  0.0185161  |      0.991561 |  0.26989   |\n",
      "| 188 |     188 |  0.999139 |  0.0168829  |      0.991561 |  0.251417  |\n",
      "| 189 |     189 |  1        |  0.00545663 |      0.991561 |  0.237248  |\n",
      "| 190 |     190 |  1        |  0.00434585 |      0.991561 |  0.265587  |\n",
      "| 191 |     191 |  0.999132 |  0.0136709  |      0.991561 |  0.244732  |\n",
      "| 192 |     192 |  0.999566 |  0.0112115  |      0.993671 |  0.227348  |\n",
      "| 193 |     193 |  0.999783 |  0.0146901  |      0.991561 |  0.225873  |\n",
      "| 194 |     194 |  1        |  0.00462373 |      0.991561 |  0.225541  |\n",
      "| 195 |     195 |  0.998711 |  0.00773147 |      0.991561 |  0.198237  |\n",
      "| 196 |     196 |  0.998711 |  0.0137963  |      0.991561 |  0.251369  |\n",
      "| 197 |     197 |  0.999783 |  0.0138112  |      0.993671 |  0.212846  |\n",
      "| 198 |     198 |  1        |  0.00418034 |      0.993671 |  0.194436  |\n",
      "| 199 |     199 |  0.999573 |  0.00479714 |      0.993671 |  0.19033   |\n"
     ]
    }
   ],
   "source": [
    "#for the training we fit our model and use the batch size and epochs from our constants\n",
    "history = swizzle_model.fit( train_images,\n",
    "                             train_annots,\n",
    "                             batch_size=BATCH_SIZE,\n",
    "                             epochs=EPOCHS,\n",
    "                             verbose=1,\n",
    "                             use_multiprocessing=True,\n",
    "                             validation_data=(validate_images,validate_annots),\n",
    "                             callbacks=[csv_logger],\n",
    ")\n",
    "\n",
    "swizzle_model_metrics = pd.read_csv('../data/model/metrics_op.csv')\n",
    "print(swizzle_model_metrics.to_markdown())"
   ]
  },
  {
   "cell_type": "code",
   "execution_count": 20,
   "metadata": {},
   "outputs": [
    {
     "data": {
      "image/png": "[encoded data removed]",
      "text/plain": [
       "<Figure size 1000x1000 with 2 Axes>"
      ]
     },
     "metadata": {},
     "output_type": "display_data"
    }
   ],
   "source": [
    "#show plots for our loss function and the accurancy\n",
    "fig = plt.figure(figsize=(10, 10))\n",
    "\n",
    "ax = plt.subplot(2, 2, 1)\n",
    "plt.plot(history.history['loss'], label='Loss', color= '#7900AA')\n",
    "plt.plot(history.history['val_loss'], label='Validation Loss', color = 'c')\n",
    "plt.legend()\n",
    "plt.title('Training - Loss Function')\n",
    "\n",
    "ax.spines['right'].set_visible(False)\n",
    "ax.spines['top'].set_visible(False)\n",
    "\n",
    "ax2 = plt.subplot(2, 2, 2)\n",
    "plt.plot(history.history['avg_acc'], label='avg. Accuracy', color = '#7900AA')\n",
    "plt.plot(history.history['val_avg_acc'], label='Validation avg. Accuracy', color = 'c')\n",
    "plt.legend()\n",
    "plt.title('Train - Accuracy')\n",
    "\n",
    "ax2.spines['right'].set_visible(False)\n",
    "ax2.spines['top'].set_visible(False)\n",
    "\n",
    "fig.savefig('../data/model/plots_1song_of.png')"
   ]
  },
  {
   "cell_type": "code",
   "execution_count": 21,
   "metadata": {},
   "outputs": [
    {
     "name": "stdout",
     "output_type": "stream",
     "text": [
      "Test Loss : 0.1503\n",
      "Test Accuracy : 0.9874\n"
     ]
    }
   ],
   "source": [
    "#print results of our swizzle model metrics for training\n",
    "score = swizzle_model.evaluate(test_images,test_annots,verbose=0)\n",
    "print('Test Loss : {:.4f}'.format(score[0]))\n",
    "print('Test Accuracy : {:.4f}'.format(score[1]))"
   ]
  },
  {
   "cell_type": "code",
   "execution_count": 22,
   "metadata": {},
   "outputs": [
    {
     "name": "stderr",
     "output_type": "stream",
     "text": [
      "2023-01-16 18:23:49.350259: I tensorflow/core/grappler/optimizers/custom_graph_optimizer_registry.cc:113] Plugin optimizer for device_type GPU is enabled.\n"
     ]
    }
   ],
   "source": [
    "#the prediction of our model will show us an array with the strings played in the\n",
    "# belonging frame\n",
    "model_output = swizzle_model.predict(test_images)"
   ]
  },
  {
   "cell_type": "code",
   "execution_count": 23,
   "metadata": {},
   "outputs": [],
   "source": [
    "#precision = precision_score(test_annots, model_output, pos_label=\"positive\")\n",
    "#print(precision)"
   ]
  },
  {
   "cell_type": "code",
   "execution_count": 24,
   "metadata": {},
   "outputs": [
    {
     "name": "stdout",
     "output_type": "stream",
     "text": [
      "(196, 6, 21)\n",
      "[[1. 0. 0. 0. 0. 0. 0. 0. 0. 0. 0. 0. 0. 0. 0. 0. 0. 0. 0. 0. 0.]\n",
      " [1. 0. 0. 0. 0. 0. 0. 0. 0. 0. 0. 0. 0. 0. 0. 0. 0. 0. 0. 0. 0.]\n",
      " [1. 0. 0. 0. 0. 0. 0. 0. 0. 0. 0. 0. 0. 0. 0. 0. 0. 0. 0. 0. 0.]\n",
      " [1. 0. 0. 0. 0. 0. 0. 0. 0. 0. 0. 0. 0. 0. 0. 0. 0. 0. 0. 0. 0.]\n",
      " [0. 0. 0. 0. 0. 0. 0. 0. 0. 0. 0. 0. 0. 0. 1. 0. 0. 0. 0. 0. 0.]\n",
      " [1. 0. 0. 0. 0. 0. 0. 0. 0. 0. 0. 0. 0. 0. 0. 0. 0. 0. 0. 0. 0.]]\n",
      "(196, 6, 21)\n",
      "[[1. 0. 0. 0. 0. 0. 0. 0. 0. 0. 0. 0. 0. 0. 0. 0. 0. 0. 0. 0. 0.]\n",
      " [1. 0. 0. 0. 0. 0. 0. 0. 0. 0. 0. 0. 0. 0. 0. 0. 0. 0. 0. 0. 0.]\n",
      " [1. 0. 0. 0. 0. 0. 0. 0. 0. 0. 0. 0. 0. 0. 0. 0. 0. 0. 0. 0. 0.]\n",
      " [1. 0. 0. 0. 0. 0. 0. 0. 0. 0. 0. 0. 0. 0. 0. 0. 0. 0. 0. 0. 0.]\n",
      " [0. 0. 0. 0. 0. 0. 0. 0. 0. 0. 0. 0. 0. 0. 1. 0. 0. 0. 0. 0. 0.]\n",
      " [1. 0. 0. 0. 0. 0. 0. 0. 0. 0. 0. 0. 0. 0. 0. 0. 0. 0. 0. 0. 0.]]\n"
     ]
    }
   ],
   "source": [
    "#we can have look on the output arrays. We rounded them to have a better overview. \n",
    "#Thats the first entry with a size of 6 by 21.\n",
    "print(test_annots.shape)\n",
    "print(np.round(test_annots[:1][0],2))\n",
    "print(model_output.shape)\n",
    "print(np.round(model_output[:1][0],2))\n"
   ]
  },
  {
   "cell_type": "code",
   "execution_count": 25,
   "metadata": {},
   "outputs": [
    {
     "name": "stderr",
     "output_type": "stream",
     "text": [
      "2023-01-16 18:23:49.790309: W tensorflow/python/util/util.cc:368] Sets are not currently considered sequences, but this may change in the future, so consider avoiding using them.\n"
     ]
    },
    {
     "name": "stdout",
     "output_type": "stream",
     "text": [
      "INFO:tensorflow:Assets written to: ../app/model/swizzle_model_1song_of/assets\n",
      "WARNING:tensorflow:Unable to restore custom metric. Please ensure that the layer implements `get_config` and `from_config` when saving. In addition, please use the `custom_objects` arg when calling `load_model()`.\n"
     ]
    }
   ],
   "source": [
    "# Save the entire model as a SavedModel.\n",
    "swizzle_model.save('../app/model/swizzle_model_1song_of')\n",
    "\n",
    "loaded_swizzle_model = keras.models.load_model(\"../app/model/swizzle_model_1song_of\", compile = False)"
   ]
  },
  {
   "cell_type": "code",
   "execution_count": 26,
   "metadata": {},
   "outputs": [],
   "source": [
    "# Save and load the model output\n",
    "np.save(\"../app/model/model_output_1song_of.npy\", model_output, allow_pickle=True, fix_imports=True)\n",
    "\n",
    "#np.load(\"../app/model/model_output.npy\")\n"
   ]
  },
  {
   "cell_type": "markdown",
   "metadata": {},
   "source": []
  },
  {
   "attachments": {},
   "cell_type": "markdown",
   "metadata": {},
   "source": [
    "## __Try Swizzle-Model out in one Song!__"
   ]
  },
  {
   "cell_type": "code",
   "execution_count": 27,
   "metadata": {},
   "outputs": [
    {
     "name": "stdout",
     "output_type": "stream",
     "text": [
      "WARNING:tensorflow:Unable to restore custom metric. Please ensure that the layer implements `get_config` and `from_config` when saving. In addition, please use the `custom_objects` arg when calling `load_model()`.\n"
     ]
    }
   ],
   "source": [
    "loaded_swizzle_model = keras.models.load_model(\"../app/model/swizzle_model_1song_of\", compile = False)"
   ]
  },
  {
   "cell_type": "code",
   "execution_count": 28,
   "metadata": {},
   "outputs": [],
   "source": [
    "#f_images_load = np.load('../data/output/00_BN1-129-Eb_solo_mic_data.npz')\n",
    "#f_images = f_images_load['arr_0']\n",
    "#f_true_load = np.load('../data/output/00_BN1-129-Eb_solo_mic_labels.npz')\n",
    "#f_true = f_true_load['arr_0']"
   ]
  },
  {
   "cell_type": "code",
   "execution_count": 29,
   "metadata": {},
   "outputs": [],
   "source": [
    "X_images = test_images\n",
    "y_true = test_annots"
   ]
  },
  {
   "cell_type": "code",
   "execution_count": 30,
   "metadata": {},
   "outputs": [
    {
     "name": "stderr",
     "output_type": "stream",
     "text": [
      "2023-01-16 18:23:52.553734: I tensorflow/core/grappler/optimizers/custom_graph_optimizer_registry.cc:113] Plugin optimizer for device_type GPU is enabled.\n"
     ]
    }
   ],
   "source": [
    "y_pred = loaded_swizzle_model.predict(X_images)"
   ]
  },
  {
   "cell_type": "code",
   "execution_count": 31,
   "metadata": {},
   "outputs": [
    {
     "name": "stdout",
     "output_type": "stream",
     "text": [
      "(196, 6, 21)\n",
      "<class 'numpy.dtype[float64]'>\n",
      "[[1. 0. 0. 0. 0. 0. 0. 0. 0. 0. 0. 0. 0. 0. 0. 0. 0. 0. 0. 0. 0.]\n",
      " [1. 0. 0. 0. 0. 0. 0. 0. 0. 0. 0. 0. 0. 0. 0. 0. 0. 0. 0. 0. 0.]\n",
      " [1. 0. 0. 0. 0. 0. 0. 0. 0. 0. 0. 0. 0. 0. 0. 0. 0. 0. 0. 0. 0.]\n",
      " [1. 0. 0. 0. 0. 0. 0. 0. 0. 0. 0. 0. 0. 0. 0. 0. 0. 0. 0. 0. 0.]\n",
      " [1. 0. 0. 0. 0. 0. 0. 0. 0. 0. 0. 0. 0. 0. 0. 0. 0. 0. 0. 0. 0.]\n",
      " [1. 0. 0. 0. 0. 0. 0. 0. 0. 0. 0. 0. 0. 0. 0. 0. 0. 0. 0. 0. 0.]]\n",
      "(196, 6, 21)\n",
      "<class 'numpy.dtype[float64]'>\n",
      "[[1. 0. 0. 0. 0. 0. 0. 0. 0. 0. 0. 0. 0. 0. 0. 0. 0. 0. 0. 0. 0.]\n",
      " [1. 0. 0. 0. 0. 0. 0. 0. 0. 0. 0. 0. 0. 0. 0. 0. 0. 0. 0. 0. 0.]\n",
      " [1. 0. 0. 0. 0. 0. 0. 0. 0. 0. 0. 0. 0. 0. 0. 0. 0. 0. 0. 0. 0.]\n",
      " [1. 0. 0. 0. 0. 0. 0. 0. 0. 0. 0. 0. 0. 0. 0. 0. 0. 0. 0. 0. 0.]\n",
      " [1. 0. 0. 0. 0. 0. 0. 0. 0. 0. 0. 0. 0. 0. 0. 0. 0. 0. 0. 0. 0.]\n",
      " [1. 0. 0. 0. 0. 0. 0. 0. 0. 0. 0. 0. 0. 0. 0. 0. 0. 0. 0. 0. 0.]]\n"
     ]
    }
   ],
   "source": [
    "np.set_printoptions(threshold=np.inf)\n",
    "print(y_true.shape)\n",
    "print(type(y_true.dtype))\n",
    "print(y_true[1])\n",
    "print(y_pred.shape)\n",
    "print(type(test_annots.dtype))\n",
    "print(np.round(y_pred[1]))\n"
   ]
  },
  {
   "cell_type": "code",
   "execution_count": 32,
   "metadata": {},
   "outputs": [],
   "source": [
    "test_array = np.load('test_array.npy')"
   ]
  },
  {
   "cell_type": "code",
   "execution_count": 33,
   "metadata": {},
   "outputs": [
    {
     "name": "stdout",
     "output_type": "stream",
     "text": [
      "length of the list below: 196 entries\n",
      "1: Frames which are NOT empty!\n",
      "0: Frames which are empty\n"
     ]
    },
    {
     "data": {
      "text/plain": [
       "1    99\n",
       "0    97\n",
       "dtype: int64"
      ]
     },
     "execution_count": 33,
     "metadata": {},
     "output_type": "execute_result"
    }
   ],
   "source": [
    "result = []\n",
    "\n",
    "for i in y_pred:\n",
    "    corr_i = np.zeros_like(i)\n",
    "    for sidx, string in enumerate(i):\n",
    "        corr_i[sidx][np.argmax(string)] = 1\n",
    "    \n",
    "    x = np.array_equal(test_array, corr_i)\n",
    "    if x == True:\n",
    "        result.append(0)\n",
    "    else:\n",
    "        result.append(1)\n",
    "print('length of the list below:',len(result),'entries')\n",
    "#print(result)\n",
    "df = pd.DataFrame(result)\n",
    "print('1: Frames which are NOT empty!')\n",
    "print('0: Frames which are empty')\n",
    "df.value_counts()\n"
   ]
  },
  {
   "cell_type": "code",
   "execution_count": 45,
   "metadata": {},
   "outputs": [
    {
     "name": "stdout",
     "output_type": "stream",
     "text": [
      "(196, 6, 21)\n",
      "[[1. 0. 0. 0. 0. 0. 0. 0. 0. 0. 0. 0. 0. 0. 0. 0. 0. 0. 0. 0. 0.]\n",
      " [1. 0. 0. 0. 0. 0. 0. 0. 0. 0. 0. 0. 0. 0. 0. 0. 0. 0. 0. 0. 0.]\n",
      " [0. 0. 0. 0. 0. 0. 0. 0. 0. 1. 0. 0. 0. 0. 0. 0. 0. 0. 0. 0. 0.]\n",
      " [1. 0. 0. 0. 0. 0. 0. 0. 0. 0. 0. 0. 0. 0. 0. 0. 0. 0. 0. 0. 0.]\n",
      " [1. 0. 0. 0. 0. 0. 0. 0. 0. 0. 0. 0. 0. 0. 0. 0. 0. 0. 0. 0. 0.]\n",
      " [1. 0. 0. 0. 0. 0. 0. 0. 0. 0. 0. 0. 0. 0. 0. 0. 0. 0. 0. 0. 0.]]\n",
      "#__________________________________________________________#\n",
      "(196, 6, 21)\n",
      "[[1. 0. 0. 0. 0. 0. 0. 0. 0. 0. 0. 0. 0. 0. 0. 0. 0. 0. 0. 0. 0.]\n",
      " [1. 0. 0. 0. 0. 0. 0. 0. 0. 0. 0. 0. 0. 0. 0. 0. 0. 0. 0. 0. 0.]\n",
      " [0. 0. 0. 0. 0. 0. 0. 0. 0. 1. 0. 0. 0. 0. 0. 0. 0. 0. 0. 0. 0.]\n",
      " [1. 0. 0. 0. 0. 0. 0. 0. 0. 0. 0. 0. 0. 0. 0. 0. 0. 0. 0. 0. 0.]\n",
      " [1. 0. 0. 0. 0. 0. 0. 0. 0. 0. 0. 0. 0. 0. 0. 0. 0. 0. 0. 0. 0.]\n",
      " [1. 0. 0. 0. 0. 0. 0. 0. 0. 0. 0. 0. 0. 0. 0. 0. 0. 0. 0. 0. 0.]]\n"
     ]
    }
   ],
   "source": [
    "from sklearn.metrics import accuracy_score, precision_score,recall_score,f1_score\n",
    "\n",
    "print(y_true.shape)\n",
    "print(y_true[7])\n",
    "print('#__________________________________________________________#')\n",
    "print(y_pred.shape)\n",
    "y_true_ravel = y_true.ravel()\n",
    "\n",
    "# argmax the shizzle out of the swizzle\n",
    "corr_y_pred = np.zeros_like(y_pred)\n",
    "\n",
    "for fidx, frame in enumerate(y_pred):\n",
    "    for sidx, string in enumerate(frame):\n",
    "        corr_y_pred[fidx][sidx][np.argmax(string)] = 1\n",
    "\n",
    "print(corr_y_pred[7])\n",
    "\n",
    "corr_y_pred_ravel = corr_y_pred.ravel()\n",
    "#print(corr_y_pred_ravel[:50])\n",
    "#print(y_true_ravel[:50])\n"
   ]
  },
  {
   "cell_type": "code",
   "execution_count": 35,
   "metadata": {},
   "outputs": [
    {
     "name": "stdout",
     "output_type": "stream",
     "text": [
      "#__________________________________________________________#\n",
      "Accuracy score: 0.9991901522513768\n",
      "#__________________________________________________________#\n",
      "Precision score: 0.9914965986394558\n",
      "#__________________________________________________________#\n",
      "Recall score: 0.9914965986394558\n",
      "#__________________________________________________________#\n",
      "f1_score: 0.9914965986394558\n"
     ]
    }
   ],
   "source": [
    "acc = accuracy_score(y_true_ravel, corr_y_pred_ravel)\n",
    "prec = precision_score(y_true_ravel, corr_y_pred_ravel)\n",
    "rec = recall_score(y_true_ravel, corr_y_pred_ravel)\n",
    "f1 = f1_score(y_true_ravel, corr_y_pred_ravel)\n",
    "\n",
    "\n",
    "print('#__________________________________________________________#')\n",
    "print('Accuracy score:', acc)\n",
    "print('#__________________________________________________________#')\n",
    "print('Precision score:', prec)\n",
    "print('#__________________________________________________________#')\n",
    "print('Recall score:', rec)\n",
    "print('#__________________________________________________________#')\n",
    "print('f1_score:', f1)"
   ]
  },
  {
   "attachments": {},
   "cell_type": "markdown",
   "metadata": {},
   "source": [
    "# Data characteristics and Error analysis"
   ]
  },
  {
   "cell_type": "code",
   "execution_count": 36,
   "metadata": {},
   "outputs": [],
   "source": [
    "def data_characteristics(labels: np.array, verbose: bool = True):\n",
    "    dc = {\n",
    "        'empty_frames': 0,\n",
    "        'single_note_frames': 0,\n",
    "        'multi_note_frames': 0\n",
    "    }\n",
    "\n",
    "    # empty frame\n",
    "    empty = [[1, 0, 0, 0, 0, 0, 0, 0, 0, 0, 0, 0, 0, 0, 0, 0, 0, 0, 0, 0, 0.],\n",
    "             [1, 0, 0, 0, 0, 0, 0, 0, 0, 0, 0, 0, 0, 0, 0, 0, 0, 0, 0, 0, 0.],\n",
    "             [1, 0, 0, 0, 0, 0, 0, 0, 0, 0, 0, 0, 0, 0, 0, 0, 0, 0, 0, 0, 0.],\n",
    "             [1, 0, 0, 0, 0, 0, 0, 0, 0, 0, 0, 0, 0, 0, 0, 0, 0, 0, 0, 0, 0.],\n",
    "             [1, 0, 0, 0, 0, 0, 0, 0, 0, 0, 0, 0, 0, 0, 0, 0, 0, 0, 0, 0, 0.],\n",
    "             [1, 0, 0, 0, 0, 0, 0, 0, 0, 0, 0, 0, 0, 0, 0, 0, 0, 0, 0, 0, 0.]]\n",
    "\n",
    "    if labels.shape[1:] == (6, 21):\n",
    "\n",
    "        for fidx, frame in enumerate(labels):\n",
    "\n",
    "            if np.all(frame == empty):\n",
    "                dc['empty_frames'] += 1\n",
    "\n",
    "            else:\n",
    "                # get number of notes played by number of strings played\n",
    "                n_notes = 6 - sum([i[0] for i in frame])\n",
    "                if n_notes == 1:\n",
    "                    dc['single_note_frames'] += 1\n",
    "                elif n_notes > 1:\n",
    "                    dc['multi_note_frames'] += 1\n",
    "                else: continue\n",
    "    \n",
    "\n",
    "    if verbose:\n",
    "        print(\"-\"*30)\n",
    "        print(\"|\", \" \"*5, \"Label analysis\", \" \"*5, \"|\")\n",
    "        print(\"-\"*30)\n",
    "\n",
    "        for key, value in dc.items():\n",
    "            if key in ['strings_correct', 'null_correct', 'fully_correct']:\n",
    "                print('-'*30)\n",
    "\n",
    "            print(f\"| {key:<19}: {value:>5} |\")\n",
    "\n",
    "        print(\"-\"*30)\n",
    "    \n",
    "    return dc"
   ]
  },
  {
   "cell_type": "code",
   "execution_count": 37,
   "metadata": {},
   "outputs": [
    {
     "name": "stdout",
     "output_type": "stream",
     "text": [
      "------------------------------\n",
      "|       Label analysis       |\n",
      "------------------------------\n",
      "| empty_frames       :    94 |\n",
      "| single_note_frames :   100 |\n",
      "| multi_note_frames  :     2 |\n",
      "------------------------------\n"
     ]
    }
   ],
   "source": [
    "_ = data_characteristics(y_true, verbose=True)"
   ]
  },
  {
   "cell_type": "code",
   "execution_count": 38,
   "metadata": {},
   "outputs": [],
   "source": [
    "def error_analysis(true: np.array, test: np.array, transform_preds: bool = True, verbose: bool = True):\n",
    "    \"\"\"Takes true labels and (transformed) test labels in the (n, 6, 21) shape and performs error analysis.\n",
    "\n",
    "    Args:\n",
    "        true (np.array): True labels. Shape expected (n, 6, 21)\n",
    "        test (np.array): Test labels. Shape expected (n, 6, 21)\n",
    "        transform_preds (bool): If true, transforms prediction probabilities to 0 or 1 using argmax. Defaults to True.\n",
    "        verbose (bool): If true, prints out results. Defaults to True.\n",
    "    \n",
    "    Returns:\n",
    "        dict: Dictionary with error analysis data.\n",
    "    \"\"\"\n",
    "\n",
    "    ea = {\n",
    "    'frets_correct': 0,\n",
    "    'frets_wrong': 0,\n",
    "    'strings_correct': 0,\n",
    "    'strings_wrong': 0,\n",
    "    'null_correct': 0,\n",
    "    'null_wrong': 0,\n",
    "    'null_total': 0,\n",
    "    'fully_correct': 0,\n",
    "    'part_correct': 0,\n",
    "    'fully_wrong': 0,\n",
    "    'total': 0\n",
    "}\n",
    "\n",
    "\n",
    "    # transform predictions to be [0, 1]\n",
    "    if transform_preds:\n",
    "        temp = np.zeros_like(test)\n",
    "        for fidx, frame in enumerate(test):\n",
    "            for sidx, string in enumerate(frame):\n",
    "                temp[fidx][sidx][np.argmax(string)] = 1\n",
    "        \n",
    "        test = temp\n",
    "        del temp\n",
    "\n",
    "\n",
    "    # empty frame\n",
    "    empty = [[1, 0, 0, 0, 0, 0, 0, 0, 0, 0, 0, 0, 0, 0, 0, 0, 0, 0, 0, 0, 0.],\n",
    "             [1, 0, 0, 0, 0, 0, 0, 0, 0, 0, 0, 0, 0, 0, 0, 0, 0, 0, 0, 0, 0.],\n",
    "             [1, 0, 0, 0, 0, 0, 0, 0, 0, 0, 0, 0, 0, 0, 0, 0, 0, 0, 0, 0, 0.],\n",
    "             [1, 0, 0, 0, 0, 0, 0, 0, 0, 0, 0, 0, 0, 0, 0, 0, 0, 0, 0, 0, 0.],\n",
    "             [1, 0, 0, 0, 0, 0, 0, 0, 0, 0, 0, 0, 0, 0, 0, 0, 0, 0, 0, 0, 0.],\n",
    "             [1, 0, 0, 0, 0, 0, 0, 0, 0, 0, 0, 0, 0, 0, 0, 0, 0, 0, 0, 0, 0.]]\n",
    "\n",
    "\n",
    "    # for all frames in true labels\n",
    "    for idx, frame in enumerate(true):\n",
    "\n",
    "        # if no notes were played\n",
    "        if np.all(frame == empty):\n",
    "\n",
    "            if np.all(frame == test[idx]):\n",
    "                ea['null_correct'] += 1\n",
    "            else:\n",
    "                ea['null_wrong'] += 1\n",
    "\n",
    "            ea['null_total'] += 1\n",
    "\n",
    "        # if a note was played\n",
    "        else:\n",
    "            # strings match\n",
    "            if np.all(frame[:, 0] == test[idx][:, 0]):\n",
    "                ea['strings_correct'] += 1\n",
    "            \n",
    "            else: \n",
    "                ea['strings_wrong'] += 1\n",
    "\n",
    "            # frets match\n",
    "            if np.all(frame[:, 1:] == test[idx][:, 1:]):\n",
    "                ea['frets_correct'] += 1\n",
    "            \n",
    "            # only some of the frets match\n",
    "            elif np.any(frame[:, 1:] == test[idx][:, 1:]):\n",
    "                ea['part_correct'] += 1\n",
    "                ea['frets_wrong'] += 1\n",
    "\n",
    "            # no frets match\n",
    "            elif not np.any(frame[:, 1:] == test[idx][:, 1:]):\n",
    "                ea['frets_wrong'] += 1\n",
    "\n",
    "            # nothing matches\n",
    "            if not np.any(frame == test[idx]):\n",
    "                ea['fully_wrong'] += 1\n",
    "            \n",
    "            # everything matches\n",
    "            if np.all(frame == test[idx]):\n",
    "                ea['fully_correct'] += 1\n",
    "        \n",
    "        # increase frame counter\n",
    "        ea['total'] += 1\n",
    "        \n",
    "    if verbose:\n",
    "        print(\"-\"*26)\n",
    "        print(\"|\", \" \"*3, \"Error analysis\", \" \"*3, \"|\")\n",
    "        print(\"-\"*26)\n",
    "\n",
    "        for key, value in ea.items():\n",
    "            if key in ['strings_correct', 'null_correct', 'fully_correct']:\n",
    "                print('-'*26)\n",
    "\n",
    "            print(f\"| {key:<15}: {value:>5} |\")\n",
    "\n",
    "        print(\"-\"*26)\n",
    "    \n",
    "    return ea"
   ]
  },
  {
   "cell_type": "code",
   "execution_count": 39,
   "metadata": {},
   "outputs": [
    {
     "name": "stdout",
     "output_type": "stream",
     "text": [
      "--------------------------\n",
      "|     Error analysis     |\n",
      "--------------------------\n",
      "| frets_correct  :    96 |\n",
      "| frets_wrong    :     6 |\n",
      "--------------------------\n",
      "| strings_correct:    96 |\n",
      "| strings_wrong  :     6 |\n",
      "--------------------------\n",
      "| null_correct   :    92 |\n",
      "| null_wrong     :     2 |\n",
      "| null_total     :    94 |\n",
      "--------------------------\n",
      "| fully_correct  :    96 |\n",
      "| part_correct   :     6 |\n",
      "| fully_wrong    :     0 |\n",
      "| total          :   196 |\n",
      "--------------------------\n"
     ]
    }
   ],
   "source": [
    "errors = error_analysis(y_true, y_pred, transform_preds=True, verbose=True)"
   ]
  },
  {
   "cell_type": "code",
   "execution_count": 40,
   "metadata": {},
   "outputs": [
    {
     "data": {
      "text/plain": [
       "196"
      ]
     },
     "execution_count": 40,
     "metadata": {},
     "output_type": "execute_result"
    }
   ],
   "source": [
    "errors['total']"
   ]
  },
  {
   "cell_type": "code",
   "execution_count": 41,
   "metadata": {},
   "outputs": [
    {
     "name": "stdout",
     "output_type": "stream",
     "text": [
      "Total percentage of right predicted values of all values: 95.91836734693878\n",
      "Percentage of right predicted strings out of strings: 94.11764705882352\n",
      "Percentage of right predicted frets out of frets: 94.11764705882352\n"
     ]
    }
   ],
   "source": [
    "#total percentage of total values\n",
    "a = errors['total']/100\n",
    "t = (errors['fully_correct']+errors['null_correct'])/a\n",
    "print('Total percentage of right predicted values of all values:',t)\n",
    "\n",
    "#strings percentage of all strings\n",
    "strings = errors['strings_correct']+errors['strings_wrong']\n",
    "b = strings/100\n",
    "s = errors['strings_correct']/b\n",
    "print('Percentage of right predicted strings out of strings:',s)\n",
    "#fret percentage of all frets\n",
    "strings = errors['frets_correct']+errors['frets_wrong']\n",
    "c = strings/100\n",
    "f = errors['frets_correct']/c\n",
    "print('Percentage of right predicted frets out of frets:',f)"
   ]
  }
 ],
 "metadata": {
  "kernelspec": {
   "display_name": ".venv",
   "language": "python",
   "name": "python3"
  },
  "language_info": {
   "codemirror_mode": {
    "name": "ipython",
    "version": 3
   },
   "file_extension": ".py",
   "mimetype": "text/x-python",
   "name": "python",
   "nbconvert_exporter": "python",
   "pygments_lexer": "ipython3",
   "version": "3.9.8"
  },
  "orig_nbformat": 4,
  "vscode": {
   "interpreter": {
    "hash": "c883442287411cfd35d895069543a936e2e23cdf2e951a28e4bcbe06352d4147"
   }
  }
 },
 "nbformat": 4,
 "nbformat_minor": 2
}
